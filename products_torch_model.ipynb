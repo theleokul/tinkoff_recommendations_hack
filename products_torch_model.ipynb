{
  "nbformat": 4,
  "nbformat_minor": 0,
  "metadata": {
    "kernelspec": {
      "display_name": "Python 3",
      "language": "python",
      "name": "python3"
    },
    "language_info": {
      "codemirror_mode": {
        "name": "ipython",
        "version": 3
      },
      "file_extension": ".py",
      "mimetype": "text/x-python",
      "name": "python",
      "nbconvert_exporter": "python",
      "pygments_lexer": "ipython3",
      "version": "3.7.3"
    },
    "colab": {
      "name": "products_torch_model.ipynb",
      "provenance": [],
      "collapsed_sections": []
    },
    "accelerator": "GPU"
  },
  "cells": [
    {
      "cell_type": "code",
      "metadata": {
        "id": "EqDGrRmUJ_Ed",
        "colab_type": "code",
        "colab": {}
      },
      "source": [
        ""
      ],
      "execution_count": null,
      "outputs": []
    },
    {
      "cell_type": "markdown",
      "metadata": {
        "id": "UWBmxd4_smom",
        "colab_type": "text"
      },
      "source": [
        "## Ideas for feature improvements\n",
        "\n",
        "1. Analise an amount of account_rk per perty_rk correlation with products\n",
        "2. Add features\n",
        "3. Try out more complex architecture\n"
      ]
    },
    {
      "cell_type": "code",
      "metadata": {
        "id": "BCK6iOXjsmon",
        "colab_type": "code",
        "colab": {
          "base_uri": "https://localhost:8080/",
          "height": 52
        },
        "outputId": "7c60b6d8-93be-4574-ea87-0e9d3b09ee1e"
      },
      "source": [
        "import pandas as pd\n",
        "import matplotlib.pyplot as plt\n",
        "import seaborn as sns\n",
        "from sklearn.preprocessing import StandardScaler\n",
        "from sklearn.model_selection import train_test_split\n",
        "from sklearn.model_selection import GridSearchCV\n",
        "from sklearn.ensemble import RandomForestClassifier\n",
        "sns.set()\n",
        "sns.set_style('whitegrid')\n",
        "\n",
        "%matplotlib inline\n",
        "\n",
        "import numpy as np\n",
        "from sklearn.manifold import TSNE\n",
        "\n",
        "from sklearn.compose import ColumnTransformer\n",
        "from sklearn.preprocessing import StandardScaler,OneHotEncoder, MinMaxScaler,RobustScaler,QuantileTransformer,KBinsDiscretizer,Normalizer\n",
        "from sklearn.model_selection import  KFold\n",
        "from sklearn.decomposition import PCA,TruncatedSVD\n",
        "from sklearn.pipeline import FeatureUnion\n",
        "from sklearn.metrics import log_loss\n",
        "\n",
        "import torch\n",
        "import torch.nn as nn\n",
        "import torch.nn.functional as F\n",
        "import torch.optim as optim\n",
        "from torch.utils.data import Dataset, TensorDataset,DataLoader\n",
        "from IPython import display\n",
        "from tqdm import trange\n",
        "import os\n",
        "from sklearn.metrics.pairwise import cosine_similarity\n",
        "\n",
        "\n",
        "import torch\n",
        "import numpy as np\n",
        "\n",
        "from torch.utils.data import Dataset, DataLoader, TensorDataset\n",
        "import torch.nn as nn\n",
        "import torch.nn.functional as F\n",
        "import torch.optim as optim\n",
        "\n",
        "from IPython import display\n",
        "from tqdm import trange\n",
        "import os"
      ],
      "execution_count": 1,
      "outputs": [
        {
          "output_type": "stream",
          "text": [
            "/usr/local/lib/python3.6/dist-packages/statsmodels/tools/_testing.py:19: FutureWarning: pandas.util.testing is deprecated. Use the functions in the public API at pandas.testing instead.\n",
            "  import pandas.util.testing as tm\n"
          ],
          "name": "stderr"
        }
      ]
    },
    {
      "cell_type": "code",
      "metadata": {
        "id": "8gMCCzV5smot",
        "colab_type": "code",
        "colab": {}
      },
      "source": [
        "products_data = pd.read_csv('./avk_hackathon_data_party_products.csv')\n",
        "balance_data = pd.read_csv('./avk_hackathon_data_account_x_balance.csv')\n",
        "socdem_data = pd.read_csv('./avk_hackathon_data_party_x_socdem.csv')\n"
      ],
      "execution_count": 2,
      "outputs": []
    },
    {
      "cell_type": "code",
      "metadata": {
        "id": "4JeKp55osmo2",
        "colab_type": "code",
        "colab": {
          "base_uri": "https://localhost:8080/",
          "height": 34
        },
        "outputId": "e3430063-0ccd-45bc-e097-78e73eb14cb1"
      },
      "source": [
        "balance_data.shape ## Должно быть (614434, 5) - просто чек, что вся таблица зааплодилась"
      ],
      "execution_count": 3,
      "outputs": [
        {
          "output_type": "execute_result",
          "data": {
            "text/plain": [
              "(614434, 5)"
            ]
          },
          "metadata": {
            "tags": []
          },
          "execution_count": 3
        }
      ]
    },
    {
      "cell_type": "markdown",
      "metadata": {
        "id": "JvHb4EIusmpA",
        "colab_type": "text"
      },
      "source": [
        "## 1. Смотрим данные и избавляемся от лишних\n",
        "\n",
        "### products"
      ]
    },
    {
      "cell_type": "code",
      "metadata": {
        "id": "OfL088YGsmpK",
        "colab_type": "code",
        "colab": {
          "base_uri": "https://localhost:8080/",
          "height": 34
        },
        "outputId": "31d7e4f6-adf0-4c94-86a7-9e73cf1d35e9"
      },
      "source": [
        "products_data.shape, products_data.drop_duplicates().shape, products_data.party_rk.nunique()"
      ],
      "execution_count": 4,
      "outputs": [
        {
          "output_type": "execute_result",
          "data": {
            "text/plain": [
              "((50000, 8), (50000, 8), 50000)"
            ]
          },
          "metadata": {
            "tags": []
          },
          "execution_count": 4
        }
      ]
    },
    {
      "cell_type": "code",
      "metadata": {
        "id": "qwC1QoIksmpO",
        "colab_type": "code",
        "colab": {
          "base_uri": "https://localhost:8080/",
          "height": 324
        },
        "outputId": "083041aa-dfc3-43d6-9d22-8885b90d1b5f"
      },
      "source": [
        "products_data_an = products_data.drop(columns=['party_rk'])\n",
        "products_data_an.sum().plot(kind='bar')"
      ],
      "execution_count": 5,
      "outputs": [
        {
          "output_type": "execute_result",
          "data": {
            "text/plain": [
              "<matplotlib.axes._subplots.AxesSubplot at 0x7f6e511ee630>"
            ]
          },
          "metadata": {
            "tags": []
          },
          "execution_count": 5
        },
        {
          "output_type": "display_data",
          "data": {
            "image/png": "[encoded data removed]",
            "text/plain": [
              "<Figure size 432x288 with 1 Axes>"
            ]
          },
          "metadata": {
            "tags": [],
            "needs_background": "light"
          }
        }
      ]
    },
    {
      "cell_type": "code",
      "metadata": {
        "id": "MBAUOwmrsmpR",
        "colab_type": "code",
        "colab": {
          "base_uri": "https://localhost:8080/",
          "height": 506
        },
        "outputId": "054bbd81-6a98-4040-94ac-d71f56f90352"
      },
      "source": [
        "# 3 и 4 скоррелированы\n",
        "# 2 и 7, 4 и 6 тоже чутка\n",
        "plt.figure(figsize=(10, 8))\n",
        "sns.heatmap(products_data_an.corr())"
      ],
      "execution_count": 6,
      "outputs": [
        {
          "output_type": "execute_result",
          "data": {
            "text/plain": [
              "<matplotlib.axes._subplots.AxesSubplot at 0x7f6e5113dfd0>"
            ]
          },
          "metadata": {
            "tags": []
          },
          "execution_count": 6
        },
        {
          "output_type": "display_data",
          "data": {
            "image/png": "[encoded data removed]",
            "text/plain": [
              "<Figure size 720x576 with 2 Axes>"
            ]
          },
          "metadata": {
            "tags": [],
            "needs_background": "light"
          }
        }
      ]
    },
    {
      "cell_type": "code",
      "metadata": {
        "id": "W-xnuhDKsmpV",
        "colab_type": "code",
        "colab": {
          "base_uri": "https://localhost:8080/",
          "height": 448
        },
        "outputId": "1d6ed287-5dd7-417f-b994-816845f7d8da"
      },
      "source": [
        "products_data_an.sum(axis=1).hist(bins=7, figsize=(15, 7))"
      ],
      "execution_count": 7,
      "outputs": [
        {
          "output_type": "execute_result",
          "data": {
            "text/plain": [
              "<matplotlib.axes._subplots.AxesSubplot at 0x7f6e510d6978>"
            ]
          },
          "metadata": {
            "tags": []
          },
          "execution_count": 7
        },
        {
          "output_type": "display_data",
          "data": {
            "image/png": "[encoded data removed]",
            "text/plain": [
              "<Figure size 1080x504 with 1 Axes>"
            ]
          },
          "metadata": {
            "tags": [],
            "needs_background": "light"
          }
        }
      ]
    },
    {
      "cell_type": "markdown",
      "metadata": {
        "id": "RSU0H2uXsmpZ",
        "colab_type": "text"
      },
      "source": [
        "### balance"
      ]
    },
    {
      "cell_type": "code",
      "metadata": {
        "id": "ez7NK3Nismpa",
        "colab_type": "code",
        "colab": {
          "base_uri": "https://localhost:8080/",
          "height": 34
        },
        "outputId": "eb61863b-b4fd-4b52-ad02-fa176f6ad162"
      },
      "source": [
        "balance_data.shape"
      ],
      "execution_count": 8,
      "outputs": [
        {
          "output_type": "execute_result",
          "data": {
            "text/plain": [
              "(614434, 5)"
            ]
          },
          "metadata": {
            "tags": []
          },
          "execution_count": 8
        }
      ]
    },
    {
      "cell_type": "code",
      "metadata": {
        "id": "4L7ATW_ismpi",
        "colab_type": "code",
        "colab": {
          "base_uri": "https://localhost:8080/",
          "height": 34
        },
        "outputId": "8d4375ca-4f4c-48b1-88e5-4c4189c55349"
      },
      "source": [
        "\"\"\"\n",
        "дропаем дубли и наны\n",
        "\"\"\"\n",
        "balance_data = balance_data[balance_data.balance_chng.notna()]\n",
        "balance_data =  balance_data.drop_duplicates()\n",
        "\n",
        "balance_data.prev_month = pd.to_datetime(balance_data.prev_month)\n",
        "balance_data.cur_month = pd.to_datetime(balance_data.cur_month)\n",
        "\n",
        "balance_data.party_rk.nunique(), balance_data.shape"
      ],
      "execution_count": 9,
      "outputs": [
        {
          "output_type": "execute_result",
          "data": {
            "text/plain": [
              "(49513, (612815, 5))"
            ]
          },
          "metadata": {
            "tags": []
          },
          "execution_count": 9
        }
      ]
    },
    {
      "cell_type": "code",
      "metadata": {
        "id": "QwRF8KEmsmpz",
        "colab_type": "code",
        "colab": {
          "base_uri": "https://localhost:8080/",
          "height": 470
        },
        "outputId": "548b2039-7cb1-4f68-b1f4-44284de0e31b"
      },
      "source": [
        "balance_data.groupby(['account_rk']).prev_month.count().hist(figsize=(15, 7), bins=12)\n",
        "plt.title('Сколько месяцев на каждый account_rk', fontsize=20)\n"
      ],
      "execution_count": 10,
      "outputs": [
        {
          "output_type": "execute_result",
          "data": {
            "text/plain": [
              "Text(0.5, 1.0, 'Сколько месяцев на каждый account_rk')"
            ]
          },
          "metadata": {
            "tags": []
          },
          "execution_count": 10
        },
        {
          "output_type": "display_data",
          "data": {
            "image/png": "[encoded data removed]",
            "text/plain": [
              "<Figure size 1080x504 with 1 Axes>"
            ]
          },
          "metadata": {
            "tags": [],
            "needs_background": "light"
          }
        }
      ]
    },
    {
      "cell_type": "code",
      "metadata": {
        "scrolled": false,
        "id": "AbivEwkdsmp2",
        "colab_type": "code",
        "colab": {
          "base_uri": "https://localhost:8080/",
          "height": 498
        },
        "outputId": "630e4276-5c1a-4607-8c4d-2b6d782a03fd"
      },
      "source": [
        "tmp = balance_data.groupby(['party_rk', 'prev_month', 'cur_month']).balance_chng.sum().reset_index()\n",
        "tmp.groupby(['prev_month']).balance_chng.mean().plot(label='Среднее значение balance_chng', figsize=(15, 7))\n",
        "tmp.groupby(['prev_month']).balance_chng.min().plot(label='Минимальное значение balance_chng')\n",
        "tmp.groupby(['prev_month']).balance_chng.max().plot(label='Мксимальное значение balance_chng')\n",
        "plt.legend(fontsize=16)\n",
        "plt.title('Для party_rk', fontsize=20)"
      ],
      "execution_count": 11,
      "outputs": [
        {
          "output_type": "execute_result",
          "data": {
            "text/plain": [
              "Text(0.5, 1.0, 'Для party_rk')"
            ]
          },
          "metadata": {
            "tags": []
          },
          "execution_count": 11
        },
        {
          "output_type": "display_data",
          "data": {
            "image/png": "[encoded data removed]",
            "text/plain": [
              "<Figure size 1080x504 with 1 Axes>"
            ]
          },
          "metadata": {
            "tags": [],
            "needs_background": "light"
          }
        }
      ]
    },
    {
      "cell_type": "code",
      "metadata": {
        "id": "XpJL-QFhsmp8",
        "colab_type": "code",
        "colab": {
          "base_uri": "https://localhost:8080/",
          "height": 34
        },
        "outputId": "9cb0d4fa-36d5-49ca-9fcf-bc5621898ac2"
      },
      "source": [
        "\"\"\"\n",
        "Убираем чуваков, у которых слишком большое абсолютное значение balance_chng хотя бы в одном месяце, их 319\n",
        "\"\"\"\n",
        "big_boys = set(balance_data[abs(balance_data.balance_chng) > 500000].party_rk.values)\n",
        "b_data = balance_data[balance_data.party_rk.apply(lambda s: not s in big_boys)].reset_index().drop(columns=['index'])\n",
        "len(big_boys)"
      ],
      "execution_count": 12,
      "outputs": [
        {
          "output_type": "execute_result",
          "data": {
            "text/plain": [
              "319"
            ]
          },
          "metadata": {
            "tags": []
          },
          "execution_count": 12
        }
      ]
    },
    {
      "cell_type": "code",
      "metadata": {
        "id": "5mGsE1FXsmrs",
        "colab_type": "code",
        "colab": {
          "base_uri": "https://localhost:8080/",
          "height": 34
        },
        "outputId": "d35775bd-2712-4ae4-ea6d-98976928c03b"
      },
      "source": [
        "\"\"\"\n",
        "Суммируем все  balance_chng по party_rk\n",
        "account_rk не рассматривается\n",
        "\"\"\"\n",
        "b_data_party_rk_grouped = b_data.groupby(['party_rk', 'cur_month']).balance_chng.sum().reset_index()\n",
        "b_data_unst = b_data_party_rk_grouped.set_index(['party_rk', 'cur_month']).unstack()\n",
        "\n",
        "## убираем чуваков, у которых есть Nan есть хотя бы в одном месяце, таких 17940\n",
        "shape1 = b_data_unst.shape[0]\n",
        "b_data_unst = b_data_unst.dropna()\n",
        "shape2 = b_data_unst.shape[0]\n",
        "shape1 - shape2\n"
      ],
      "execution_count": 13,
      "outputs": [
        {
          "output_type": "execute_result",
          "data": {
            "text/plain": [
              "17940"
            ]
          },
          "metadata": {
            "tags": []
          },
          "execution_count": 13
        }
      ]
    },
    {
      "cell_type": "code",
      "metadata": {
        "id": "L7dF9iIDISD5",
        "colab_type": "code",
        "colab": {}
      },
      "source": [
        "b_data = b_data_unst.stack().reset_index()"
      ],
      "execution_count": 14,
      "outputs": []
    },
    {
      "cell_type": "code",
      "metadata": {
        "id": "M37WQr1csmrx",
        "colab_type": "code",
        "colab": {
          "base_uri": "https://localhost:8080/",
          "height": 34
        },
        "outputId": "8944c245-285f-4682-c6e2-5c15e572815b"
      },
      "source": [
        "#сет party_rk, которые рассматриваем дальше, их 31254\n",
        "set_of_needed_party_rk = set(b_data_unst.reset_index().party_rk.values)\n",
        "len(set_of_needed_party_rk)"
      ],
      "execution_count": 15,
      "outputs": [
        {
          "output_type": "execute_result",
          "data": {
            "text/plain": [
              "31254"
            ]
          },
          "metadata": {
            "tags": []
          },
          "execution_count": 15
        }
      ]
    },
    {
      "cell_type": "markdown",
      "metadata": {
        "id": "wtJo7eUIH0_1",
        "colab_type": "text"
      },
      "source": [
        "## 2. Добавляем фичи\n",
        "\n",
        "### socdem"
      ]
    },
    {
      "cell_type": "code",
      "metadata": {
        "id": "uPLy4wHhsmr0",
        "colab_type": "code",
        "colab": {}
      },
      "source": [
        "# берем только наших чуваков\n",
        "socdem_data = socdem_data[socdem_data.party_rk.apply(lambda s: s in set_of_needed_party_rk)]\n",
        "products_data = products_data[products_data.party_rk.apply(lambda s : s in set_of_needed_party_rk)]\n"
      ],
      "execution_count": 16,
      "outputs": []
    },
    {
      "cell_type": "code",
      "metadata": {
        "id": "l2VvBFsrsraI",
        "colab_type": "code",
        "colab": {}
      },
      "source": [
        "def gender_code(gender):\n",
        "  if gender == 'F':\n",
        "    return 0\n",
        "  elif gender == 'M':\n",
        "    return 1\n",
        "  else:\n",
        "     return 1 ## пять человек без гендера будут мужчинами\n",
        "\n",
        "socdem_data['children_flg'] = socdem_data.children_cnt.apply(lambda s: np.sign(s)) # фича наличия ребенка\n",
        "socdem_data['gender_flg'] = socdem_data.gender_cd.apply(lambda s: gender_code(s)) # фича гендера\n"
      ],
      "execution_count": 17,
      "outputs": []
    },
    {
      "cell_type": "code",
      "metadata": {
        "id": "ouRAiCNMsmsF",
        "colab_type": "code",
        "colab": {
          "base_uri": "https://localhost:8080/",
          "height": 234
        },
        "outputId": "9537d535-a3c4-488f-e1a6-443e0086af29"
      },
      "source": [
        "\"\"\"\n",
        "Вот и получили таблицу с фичами и таргетами \n",
        "balance_with_target\n",
        "\"\"\"\n",
        "tmp = b_data.groupby(['party_rk', 'cur_month']).balance_chng.sum().unstack().reset_index()\n",
        "balance_with_target = pd.merge(tmp, socdem_data[['party_rk', 'region_flg', 'children_flg', 'gender_flg']], on='party_rk')\n",
        "balance_with_target = pd.merge(balance_with_target, products_data, on='party_rk')\n",
        "balance_with_target = balance_with_target.rename(columns = dict(zip(b_data.cur_month, b_data.cur_month.apply(lambda s: str(s)[:7]))))\n",
        "balance_with_target.head()\n"
      ],
      "execution_count": 18,
      "outputs": [
        {
          "output_type": "execute_result",
          "data": {
            "text/html": [
              "<div>\n",
              "<style scoped>\n",
              "    .dataframe tbody tr th:only-of-type {\n",
              "        vertical-align: middle;\n",
              "    }\n",
              "\n",
              "    .dataframe tbody tr th {\n",
              "        vertical-align: top;\n",
              "    }\n",
              "\n",
              "    .dataframe thead th {\n",
              "        text-align: right;\n",
              "    }\n",
              "</style>\n",
              "<table border=\"1\" class=\"dataframe\">\n",
              "  <thead>\n",
              "    <tr style=\"text-align: right;\">\n",
              "      <th></th>\n",
              "      <th>party_rk</th>\n",
              "      <th>2019-01</th>\n",
              "      <th>2019-02</th>\n",
              "      <th>2019-03</th>\n",
              "      <th>2019-04</th>\n",
              "      <th>2019-05</th>\n",
              "      <th>2019-06</th>\n",
              "      <th>2019-07</th>\n",
              "      <th>2019-08</th>\n",
              "      <th>2019-09</th>\n",
              "      <th>2019-10</th>\n",
              "      <th>2019-11</th>\n",
              "      <th>2019-12</th>\n",
              "      <th>region_flg</th>\n",
              "      <th>children_flg</th>\n",
              "      <th>gender_flg</th>\n",
              "      <th>product1</th>\n",
              "      <th>product2</th>\n",
              "      <th>product3</th>\n",
              "      <th>product4</th>\n",
              "      <th>product5</th>\n",
              "      <th>product6</th>\n",
              "      <th>product7</th>\n",
              "    </tr>\n",
              "  </thead>\n",
              "  <tbody>\n",
              "    <tr>\n",
              "      <th>0</th>\n",
              "      <td>1</td>\n",
              "      <td>5000.0</td>\n",
              "      <td>5000.0</td>\n",
              "      <td>-10000.0</td>\n",
              "      <td>5000.0</td>\n",
              "      <td>0.0</td>\n",
              "      <td>10000.0</td>\n",
              "      <td>5000.0</td>\n",
              "      <td>5000.0</td>\n",
              "      <td>60000.0</td>\n",
              "      <td>-5000.0</td>\n",
              "      <td>0.0</td>\n",
              "      <td>5000.0</td>\n",
              "      <td>0</td>\n",
              "      <td>1</td>\n",
              "      <td>1</td>\n",
              "      <td>0</td>\n",
              "      <td>1</td>\n",
              "      <td>0</td>\n",
              "      <td>1</td>\n",
              "      <td>0</td>\n",
              "      <td>0</td>\n",
              "      <td>0</td>\n",
              "    </tr>\n",
              "    <tr>\n",
              "      <th>1</th>\n",
              "      <td>5</td>\n",
              "      <td>10000.0</td>\n",
              "      <td>-70000.0</td>\n",
              "      <td>10000.0</td>\n",
              "      <td>-60000.0</td>\n",
              "      <td>-5000.0</td>\n",
              "      <td>115000.0</td>\n",
              "      <td>0.0</td>\n",
              "      <td>0.0</td>\n",
              "      <td>15000.0</td>\n",
              "      <td>-95000.0</td>\n",
              "      <td>-105000.0</td>\n",
              "      <td>40000.0</td>\n",
              "      <td>0</td>\n",
              "      <td>1</td>\n",
              "      <td>1</td>\n",
              "      <td>0</td>\n",
              "      <td>1</td>\n",
              "      <td>0</td>\n",
              "      <td>0</td>\n",
              "      <td>1</td>\n",
              "      <td>0</td>\n",
              "      <td>0</td>\n",
              "    </tr>\n",
              "    <tr>\n",
              "      <th>2</th>\n",
              "      <td>7</td>\n",
              "      <td>-5000.0</td>\n",
              "      <td>110000.0</td>\n",
              "      <td>-110000.0</td>\n",
              "      <td>0.0</td>\n",
              "      <td>0.0</td>\n",
              "      <td>0.0</td>\n",
              "      <td>0.0</td>\n",
              "      <td>0.0</td>\n",
              "      <td>0.0</td>\n",
              "      <td>5000.0</td>\n",
              "      <td>0.0</td>\n",
              "      <td>25000.0</td>\n",
              "      <td>0</td>\n",
              "      <td>1</td>\n",
              "      <td>1</td>\n",
              "      <td>0</td>\n",
              "      <td>0</td>\n",
              "      <td>0</td>\n",
              "      <td>1</td>\n",
              "      <td>0</td>\n",
              "      <td>0</td>\n",
              "      <td>0</td>\n",
              "    </tr>\n",
              "    <tr>\n",
              "      <th>3</th>\n",
              "      <td>8</td>\n",
              "      <td>0.0</td>\n",
              "      <td>0.0</td>\n",
              "      <td>95000.0</td>\n",
              "      <td>0.0</td>\n",
              "      <td>0.0</td>\n",
              "      <td>0.0</td>\n",
              "      <td>0.0</td>\n",
              "      <td>0.0</td>\n",
              "      <td>-5000.0</td>\n",
              "      <td>5000.0</td>\n",
              "      <td>0.0</td>\n",
              "      <td>0.0</td>\n",
              "      <td>0</td>\n",
              "      <td>1</td>\n",
              "      <td>0</td>\n",
              "      <td>0</td>\n",
              "      <td>1</td>\n",
              "      <td>0</td>\n",
              "      <td>0</td>\n",
              "      <td>1</td>\n",
              "      <td>0</td>\n",
              "      <td>0</td>\n",
              "    </tr>\n",
              "    <tr>\n",
              "      <th>4</th>\n",
              "      <td>11</td>\n",
              "      <td>0.0</td>\n",
              "      <td>0.0</td>\n",
              "      <td>-5000.0</td>\n",
              "      <td>-10000.0</td>\n",
              "      <td>-5000.0</td>\n",
              "      <td>-5000.0</td>\n",
              "      <td>-5000.0</td>\n",
              "      <td>0.0</td>\n",
              "      <td>-5000.0</td>\n",
              "      <td>0.0</td>\n",
              "      <td>0.0</td>\n",
              "      <td>-5000.0</td>\n",
              "      <td>0</td>\n",
              "      <td>1</td>\n",
              "      <td>0</td>\n",
              "      <td>0</td>\n",
              "      <td>1</td>\n",
              "      <td>0</td>\n",
              "      <td>0</td>\n",
              "      <td>0</td>\n",
              "      <td>0</td>\n",
              "      <td>0</td>\n",
              "    </tr>\n",
              "  </tbody>\n",
              "</table>\n",
              "</div>"
            ],
            "text/plain": [
              "   party_rk  2019-01   2019-02  ...  product5  product6  product7\n",
              "0         1   5000.0    5000.0  ...         0         0         0\n",
              "1         5  10000.0  -70000.0  ...         1         0         0\n",
              "2         7  -5000.0  110000.0  ...         0         0         0\n",
              "3         8      0.0       0.0  ...         1         0         0\n",
              "4        11      0.0       0.0  ...         0         0         0\n",
              "\n",
              "[5 rows x 23 columns]"
            ]
          },
          "metadata": {
            "tags": []
          },
          "execution_count": 18
        }
      ]
    },
    {
      "cell_type": "markdown",
      "metadata": {
        "id": "Jhub6uQBKETu",
        "colab_type": "text"
      },
      "source": [
        "## 3. Train Test Split, Scaling"
      ]
    },
    {
      "cell_type": "code",
      "metadata": {
        "id": "nIEsz-1KsmsM",
        "colab_type": "code",
        "colab": {}
      },
      "source": [
        "X = balance_with_target.drop(columns=['party_rk', 'product1', 'product2', 'product3', 'product4', 'product5', 'product6', 'product7']).values\n",
        "y = balance_with_target[['product1', 'product2', 'product3', 'product4', 'product5', 'product6', 'product7']].values"
      ],
      "execution_count": 19,
      "outputs": []
    },
    {
      "cell_type": "code",
      "metadata": {
        "id": "k1PdeDpNsmsO",
        "colab_type": "code",
        "colab": {}
      },
      "source": [
        "X_train, X_test, y_train, y_test = train_test_split(X, y, test_size=0.33, random_state=42)"
      ],
      "execution_count": 20,
      "outputs": []
    },
    {
      "cell_type": "code",
      "metadata": {
        "id": "feDfQxKJsmsQ",
        "colab_type": "code",
        "colab": {}
      },
      "source": [
        "std = StandardScaler()\n",
        "X_train_scl = std.fit_transform(X_train)\n",
        "X_test_scl = std.transform(X_test)"
      ],
      "execution_count": 21,
      "outputs": []
    },
    {
      "cell_type": "code",
      "metadata": {
        "id": "CCjEthigsmsR",
        "colab_type": "code",
        "colab": {}
      },
      "source": [
        "# rfc = RandomForestClassifier(n_estimators =1000)\n",
        "# rfc.fit(X_train_scl, y_train)\n",
        "# rfc.feature_importances_\n"
      ],
      "execution_count": 22,
      "outputs": []
    },
    {
      "cell_type": "markdown",
      "metadata": {
        "id": "yLBd413RtlQ_",
        "colab_type": "text"
      },
      "source": [
        "## 4. Pytorch model"
      ]
    },
    {
      "cell_type": "code",
      "metadata": {
        "id": "Po2bq1WRB4db",
        "colab_type": "code",
        "colab": {}
      },
      "source": [
        "batch_size=200"
      ],
      "execution_count": 23,
      "outputs": []
    },
    {
      "cell_type": "code",
      "metadata": {
        "id": "KWu3lpcHC1v0",
        "colab_type": "code",
        "colab": {}
      },
      "source": [
        "X_train_tensor = torch.from_numpy(X_train).type(torch.FloatTensor)\n",
        "X_test_tensor = torch.Tensor(X_test).type(torch.FloatTensor)\n",
        "y_train_tensor = torch.from_numpy(y_train).type(torch.FloatTensor)\n",
        "y_test_tensor = torch.Tensor(y_test).type(torch.FloatTensor)\n",
        "\n",
        "train_dataset = TensorDataset( X_train_tensor, y_train_tensor)\n",
        "test_dataset = TensorDataset(X_test_tensor, y_test_tensor)\n",
        "\n",
        "train_loader = torch.utils.data.DataLoader(\n",
        "    train_dataset, batch_size=batch_size, num_workers=2, shuffle=True,  drop_last = True)\n",
        "\n",
        "test_loader = torch.utils.data.DataLoader(\n",
        "    test_dataset, batch_size=batch_size, num_workers=2, shuffle=True, pin_memory=True)"
      ],
      "execution_count": 24,
      "outputs": []
    },
    {
      "cell_type": "code",
      "metadata": {
        "id": "f6JYhYJItjux",
        "colab_type": "code",
        "colab": {}
      },
      "source": [
        "hidden1 = 256\n",
        "hidden2 = 1024\n",
        "hidden3 = 64\n",
        "\n",
        "class Model(nn.Module):\n",
        "    def __init__(self,input_size,output_size):\n",
        "        super(Model,self).__init__()\n",
        "\n",
        "        self.fc1 = nn.Sequential(\n",
        "            nn.BatchNorm1d(input_size),\n",
        "            nn.Dropout(p=.5),\n",
        "            nn.Linear(input_size, hidden1),\n",
        "            nn.LeakyReLU(),\n",
        "            \n",
        "        )\n",
        "        self.fc2 = nn.Sequential(\n",
        "            nn.BatchNorm1d(hidden1),\n",
        "            nn.Dropout(p=.5),\n",
        "            nn.Linear(hidden1, hidden2),  \n",
        "            nn.LeakyReLU(),\n",
        "        )\n",
        "\n",
        "        self.fc3 = nn.Sequential(\n",
        "            nn.BatchNorm1d(hidden2),\n",
        "            nn.Dropout(p=.5),\n",
        "            nn.Linear(hidden2, hidden3),  \n",
        "            nn.ReLU(),\n",
        "        )\n",
        "\n",
        "        self.fc4 = nn.Sequential(\n",
        "            nn.BatchNorm1d(hidden3),\n",
        "            nn.Linear(hidden3, output_size),\n",
        "            nn.Sigmoid()           \n",
        "        )\n",
        "\n",
        "\n",
        "        \n",
        "    def forward(self,x):\n",
        "        x = self.fc1(x)\n",
        "        x = self.fc2(x)\n",
        "        x = self.fc3(x)\n",
        "        x = self.fc4(x)\n",
        "        \n",
        "        return x"
      ],
      "execution_count": 30,
      "outputs": []
    },
    {
      "cell_type": "code",
      "metadata": {
        "id": "4PxDUHfVHCGR",
        "colab_type": "code",
        "colab": {
          "base_uri": "https://localhost:8080/",
          "height": 514
        },
        "outputId": "4761b67f-0952-462b-ee1b-6051825c47c6"
      },
      "source": [
        "from torchsummary import summary\n",
        "\n",
        "model = Model(X_train.shape[1], y_train.shape[1]).cuda()\n",
        "summary(model, input_size=(X_train.shape[1], ), batch_size=batch_size)"
      ],
      "execution_count": 31,
      "outputs": [
        {
          "output_type": "stream",
          "text": [
            "----------------------------------------------------------------\n",
            "        Layer (type)               Output Shape         Param #\n",
            "================================================================\n",
            "       BatchNorm1d-1                  [200, 15]              30\n",
            "           Dropout-2                  [200, 15]               0\n",
            "            Linear-3                 [200, 256]           4,096\n",
            "         LeakyReLU-4                 [200, 256]               0\n",
            "       BatchNorm1d-5                 [200, 256]             512\n",
            "           Dropout-6                 [200, 256]               0\n",
            "            Linear-7                [200, 1024]         263,168\n",
            "         LeakyReLU-8                [200, 1024]               0\n",
            "       BatchNorm1d-9                [200, 1024]           2,048\n",
            "          Dropout-10                [200, 1024]               0\n",
            "           Linear-11                  [200, 64]          65,600\n",
            "             ReLU-12                  [200, 64]               0\n",
            "      BatchNorm1d-13                  [200, 64]             128\n",
            "           Linear-14                   [200, 7]             455\n",
            "          Sigmoid-15                   [200, 7]               0\n",
            "================================================================\n",
            "Total params: 336,037\n",
            "Trainable params: 336,037\n",
            "Non-trainable params: 0\n",
            "----------------------------------------------------------------\n",
            "Input size (MB): 0.01\n",
            "Forward/backward pass size (MB): 8.17\n",
            "Params size (MB): 1.28\n",
            "Estimated Total Size (MB): 9.47\n",
            "----------------------------------------------------------------\n"
          ],
          "name": "stdout"
        }
      ]
    },
    {
      "cell_type": "code",
      "metadata": {
        "id": "e6wgbeljTU5w",
        "colab_type": "code",
        "colab": {}
      },
      "source": [
        "def get_batch_mean_cosine_similarity(model, dataloader):\n",
        "    for x, y in dataloader:\n",
        "        prediction = model(x.cuda())\n",
        "        batch_mean_cosine_similarity = cosine_similarity(np.array(prediction.tolist()), y.numpy()).trace()/batch_size\n",
        "\n",
        "    return batch_mean_cosine_similarity\n",
        "\n",
        "def train(model, optimizer, criterion,  scheduler=None, epochs_n=20):  \n",
        "    model.cuda()\n",
        "\n",
        "    learning_curve = []\n",
        "    train_curve = [np.nan] * epochs_n\n",
        "    test_curve = [np.nan] * epochs_n\n",
        "    max_test_cossim = 0\n",
        "    max_cossim_epoch = 0\n",
        "    train_size = len(train_loader)\n",
        "    \n",
        "\n",
        "    for epoch in trange(epochs_n):\n",
        "            \n",
        "        model.train()\n",
        "\n",
        "    \n",
        "        for x, y in train_loader:\n",
        "            optimizer.zero_grad()\n",
        "            prediction = model(x.cuda())\n",
        "            loss = criterion(prediction, y.cuda())\n",
        "            learning_curve.append(loss.item())\n",
        "            loss.backward()\n",
        "            optimizer.step()\n",
        "\n",
        "        display.clear_output(wait=True)\n",
        "        f, axes = plt.subplots(1, 2, figsize=(15, 3))\n",
        "\n",
        "#         learning_curve\n",
        "        axes[0].plot(learning_curve)\n",
        "        axes[0].set_title('BCEWithLogitsLoss')\n",
        "\n",
        "        model.eval()\n",
        "        train_curve[epoch] = get_batch_mean_cosine_similarity(model, train_loader)\n",
        "        test_curve[epoch] = get_batch_mean_cosine_similarity(model, test_loader)\n",
        "        \n",
        "        test_cossim = test_curve[epoch]\n",
        "        if test_cossim > max_test_cossim:\n",
        "            max_test_cossim = test_cossim\n",
        "            max_cossim_epoch = epoch\n",
        "            model_dir = os.getcwd()+\"/best_model\"\n",
        "            torch.save(model, model_dir)\n",
        "        if scheduler is not None:  \n",
        "            scheduler.step()   \n",
        "        axes[1].set_title('Train {:.4f}, test {:.4f}, max test {:.4f} at {}'.format(\n",
        "            train_curve[epoch], test_cossim, max_test_cossim, max_cossim_epoch))\n",
        "        axes[1].plot(train_curve)\n",
        "        axes[1].plot(test_curve)\n",
        "        \n",
        "        plt.tight_layout()\n",
        "        plt.show()\n"
      ],
      "execution_count": 34,
      "outputs": []
    },
    {
      "cell_type": "code",
      "metadata": {
        "id": "-LPhIng_9bHA",
        "colab_type": "code",
        "colab": {
          "base_uri": "https://localhost:8080/",
          "height": 295
        },
        "outputId": "c34c12e3-74b8-4477-a7b8-5fb9570fd0a2"
      },
      "source": [
        "criterion = nn.BCEWithLogitsLoss()\n",
        "lr = 0.0001\n",
        "weight_decay = 0.003\n",
        "optimizer = torch.optim.Adam(model.parameters(), lr=lr, weight_decay=weight_decay)\n",
        "\n",
        "\n",
        "\n",
        "milestones = [25, 50, 75]\n",
        "gamma = 0.1\n",
        "scheduler = torch.optim.lr_scheduler.MultiStepLR(optimizer, milestones=milestones, gamma=gamma)\n",
        "\n",
        "model = Model(X_train.shape[1], y_train.shape[1]).cuda()\n",
        "\n",
        "\n",
        "train(model=model, criterion=criterion, optimizer=optimizer, scheduler=None)\n"
      ],
      "execution_count": 35,
      "outputs": [
        {
          "output_type": "display_data",
          "data": {
            "image/png": "[encoded data removed]",
            "text/plain": [
              "<Figure size 1080x216 with 2 Axes>"
            ]
          },
          "metadata": {
            "tags": [],
            "needs_background": "light"
          }
        },
        {
          "output_type": "stream",
          "text": [
            "\n",
            "\n",
            "\n",
            "100%|██████████| 20/20 [00:51<00:00,  2.59s/it]\n"
          ],
          "name": "stderr"
        }
      ]
    },
    {
      "cell_type": "code",
      "metadata": {
        "id": "mffRNJ_slBT9",
        "colab_type": "code",
        "colab": {}
      },
      "source": [
        ""
      ],
      "execution_count": null,
      "outputs": []
    },
    {
      "cell_type": "code",
      "metadata": {
        "id": "geiDIWfcrJW2",
        "colab_type": "code",
        "colab": {}
      },
      "source": [
        ""
      ],
      "execution_count": null,
      "outputs": []
    }
  ]
}