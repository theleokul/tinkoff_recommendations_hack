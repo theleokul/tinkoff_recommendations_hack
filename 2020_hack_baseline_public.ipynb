{
  "nbformat": 4,
  "nbformat_minor": 0,
  "metadata": {
    "colab": {
      "name": "2020_hack_baseline_public.ipynb",
      "provenance": [],
      "collapsed_sections": [],
      "toc_visible": true
    },
    "kernelspec": {
      "display_name": "Python 3",
      "language": "python",
      "name": "python3"
    },
    "language_info": {
      "codemirror_mode": {
        "name": "ipython",
        "version": 3
      },
      "file_extension": ".py",
      "mimetype": "text/x-python",
      "name": "python",
      "nbconvert_exporter": "python",
      "pygments_lexer": "ipython3",
      "version": "3.7.7"
    },
    "widgets": {
      "application/vnd.jupyter.widget-state+json": {
        "5c00b9ec74054d36b90224ed48b29641": {
          "model_module": "@jupyter-widgets/controls",
          "model_name": "HBoxModel",
          "state": {
            "_view_name": "HBoxView",
            "_dom_classes": [],
            "_model_name": "HBoxModel",
            "_view_module": "@jupyter-widgets/controls",
            "_model_module_version": "1.5.0",
            "_view_count": null,
            "_view_module_version": "1.5.0",
            "box_style": "",
            "layout": "IPY_MODEL_180184a938c144e6988b1a4e003a2c3c",
            "_model_module": "@jupyter-widgets/controls",
            "children": [
              "IPY_MODEL_5042f87baa254328a82c04678901f31c",
              "IPY_MODEL_ae583a644add4c35a99b0c01847c622e"
            ]
          }
        },
        "180184a938c144e6988b1a4e003a2c3c": {
          "model_module": "@jupyter-widgets/base",
          "model_name": "LayoutModel",
          "state": {
            "_view_name": "LayoutView",
            "grid_template_rows": null,
            "right": null,
            "justify_content": null,
            "_view_module": "@jupyter-widgets/base",
            "overflow": null,
            "_model_module_version": "1.2.0",
            "_view_count": null,
            "flex_flow": null,
            "width": null,
            "min_width": null,
            "border": null,
            "align_items": null,
            "bottom": null,
            "_model_module": "@jupyter-widgets/base",
            "top": null,
            "grid_column": null,
            "overflow_y": null,
            "overflow_x": null,
            "grid_auto_flow": null,
            "grid_area": null,
            "grid_template_columns": null,
            "flex": null,
            "_model_name": "LayoutModel",
            "justify_items": null,
            "grid_row": null,
            "max_height": null,
            "align_content": null,
            "visibility": null,
            "align_self": null,
            "height": null,
            "min_height": null,
            "padding": null,
            "grid_auto_rows": null,
            "grid_gap": null,
            "max_width": null,
            "order": null,
            "_view_module_version": "1.2.0",
            "grid_template_areas": null,
            "object_position": null,
            "object_fit": null,
            "grid_auto_columns": null,
            "margin": null,
            "display": null,
            "left": null
          }
        },
        "5042f87baa254328a82c04678901f31c": {
          "model_module": "@jupyter-widgets/controls",
          "model_name": "FloatProgressModel",
          "state": {
            "_view_name": "ProgressView",
            "style": "IPY_MODEL_df722aca77024b668824de2f7e2d0c91",
            "_dom_classes": [],
            "description": "100%",
            "_model_name": "FloatProgressModel",
            "bar_style": "success",
            "max": 7,
            "_view_module": "@jupyter-widgets/controls",
            "_model_module_version": "1.5.0",
            "value": 7,
            "_view_count": null,
            "_view_module_version": "1.5.0",
            "orientation": "horizontal",
            "min": 0,
            "description_tooltip": null,
            "_model_module": "@jupyter-widgets/controls",
            "layout": "IPY_MODEL_73679d41205f41e2b944ab6bc6fc2b95"
          }
        },
        "ae583a644add4c35a99b0c01847c622e": {
          "model_module": "@jupyter-widgets/controls",
          "model_name": "HTMLModel",
          "state": {
            "_view_name": "HTMLView",
            "style": "IPY_MODEL_c892c2813635441587a9f4d646a95643",
            "_dom_classes": [],
            "description": "",
            "_model_name": "HTMLModel",
            "placeholder": "​",
            "_view_module": "@jupyter-widgets/controls",
            "_model_module_version": "1.5.0",
            "value": " 7/7 [01:36&lt;00:00, 13.83s/it]",
            "_view_count": null,
            "_view_module_version": "1.5.0",
            "description_tooltip": null,
            "_model_module": "@jupyter-widgets/controls",
            "layout": "IPY_MODEL_1b93076ef9804c0dbdd0454829284535"
          }
        },
        "df722aca77024b668824de2f7e2d0c91": {
          "model_module": "@jupyter-widgets/controls",
          "model_name": "ProgressStyleModel",
          "state": {
            "_view_name": "StyleView",
            "_model_name": "ProgressStyleModel",
            "description_width": "initial",
            "_view_module": "@jupyter-widgets/base",
            "_model_module_version": "1.5.0",
            "_view_count": null,
            "_view_module_version": "1.2.0",
            "bar_color": null,
            "_model_module": "@jupyter-widgets/controls"
          }
        },
        "73679d41205f41e2b944ab6bc6fc2b95": {
          "model_module": "@jupyter-widgets/base",
          "model_name": "LayoutModel",
          "state": {
            "_view_name": "LayoutView",
            "grid_template_rows": null,
            "right": null,
            "justify_content": null,
            "_view_module": "@jupyter-widgets/base",
            "overflow": null,
            "_model_module_version": "1.2.0",
            "_view_count": null,
            "flex_flow": null,
            "width": null,
            "min_width": null,
            "border": null,
            "align_items": null,
            "bottom": null,
            "_model_module": "@jupyter-widgets/base",
            "top": null,
            "grid_column": null,
            "overflow_y": null,
            "overflow_x": null,
            "grid_auto_flow": null,
            "grid_area": null,
            "grid_template_columns": null,
            "flex": null,
            "_model_name": "LayoutModel",
            "justify_items": null,
            "grid_row": null,
            "max_height": null,
            "align_content": null,
            "visibility": null,
            "align_self": null,
            "height": null,
            "min_height": null,
            "padding": null,
            "grid_auto_rows": null,
            "grid_gap": null,
            "max_width": null,
            "order": null,
            "_view_module_version": "1.2.0",
            "grid_template_areas": null,
            "object_position": null,
            "object_fit": null,
            "grid_auto_columns": null,
            "margin": null,
            "display": null,
            "left": null
          }
        },
        "c892c2813635441587a9f4d646a95643": {
          "model_module": "@jupyter-widgets/controls",
          "model_name": "DescriptionStyleModel",
          "state": {
            "_view_name": "StyleView",
            "_model_name": "DescriptionStyleModel",
            "description_width": "",
            "_view_module": "@jupyter-widgets/base",
            "_model_module_version": "1.5.0",
            "_view_count": null,
            "_view_module_version": "1.2.0",
            "_model_module": "@jupyter-widgets/controls"
          }
        },
        "1b93076ef9804c0dbdd0454829284535": {
          "model_module": "@jupyter-widgets/base",
          "model_name": "LayoutModel",
          "state": {
            "_view_name": "LayoutView",
            "grid_template_rows": null,
            "right": null,
            "justify_content": null,
            "_view_module": "@jupyter-widgets/base",
            "overflow": null,
            "_model_module_version": "1.2.0",
            "_view_count": null,
            "flex_flow": null,
            "width": null,
            "min_width": null,
            "border": null,
            "align_items": null,
            "bottom": null,
            "_model_module": "@jupyter-widgets/base",
            "top": null,
            "grid_column": null,
            "overflow_y": null,
            "overflow_x": null,
            "grid_auto_flow": null,
            "grid_area": null,
            "grid_template_columns": null,
            "flex": null,
            "_model_name": "LayoutModel",
            "justify_items": null,
            "grid_row": null,
            "max_height": null,
            "align_content": null,
            "visibility": null,
            "align_self": null,
            "height": null,
            "min_height": null,
            "padding": null,
            "grid_auto_rows": null,
            "grid_gap": null,
            "max_width": null,
            "order": null,
            "_view_module_version": "1.2.0",
            "grid_template_areas": null,
            "object_position": null,
            "object_fit": null,
            "grid_auto_columns": null,
            "margin": null,
            "display": null,
            "left": null
          }
        },
        "f9294710efbf4161a0cdfa3ebf519cd5": {
          "model_module": "@jupyter-widgets/controls",
          "model_name": "HBoxModel",
          "state": {
            "_view_name": "HBoxView",
            "_dom_classes": [],
            "_model_name": "HBoxModel",
            "_view_module": "@jupyter-widgets/controls",
            "_model_module_version": "1.5.0",
            "_view_count": null,
            "_view_module_version": "1.5.0",
            "box_style": "",
            "layout": "IPY_MODEL_9176c2eb8b3247819687b1cf8eefea6d",
            "_model_module": "@jupyter-widgets/controls",
            "children": [
              "IPY_MODEL_213e89000b914c4ba5fa0dd63e6958d4",
              "IPY_MODEL_8d8074c0c0d34e3288d20b7ab7b641e3"
            ]
          }
        },
        "9176c2eb8b3247819687b1cf8eefea6d": {
          "model_module": "@jupyter-widgets/base",
          "model_name": "LayoutModel",
          "state": {
            "_view_name": "LayoutView",
            "grid_template_rows": null,
            "right": null,
            "justify_content": null,
            "_view_module": "@jupyter-widgets/base",
            "overflow": null,
            "_model_module_version": "1.2.0",
            "_view_count": null,
            "flex_flow": null,
            "width": null,
            "min_width": null,
            "border": null,
            "align_items": null,
            "bottom": null,
            "_model_module": "@jupyter-widgets/base",
            "top": null,
            "grid_column": null,
            "overflow_y": null,
            "overflow_x": null,
            "grid_auto_flow": null,
            "grid_area": null,
            "grid_template_columns": null,
            "flex": null,
            "_model_name": "LayoutModel",
            "justify_items": null,
            "grid_row": null,
            "max_height": null,
            "align_content": null,
            "visibility": null,
            "align_self": null,
            "height": null,
            "min_height": null,
            "padding": null,
            "grid_auto_rows": null,
            "grid_gap": null,
            "max_width": null,
            "order": null,
            "_view_module_version": "1.2.0",
            "grid_template_areas": null,
            "object_position": null,
            "object_fit": null,
            "grid_auto_columns": null,
            "margin": null,
            "display": null,
            "left": null
          }
        },
        "213e89000b914c4ba5fa0dd63e6958d4": {
          "model_module": "@jupyter-widgets/controls",
          "model_name": "FloatProgressModel",
          "state": {
            "_view_name": "ProgressView",
            "style": "IPY_MODEL_f9b7c6675abf4edfb65c01e4cfb29934",
            "_dom_classes": [],
            "description": "",
            "_model_name": "FloatProgressModel",
            "bar_style": "success",
            "max": 1,
            "_view_module": "@jupyter-widgets/controls",
            "_model_module_version": "1.5.0",
            "value": 1,
            "_view_count": null,
            "_view_module_version": "1.5.0",
            "orientation": "horizontal",
            "min": 0,
            "description_tooltip": null,
            "_model_module": "@jupyter-widgets/controls",
            "layout": "IPY_MODEL_e2d9aac5624042729915464244e0f0c8"
          }
        },
        "8d8074c0c0d34e3288d20b7ab7b641e3": {
          "model_module": "@jupyter-widgets/controls",
          "model_name": "HTMLModel",
          "state": {
            "_view_name": "HTMLView",
            "style": "IPY_MODEL_ae0934dc7ed744768a47eb5d50a55d9a",
            "_dom_classes": [],
            "description": "",
            "_model_name": "HTMLModel",
            "placeholder": "​",
            "_view_module": "@jupyter-widgets/controls",
            "_model_module_version": "1.5.0",
            "value": " 115/? [1:26:04&lt;00:00, 44.91s/it]",
            "_view_count": null,
            "_view_module_version": "1.5.0",
            "description_tooltip": null,
            "_model_module": "@jupyter-widgets/controls",
            "layout": "IPY_MODEL_de7cee4f1894430283f94bfd09f42594"
          }
        },
        "f9b7c6675abf4edfb65c01e4cfb29934": {
          "model_module": "@jupyter-widgets/controls",
          "model_name": "ProgressStyleModel",
          "state": {
            "_view_name": "StyleView",
            "_model_name": "ProgressStyleModel",
            "description_width": "initial",
            "_view_module": "@jupyter-widgets/base",
            "_model_module_version": "1.5.0",
            "_view_count": null,
            "_view_module_version": "1.2.0",
            "bar_color": null,
            "_model_module": "@jupyter-widgets/controls"
          }
        },
        "e2d9aac5624042729915464244e0f0c8": {
          "model_module": "@jupyter-widgets/base",
          "model_name": "LayoutModel",
          "state": {
            "_view_name": "LayoutView",
            "grid_template_rows": null,
            "right": null,
            "justify_content": null,
            "_view_module": "@jupyter-widgets/base",
            "overflow": null,
            "_model_module_version": "1.2.0",
            "_view_count": null,
            "flex_flow": null,
            "width": null,
            "min_width": null,
            "border": null,
            "align_items": null,
            "bottom": null,
            "_model_module": "@jupyter-widgets/base",
            "top": null,
            "grid_column": null,
            "overflow_y": null,
            "overflow_x": null,
            "grid_auto_flow": null,
            "grid_area": null,
            "grid_template_columns": null,
            "flex": null,
            "_model_name": "LayoutModel",
            "justify_items": null,
            "grid_row": null,
            "max_height": null,
            "align_content": null,
            "visibility": null,
            "align_self": null,
            "height": null,
            "min_height": null,
            "padding": null,
            "grid_auto_rows": null,
            "grid_gap": null,
            "max_width": null,
            "order": null,
            "_view_module_version": "1.2.0",
            "grid_template_areas": null,
            "object_position": null,
            "object_fit": null,
            "grid_auto_columns": null,
            "margin": null,
            "display": null,
            "left": null
          }
        },
        "ae0934dc7ed744768a47eb5d50a55d9a": {
          "model_module": "@jupyter-widgets/controls",
          "model_name": "DescriptionStyleModel",
          "state": {
            "_view_name": "StyleView",
            "_model_name": "DescriptionStyleModel",
            "description_width": "",
            "_view_module": "@jupyter-widgets/base",
            "_model_module_version": "1.5.0",
            "_view_count": null,
            "_view_module_version": "1.2.0",
            "_model_module": "@jupyter-widgets/controls"
          }
        },
        "de7cee4f1894430283f94bfd09f42594": {
          "model_module": "@jupyter-widgets/base",
          "model_name": "LayoutModel",
          "state": {
            "_view_name": "LayoutView",
            "grid_template_rows": null,
            "right": null,
            "justify_content": null,
            "_view_module": "@jupyter-widgets/base",
            "overflow": null,
            "_model_module_version": "1.2.0",
            "_view_count": null,
            "flex_flow": null,
            "width": null,
            "min_width": null,
            "border": null,
            "align_items": null,
            "bottom": null,
            "_model_module": "@jupyter-widgets/base",
            "top": null,
            "grid_column": null,
            "overflow_y": null,
            "overflow_x": null,
            "grid_auto_flow": null,
            "grid_area": null,
            "grid_template_columns": null,
            "flex": null,
            "_model_name": "LayoutModel",
            "justify_items": null,
            "grid_row": null,
            "max_height": null,
            "align_content": null,
            "visibility": null,
            "align_self": null,
            "height": null,
            "min_height": null,
            "padding": null,
            "grid_auto_rows": null,
            "grid_gap": null,
            "max_width": null,
            "order": null,
            "_view_module_version": "1.2.0",
            "grid_template_areas": null,
            "object_position": null,
            "object_fit": null,
            "grid_auto_columns": null,
            "margin": null,
            "display": null,
            "left": null
          }
        },
        "c69c6928d0e243afabe70014c1f872b9": {
          "model_module": "@jupyter-widgets/controls",
          "model_name": "HBoxModel",
          "state": {
            "_view_name": "HBoxView",
            "_dom_classes": [],
            "_model_name": "HBoxModel",
            "_view_module": "@jupyter-widgets/controls",
            "_model_module_version": "1.5.0",
            "_view_count": null,
            "_view_module_version": "1.5.0",
            "box_style": "",
            "layout": "IPY_MODEL_f94f9c1ff5f4474680b5cfad429de380",
            "_model_module": "@jupyter-widgets/controls",
            "children": [
              "IPY_MODEL_06ac887b15b7471899a02ebe7ffd6604",
              "IPY_MODEL_d3adf0fe1dc14f1987db80502fa9d2f3"
            ]
          }
        },
        "f94f9c1ff5f4474680b5cfad429de380": {
          "model_module": "@jupyter-widgets/base",
          "model_name": "LayoutModel",
          "state": {
            "_view_name": "LayoutView",
            "grid_template_rows": null,
            "right": null,
            "justify_content": null,
            "_view_module": "@jupyter-widgets/base",
            "overflow": null,
            "_model_module_version": "1.2.0",
            "_view_count": null,
            "flex_flow": null,
            "width": null,
            "min_width": null,
            "border": null,
            "align_items": null,
            "bottom": null,
            "_model_module": "@jupyter-widgets/base",
            "top": null,
            "grid_column": null,
            "overflow_y": null,
            "overflow_x": null,
            "grid_auto_flow": null,
            "grid_area": null,
            "grid_template_columns": null,
            "flex": null,
            "_model_name": "LayoutModel",
            "justify_items": null,
            "grid_row": null,
            "max_height": null,
            "align_content": null,
            "visibility": null,
            "align_self": null,
            "height": null,
            "min_height": null,
            "padding": null,
            "grid_auto_rows": null,
            "grid_gap": null,
            "max_width": null,
            "order": null,
            "_view_module_version": "1.2.0",
            "grid_template_areas": null,
            "object_position": null,
            "object_fit": null,
            "grid_auto_columns": null,
            "margin": null,
            "display": null,
            "left": null
          }
        },
        "06ac887b15b7471899a02ebe7ffd6604": {
          "model_module": "@jupyter-widgets/controls",
          "model_name": "FloatProgressModel",
          "state": {
            "_view_name": "ProgressView",
            "style": "IPY_MODEL_9008bc834c91417485d5705e71203071",
            "_dom_classes": [],
            "description": "100%",
            "_model_name": "FloatProgressModel",
            "bar_style": "success",
            "max": 39556,
            "_view_module": "@jupyter-widgets/controls",
            "_model_module_version": "1.5.0",
            "value": 39556,
            "_view_count": null,
            "_view_module_version": "1.5.0",
            "orientation": "horizontal",
            "min": 0,
            "description_tooltip": null,
            "_model_module": "@jupyter-widgets/controls",
            "layout": "IPY_MODEL_c9d0a333bae243649ce141115a3f4a97"
          }
        },
        "d3adf0fe1dc14f1987db80502fa9d2f3": {
          "model_module": "@jupyter-widgets/controls",
          "model_name": "HTMLModel",
          "state": {
            "_view_name": "HTMLView",
            "style": "IPY_MODEL_65b9eb9ecc194fcd9da1502378f9f5b1",
            "_dom_classes": [],
            "description": "",
            "_model_name": "HTMLModel",
            "placeholder": "​",
            "_view_module": "@jupyter-widgets/controls",
            "_model_module_version": "1.5.0",
            "value": " 39556/39556 [00:18&lt;00:00, 2092.90it/s]",
            "_view_count": null,
            "_view_module_version": "1.5.0",
            "description_tooltip": null,
            "_model_module": "@jupyter-widgets/controls",
            "layout": "IPY_MODEL_28179703c1a64054b899acb2446dec77"
          }
        },
        "9008bc834c91417485d5705e71203071": {
          "model_module": "@jupyter-widgets/controls",
          "model_name": "ProgressStyleModel",
          "state": {
            "_view_name": "StyleView",
            "_model_name": "ProgressStyleModel",
            "description_width": "initial",
            "_view_module": "@jupyter-widgets/base",
            "_model_module_version": "1.5.0",
            "_view_count": null,
            "_view_module_version": "1.2.0",
            "bar_color": null,
            "_model_module": "@jupyter-widgets/controls"
          }
        },
        "c9d0a333bae243649ce141115a3f4a97": {
          "model_module": "@jupyter-widgets/base",
          "model_name": "LayoutModel",
          "state": {
            "_view_name": "LayoutView",
            "grid_template_rows": null,
            "right": null,
            "justify_content": null,
            "_view_module": "@jupyter-widgets/base",
            "overflow": null,
            "_model_module_version": "1.2.0",
            "_view_count": null,
            "flex_flow": null,
            "width": null,
            "min_width": null,
            "border": null,
            "align_items": null,
            "bottom": null,
            "_model_module": "@jupyter-widgets/base",
            "top": null,
            "grid_column": null,
            "overflow_y": null,
            "overflow_x": null,
            "grid_auto_flow": null,
            "grid_area": null,
            "grid_template_columns": null,
            "flex": null,
            "_model_name": "LayoutModel",
            "justify_items": null,
            "grid_row": null,
            "max_height": null,
            "align_content": null,
            "visibility": null,
            "align_self": null,
            "height": null,
            "min_height": null,
            "padding": null,
            "grid_auto_rows": null,
            "grid_gap": null,
            "max_width": null,
            "order": null,
            "_view_module_version": "1.2.0",
            "grid_template_areas": null,
            "object_position": null,
            "object_fit": null,
            "grid_auto_columns": null,
            "margin": null,
            "display": null,
            "left": null
          }
        },
        "65b9eb9ecc194fcd9da1502378f9f5b1": {
          "model_module": "@jupyter-widgets/controls",
          "model_name": "DescriptionStyleModel",
          "state": {
            "_view_name": "StyleView",
            "_model_name": "DescriptionStyleModel",
            "description_width": "",
            "_view_module": "@jupyter-widgets/base",
            "_model_module_version": "1.5.0",
            "_view_count": null,
            "_view_module_version": "1.2.0",
            "_model_module": "@jupyter-widgets/controls"
          }
        },
        "28179703c1a64054b899acb2446dec77": {
          "model_module": "@jupyter-widgets/base",
          "model_name": "LayoutModel",
          "state": {
            "_view_name": "LayoutView",
            "grid_template_rows": null,
            "right": null,
            "justify_content": null,
            "_view_module": "@jupyter-widgets/base",
            "overflow": null,
            "_model_module_version": "1.2.0",
            "_view_count": null,
            "flex_flow": null,
            "width": null,
            "min_width": null,
            "border": null,
            "align_items": null,
            "bottom": null,
            "_model_module": "@jupyter-widgets/base",
            "top": null,
            "grid_column": null,
            "overflow_y": null,
            "overflow_x": null,
            "grid_auto_flow": null,
            "grid_area": null,
            "grid_template_columns": null,
            "flex": null,
            "_model_name": "LayoutModel",
            "justify_items": null,
            "grid_row": null,
            "max_height": null,
            "align_content": null,
            "visibility": null,
            "align_self": null,
            "height": null,
            "min_height": null,
            "padding": null,
            "grid_auto_rows": null,
            "grid_gap": null,
            "max_width": null,
            "order": null,
            "_view_module_version": "1.2.0",
            "grid_template_areas": null,
            "object_position": null,
            "object_fit": null,
            "grid_auto_columns": null,
            "margin": null,
            "display": null,
            "left": null
          }
        },
        "9d5c603c676b4ec1bbc9fc22fb719f9e": {
          "model_module": "@jupyter-widgets/controls",
          "model_name": "HBoxModel",
          "state": {
            "_view_name": "HBoxView",
            "_dom_classes": [],
            "_model_name": "HBoxModel",
            "_view_module": "@jupyter-widgets/controls",
            "_model_module_version": "1.5.0",
            "_view_count": null,
            "_view_module_version": "1.5.0",
            "box_style": "",
            "layout": "IPY_MODEL_77eef057886a4a5692e4d5505d9b93a7",
            "_model_module": "@jupyter-widgets/controls",
            "children": [
              "IPY_MODEL_6e6560e9759b45229cb690affe7c2b6c",
              "IPY_MODEL_08835917e1754eb990c75d08e086315e"
            ]
          }
        },
        "77eef057886a4a5692e4d5505d9b93a7": {
          "model_module": "@jupyter-widgets/base",
          "model_name": "LayoutModel",
          "state": {
            "_view_name": "LayoutView",
            "grid_template_rows": null,
            "right": null,
            "justify_content": null,
            "_view_module": "@jupyter-widgets/base",
            "overflow": null,
            "_model_module_version": "1.2.0",
            "_view_count": null,
            "flex_flow": null,
            "width": null,
            "min_width": null,
            "border": null,
            "align_items": null,
            "bottom": null,
            "_model_module": "@jupyter-widgets/base",
            "top": null,
            "grid_column": null,
            "overflow_y": null,
            "overflow_x": null,
            "grid_auto_flow": null,
            "grid_area": null,
            "grid_template_columns": null,
            "flex": null,
            "_model_name": "LayoutModel",
            "justify_items": null,
            "grid_row": null,
            "max_height": null,
            "align_content": null,
            "visibility": null,
            "align_self": null,
            "height": null,
            "min_height": null,
            "padding": null,
            "grid_auto_rows": null,
            "grid_gap": null,
            "max_width": null,
            "order": null,
            "_view_module_version": "1.2.0",
            "grid_template_areas": null,
            "object_position": null,
            "object_fit": null,
            "grid_auto_columns": null,
            "margin": null,
            "display": null,
            "left": null
          }
        },
        "6e6560e9759b45229cb690affe7c2b6c": {
          "model_module": "@jupyter-widgets/controls",
          "model_name": "FloatProgressModel",
          "state": {
            "_view_name": "ProgressView",
            "style": "IPY_MODEL_3369d28a654a44aea68af3d87893e91a",
            "_dom_classes": [],
            "description": "100%",
            "_model_name": "FloatProgressModel",
            "bar_style": "success",
            "max": 9889,
            "_view_module": "@jupyter-widgets/controls",
            "_model_module_version": "1.5.0",
            "value": 9889,
            "_view_count": null,
            "_view_module_version": "1.5.0",
            "orientation": "horizontal",
            "min": 0,
            "description_tooltip": null,
            "_model_module": "@jupyter-widgets/controls",
            "layout": "IPY_MODEL_ed61269983844d979abcf82c1f13cc4c"
          }
        },
        "08835917e1754eb990c75d08e086315e": {
          "model_module": "@jupyter-widgets/controls",
          "model_name": "HTMLModel",
          "state": {
            "_view_name": "HTMLView",
            "style": "IPY_MODEL_484c003a35d743b9879bd431a7801b1c",
            "_dom_classes": [],
            "description": "",
            "_model_name": "HTMLModel",
            "placeholder": "​",
            "_view_module": "@jupyter-widgets/controls",
            "_model_module_version": "1.5.0",
            "value": " 9889/9889 [00:03&lt;00:00, 2978.47it/s]",
            "_view_count": null,
            "_view_module_version": "1.5.0",
            "description_tooltip": null,
            "_model_module": "@jupyter-widgets/controls",
            "layout": "IPY_MODEL_a45849d02eb54625bfd4b54f67f9e92c"
          }
        },
        "3369d28a654a44aea68af3d87893e91a": {
          "model_module": "@jupyter-widgets/controls",
          "model_name": "ProgressStyleModel",
          "state": {
            "_view_name": "StyleView",
            "_model_name": "ProgressStyleModel",
            "description_width": "initial",
            "_view_module": "@jupyter-widgets/base",
            "_model_module_version": "1.5.0",
            "_view_count": null,
            "_view_module_version": "1.2.0",
            "bar_color": null,
            "_model_module": "@jupyter-widgets/controls"
          }
        },
        "ed61269983844d979abcf82c1f13cc4c": {
          "model_module": "@jupyter-widgets/base",
          "model_name": "LayoutModel",
          "state": {
            "_view_name": "LayoutView",
            "grid_template_rows": null,
            "right": null,
            "justify_content": null,
            "_view_module": "@jupyter-widgets/base",
            "overflow": null,
            "_model_module_version": "1.2.0",
            "_view_count": null,
            "flex_flow": null,
            "width": null,
            "min_width": null,
            "border": null,
            "align_items": null,
            "bottom": null,
            "_model_module": "@jupyter-widgets/base",
            "top": null,
            "grid_column": null,
            "overflow_y": null,
            "overflow_x": null,
            "grid_auto_flow": null,
            "grid_area": null,
            "grid_template_columns": null,
            "flex": null,
            "_model_name": "LayoutModel",
            "justify_items": null,
            "grid_row": null,
            "max_height": null,
            "align_content": null,
            "visibility": null,
            "align_self": null,
            "height": null,
            "min_height": null,
            "padding": null,
            "grid_auto_rows": null,
            "grid_gap": null,
            "max_width": null,
            "order": null,
            "_view_module_version": "1.2.0",
            "grid_template_areas": null,
            "object_position": null,
            "object_fit": null,
            "grid_auto_columns": null,
            "margin": null,
            "display": null,
            "left": null
          }
        },
        "484c003a35d743b9879bd431a7801b1c": {
          "model_module": "@jupyter-widgets/controls",
          "model_name": "DescriptionStyleModel",
          "state": {
            "_view_name": "StyleView",
            "_model_name": "DescriptionStyleModel",
            "description_width": "",
            "_view_module": "@jupyter-widgets/base",
            "_model_module_version": "1.5.0",
            "_view_count": null,
            "_view_module_version": "1.2.0",
            "_model_module": "@jupyter-widgets/controls"
          }
        },
        "a45849d02eb54625bfd4b54f67f9e92c": {
          "model_module": "@jupyter-widgets/base",
          "model_name": "LayoutModel",
          "state": {
            "_view_name": "LayoutView",
            "grid_template_rows": null,
            "right": null,
            "justify_content": null,
            "_view_module": "@jupyter-widgets/base",
            "overflow": null,
            "_model_module_version": "1.2.0",
            "_view_count": null,
            "flex_flow": null,
            "width": null,
            "min_width": null,
            "border": null,
            "align_items": null,
            "bottom": null,
            "_model_module": "@jupyter-widgets/base",
            "top": null,
            "grid_column": null,
            "overflow_y": null,
            "overflow_x": null,
            "grid_auto_flow": null,
            "grid_area": null,
            "grid_template_columns": null,
            "flex": null,
            "_model_name": "LayoutModel",
            "justify_items": null,
            "grid_row": null,
            "max_height": null,
            "align_content": null,
            "visibility": null,
            "align_self": null,
            "height": null,
            "min_height": null,
            "padding": null,
            "grid_auto_rows": null,
            "grid_gap": null,
            "max_width": null,
            "order": null,
            "_view_module_version": "1.2.0",
            "grid_template_areas": null,
            "object_position": null,
            "object_fit": null,
            "grid_auto_columns": null,
            "margin": null,
            "display": null,
            "left": null
          }
        }
      }
    },
    "accelerator": "GPU"
  },
  "cells": [
    {
      "cell_type": "code",
      "metadata": {
        "colab_type": "code",
        "id": "NuFnchSfGdd8",
        "colab": {
          "base_uri": "https://localhost:8080/",
          "height": 34
        },
        "outputId": "fb566797-d132-4e09-fde9-6f9a17b99de3"
      },
      "source": [
        "from google.colab import drive\n",
        "drive.mount('/content/drive')"
      ],
      "execution_count": null,
      "outputs": [
        {
          "output_type": "stream",
          "text": [
            "Mounted at /content/drive\n"
          ],
          "name": "stdout"
        }
      ]
    },
    {
      "cell_type": "code",
      "metadata": {
        "id": "Zrv_IhiROXzU",
        "colab_type": "code",
        "colab": {
          "base_uri": "https://localhost:8080/",
          "height": 357
        },
        "outputId": "c0f63b2c-fb5c-48cc-9295-403deb33b9ce"
      },
      "source": [
        "!nvidia-smi"
      ],
      "execution_count": 14,
      "outputs": [
        {
          "output_type": "stream",
          "text": [
            "Sun Sep 20 02:39:19 2020       \n",
            "+-----------------------------------------------------------------------------+\n",
            "| NVIDIA-SMI 450.66       Driver Version: 418.67       CUDA Version: 10.1     |\n",
            "|-------------------------------+----------------------+----------------------+\n",
            "| GPU  Name        Persistence-M| Bus-Id        Disp.A | Volatile Uncorr. ECC |\n",
            "| Fan  Temp  Perf  Pwr:Usage/Cap|         Memory-Usage | GPU-Util  Compute M. |\n",
            "|                               |                      |               MIG M. |\n",
            "|===============================+======================+======================|\n",
            "|   0  Tesla P4            Off  | 00000000:00:04.0 Off |                    0 |\n",
            "| N/A   36C    P8     7W /  75W |      0MiB /  7611MiB |      0%      Default |\n",
            "|                               |                      |                 ERR! |\n",
            "+-------------------------------+----------------------+----------------------+\n",
            "                                                                               \n",
            "+-----------------------------------------------------------------------------+\n",
            "| Processes:                                                                  |\n",
            "|  GPU   GI   CI        PID   Type   Process name                  GPU Memory |\n",
            "|        ID   ID                                                   Usage      |\n",
            "|=============================================================================|\n",
            "|  No running processes found                                                 |\n",
            "+-----------------------------------------------------------------------------+\n"
          ],
          "name": "stdout"
        }
      ]
    },
    {
      "cell_type": "code",
      "metadata": {
        "colab_type": "code",
        "id": "qNkDouT4CfMz",
        "colab": {
          "base_uri": "https://localhost:8080/",
          "height": 1000
        },
        "outputId": "641e95c0-42ee-4a65-ce25-4a0d2e8d2833"
      },
      "source": [
        "! pip install --upgrade numpy pandas tqdm torch catalyst==20.09"
      ],
      "execution_count": 13,
      "outputs": [
        {
          "output_type": "stream",
          "text": [
            "Requirement already up-to-date: numpy in /usr/local/lib/python3.6/dist-packages (1.19.2)\n",
            "Requirement already up-to-date: pandas in /usr/local/lib/python3.6/dist-packages (1.1.2)\n",
            "Requirement already up-to-date: tqdm in /usr/local/lib/python3.6/dist-packages (4.49.0)\n",
            "Requirement already up-to-date: torch in /usr/local/lib/python3.6/dist-packages (1.6.0+cu101)\n",
            "Requirement already up-to-date: catalyst==20.09 in /usr/local/lib/python3.6/dist-packages (20.9)\n",
            "Requirement already satisfied, skipping upgrade: python-dateutil>=2.7.3 in /usr/local/lib/python3.6/dist-packages (from pandas) (2.8.1)\n",
            "Requirement already satisfied, skipping upgrade: pytz>=2017.2 in /usr/local/lib/python3.6/dist-packages (from pandas) (2018.9)\n",
            "Requirement already satisfied, skipping upgrade: future in /usr/local/lib/python3.6/dist-packages (from torch) (0.16.0)\n",
            "Requirement already satisfied, skipping upgrade: tensorboard>=1.14.0 in /usr/local/lib/python3.6/dist-packages (from catalyst==20.09) (2.3.0)\n",
            "Requirement already satisfied, skipping upgrade: plotly>=4.1.0 in /usr/local/lib/python3.6/dist-packages (from catalyst==20.09) (4.4.1)\n",
            "Requirement already satisfied, skipping upgrade: tensorboardX in /usr/local/lib/python3.6/dist-packages (from catalyst==20.09) (2.1)\n",
            "Requirement already satisfied, skipping upgrade: matplotlib in /usr/local/lib/python3.6/dist-packages (from catalyst==20.09) (3.2.2)\n",
            "Requirement already satisfied, skipping upgrade: PyYAML in /usr/local/lib/python3.6/dist-packages (from catalyst==20.09) (3.13)\n",
            "Requirement already satisfied, skipping upgrade: GitPython>=3.1.1 in /usr/local/lib/python3.6/dist-packages (from catalyst==20.09) (3.1.8)\n",
            "Requirement already satisfied, skipping upgrade: packaging in /usr/local/lib/python3.6/dist-packages (from catalyst==20.09) (20.4)\n",
            "Requirement already satisfied, skipping upgrade: deprecation in /usr/local/lib/python3.6/dist-packages (from catalyst==20.09) (2.1.0)\n",
            "Requirement already satisfied, skipping upgrade: scikit-learn>=0.20 in /usr/local/lib/python3.6/dist-packages (from catalyst==20.09) (0.22.2.post1)\n",
            "Requirement already satisfied, skipping upgrade: ipython in /usr/local/lib/python3.6/dist-packages (from catalyst==20.09) (5.5.0)\n",
            "Requirement already satisfied, skipping upgrade: six>=1.5 in /usr/local/lib/python3.6/dist-packages (from python-dateutil>=2.7.3->pandas) (1.15.0)\n",
            "Requirement already satisfied, skipping upgrade: markdown>=2.6.8 in /usr/local/lib/python3.6/dist-packages (from tensorboard>=1.14.0->catalyst==20.09) (3.2.2)\n",
            "Requirement already satisfied, skipping upgrade: google-auth-oauthlib<0.5,>=0.4.1 in /usr/local/lib/python3.6/dist-packages (from tensorboard>=1.14.0->catalyst==20.09) (0.4.1)\n",
            "Requirement already satisfied, skipping upgrade: werkzeug>=0.11.15 in /usr/local/lib/python3.6/dist-packages (from tensorboard>=1.14.0->catalyst==20.09) (1.0.1)\n",
            "Requirement already satisfied, skipping upgrade: grpcio>=1.24.3 in /usr/local/lib/python3.6/dist-packages (from tensorboard>=1.14.0->catalyst==20.09) (1.32.0)\n",
            "Requirement already satisfied, skipping upgrade: protobuf>=3.6.0 in /usr/local/lib/python3.6/dist-packages (from tensorboard>=1.14.0->catalyst==20.09) (3.12.4)\n",
            "Requirement already satisfied, skipping upgrade: wheel>=0.26; python_version >= \"3\" in /usr/local/lib/python3.6/dist-packages (from tensorboard>=1.14.0->catalyst==20.09) (0.35.1)\n",
            "Requirement already satisfied, skipping upgrade: requests<3,>=2.21.0 in /usr/local/lib/python3.6/dist-packages (from tensorboard>=1.14.0->catalyst==20.09) (2.23.0)\n",
            "Requirement already satisfied, skipping upgrade: tensorboard-plugin-wit>=1.6.0 in /usr/local/lib/python3.6/dist-packages (from tensorboard>=1.14.0->catalyst==20.09) (1.7.0)\n",
            "Requirement already satisfied, skipping upgrade: absl-py>=0.4 in /usr/local/lib/python3.6/dist-packages (from tensorboard>=1.14.0->catalyst==20.09) (0.10.0)\n",
            "Requirement already satisfied, skipping upgrade: google-auth<2,>=1.6.3 in /usr/local/lib/python3.6/dist-packages (from tensorboard>=1.14.0->catalyst==20.09) (1.17.2)\n",
            "Requirement already satisfied, skipping upgrade: setuptools>=41.0.0 in /usr/local/lib/python3.6/dist-packages (from tensorboard>=1.14.0->catalyst==20.09) (50.3.0)\n",
            "Requirement already satisfied, skipping upgrade: retrying>=1.3.3 in /usr/local/lib/python3.6/dist-packages (from plotly>=4.1.0->catalyst==20.09) (1.3.3)\n",
            "Requirement already satisfied, skipping upgrade: kiwisolver>=1.0.1 in /usr/local/lib/python3.6/dist-packages (from matplotlib->catalyst==20.09) (1.2.0)\n",
            "Requirement already satisfied, skipping upgrade: pyparsing!=2.0.4,!=2.1.2,!=2.1.6,>=2.0.1 in /usr/local/lib/python3.6/dist-packages (from matplotlib->catalyst==20.09) (2.4.7)\n",
            "Requirement already satisfied, skipping upgrade: cycler>=0.10 in /usr/local/lib/python3.6/dist-packages (from matplotlib->catalyst==20.09) (0.10.0)\n",
            "Requirement already satisfied, skipping upgrade: gitdb<5,>=4.0.1 in /usr/local/lib/python3.6/dist-packages (from GitPython>=3.1.1->catalyst==20.09) (4.0.5)\n",
            "Requirement already satisfied, skipping upgrade: scipy>=0.17.0 in /usr/local/lib/python3.6/dist-packages (from scikit-learn>=0.20->catalyst==20.09) (1.4.1)\n",
            "Requirement already satisfied, skipping upgrade: joblib>=0.11 in /usr/local/lib/python3.6/dist-packages (from scikit-learn>=0.20->catalyst==20.09) (0.16.0)\n",
            "Requirement already satisfied, skipping upgrade: pygments in /usr/local/lib/python3.6/dist-packages (from ipython->catalyst==20.09) (2.6.1)\n",
            "Requirement already satisfied, skipping upgrade: simplegeneric>0.8 in /usr/local/lib/python3.6/dist-packages (from ipython->catalyst==20.09) (0.8.1)\n",
            "Requirement already satisfied, skipping upgrade: traitlets>=4.2 in /usr/local/lib/python3.6/dist-packages (from ipython->catalyst==20.09) (4.3.3)\n",
            "Requirement already satisfied, skipping upgrade: pickleshare in /usr/local/lib/python3.6/dist-packages (from ipython->catalyst==20.09) (0.7.5)\n",
            "Requirement already satisfied, skipping upgrade: pexpect; sys_platform != \"win32\" in /usr/local/lib/python3.6/dist-packages (from ipython->catalyst==20.09) (4.8.0)\n",
            "Requirement already satisfied, skipping upgrade: prompt-toolkit<2.0.0,>=1.0.4 in /usr/local/lib/python3.6/dist-packages (from ipython->catalyst==20.09) (1.0.18)\n",
            "Requirement already satisfied, skipping upgrade: decorator in /usr/local/lib/python3.6/dist-packages (from ipython->catalyst==20.09) (4.4.2)\n",
            "Requirement already satisfied, skipping upgrade: importlib-metadata; python_version < \"3.8\" in /usr/local/lib/python3.6/dist-packages (from markdown>=2.6.8->tensorboard>=1.14.0->catalyst==20.09) (1.7.0)\n",
            "Requirement already satisfied, skipping upgrade: requests-oauthlib>=0.7.0 in /usr/local/lib/python3.6/dist-packages (from google-auth-oauthlib<0.5,>=0.4.1->tensorboard>=1.14.0->catalyst==20.09) (1.3.0)\n",
            "Requirement already satisfied, skipping upgrade: urllib3!=1.25.0,!=1.25.1,<1.26,>=1.21.1 in /usr/local/lib/python3.6/dist-packages (from requests<3,>=2.21.0->tensorboard>=1.14.0->catalyst==20.09) (1.24.3)\n",
            "Requirement already satisfied, skipping upgrade: chardet<4,>=3.0.2 in /usr/local/lib/python3.6/dist-packages (from requests<3,>=2.21.0->tensorboard>=1.14.0->catalyst==20.09) (3.0.4)\n",
            "Requirement already satisfied, skipping upgrade: idna<3,>=2.5 in /usr/local/lib/python3.6/dist-packages (from requests<3,>=2.21.0->tensorboard>=1.14.0->catalyst==20.09) (2.10)\n",
            "Requirement already satisfied, skipping upgrade: certifi>=2017.4.17 in /usr/local/lib/python3.6/dist-packages (from requests<3,>=2.21.0->tensorboard>=1.14.0->catalyst==20.09) (2020.6.20)\n",
            "Requirement already satisfied, skipping upgrade: cachetools<5.0,>=2.0.0 in /usr/local/lib/python3.6/dist-packages (from google-auth<2,>=1.6.3->tensorboard>=1.14.0->catalyst==20.09) (4.1.1)\n",
            "Requirement already satisfied, skipping upgrade: rsa<5,>=3.1.4; python_version >= \"3\" in /usr/local/lib/python3.6/dist-packages (from google-auth<2,>=1.6.3->tensorboard>=1.14.0->catalyst==20.09) (4.6)\n",
            "Requirement already satisfied, skipping upgrade: pyasn1-modules>=0.2.1 in /usr/local/lib/python3.6/dist-packages (from google-auth<2,>=1.6.3->tensorboard>=1.14.0->catalyst==20.09) (0.2.8)\n",
            "Requirement already satisfied, skipping upgrade: smmap<4,>=3.0.1 in /usr/local/lib/python3.6/dist-packages (from gitdb<5,>=4.0.1->GitPython>=3.1.1->catalyst==20.09) (3.0.4)\n",
            "Requirement already satisfied, skipping upgrade: ipython-genutils in /usr/local/lib/python3.6/dist-packages (from traitlets>=4.2->ipython->catalyst==20.09) (0.2.0)\n",
            "Requirement already satisfied, skipping upgrade: ptyprocess>=0.5 in /usr/local/lib/python3.6/dist-packages (from pexpect; sys_platform != \"win32\"->ipython->catalyst==20.09) (0.6.0)\n",
            "Requirement already satisfied, skipping upgrade: wcwidth in /usr/local/lib/python3.6/dist-packages (from prompt-toolkit<2.0.0,>=1.0.4->ipython->catalyst==20.09) (0.2.5)\n",
            "Requirement already satisfied, skipping upgrade: zipp>=0.5 in /usr/local/lib/python3.6/dist-packages (from importlib-metadata; python_version < \"3.8\"->markdown>=2.6.8->tensorboard>=1.14.0->catalyst==20.09) (3.1.0)\n",
            "Requirement already satisfied, skipping upgrade: oauthlib>=3.0.0 in /usr/local/lib/python3.6/dist-packages (from requests-oauthlib>=0.7.0->google-auth-oauthlib<0.5,>=0.4.1->tensorboard>=1.14.0->catalyst==20.09) (3.1.0)\n",
            "Requirement already satisfied, skipping upgrade: pyasn1>=0.1.3 in /usr/local/lib/python3.6/dist-packages (from rsa<5,>=3.1.4; python_version >= \"3\"->google-auth<2,>=1.6.3->tensorboard>=1.14.0->catalyst==20.09) (0.4.8)\n"
          ],
          "name": "stdout"
        }
      ]
    },
    {
      "cell_type": "code",
      "metadata": {
        "colab_type": "code",
        "id": "o08k0IFOCfM3",
        "colab": {}
      },
      "source": [
        "import os\n",
        "import json\n",
        "import pickle\n",
        "from bisect import bisect_left, bisect_right\n",
        "from datetime import datetime, timedelta\n",
        "from collections import defaultdict, Counter\n",
        "from datetime import datetime\n",
        "\n",
        "import numpy as np\n",
        "import pandas as pd\n",
        "from tqdm.notebook import tqdm\n",
        "\n",
        "import seaborn as sns\n",
        "import matplotlib.pyplot as plt\n",
        "\n",
        "# GPU hack if you need\n",
        "os.environ[\"CUDA_VISIBLE_DEVICES\"] = \"0\""
      ],
      "execution_count": 15,
      "outputs": []
    },
    {
      "cell_type": "markdown",
      "metadata": {
        "colab_type": "text",
        "id": "MD0TKDyMCfM7"
      },
      "source": [
        "# Data\n",
        "\n",
        "Columns\n",
        "- `party_rk` – client unique identifier\n",
        "- `account_rk` – client account unique identifier\n",
        "- `financial_account_type_cd` – debit/credit card flag\n",
        "- `transaction_dttm` – operation datetime\n",
        "- `transaction_type_desc` – purchase/payment/...\n",
        "- `transaction_amt_rur` – transaction price\n",
        "- `merchant_type` - DUTY FREE STORES/FUEL DEALERS/RESTAURANTS/ etc\n",
        "- `merchant_group_rk` - McDonald's/Wildberries/ etc\n",
        "\n",
        "It's important that table is already sorted by `transaction_dttm` column!!!"
      ]
    },
    {
      "cell_type": "code",
      "metadata": {
        "id": "XNSnNM1-SwTv",
        "colab_type": "code",
        "colab": {}
      },
      "source": [
        "DATADIR = r\"/content/drive/My Drive/tinkoff_2/hackathon_data\""
      ],
      "execution_count": 16,
      "outputs": []
    },
    {
      "cell_type": "code",
      "metadata": {
        "colab_type": "code",
        "id": "NxRbuZnfCfM8",
        "scrolled": false,
        "colab": {}
      },
      "source": [
        "transactions_path = f\"{DATADIR}/avk_hackathon_data_transactions.csv\"\n",
        "transactions_enhanced_path = f\"{DATADIR}/avk_hackathon_data_trans_socdem_products_balance_encoded.csv\"\n",
        "# transactions_df = pd.read_csv(transactions_path)\n",
        "# print(transactions_df.shape)\n",
        "# transactions_df.iloc[500:520]"
      ],
      "execution_count": 17,
      "outputs": []
    },
    {
      "cell_type": "code",
      "metadata": {
        "id": "rVo_byXLSiKJ",
        "colab_type": "code",
        "colab": {
          "base_uri": "https://localhost:8080/"
        },
        "outputId": "5239d366-f504-49d3-ecb1-64a2f2cccd02"
      },
      "source": [
        "transactions_df.sort_values('transaction_amt_rur', ascending=False).head(20)"
      ],
      "execution_count": null,
      "outputs": [
        {
          "output_type": "execute_result",
          "data": {
            "text/html": [
              "<div>\n",
              "<style scoped>\n",
              "    .dataframe tbody tr th:only-of-type {\n",
              "        vertical-align: middle;\n",
              "    }\n",
              "\n",
              "    .dataframe tbody tr th {\n",
              "        vertical-align: top;\n",
              "    }\n",
              "\n",
              "    .dataframe thead th {\n",
              "        text-align: right;\n",
              "    }\n",
              "</style>\n",
              "<table border=\"1\" class=\"dataframe\">\n",
              "  <thead>\n",
              "    <tr style=\"text-align: right;\">\n",
              "      <th></th>\n",
              "      <th>party_rk</th>\n",
              "      <th>account_rk</th>\n",
              "      <th>financial_account_type_cd</th>\n",
              "      <th>transaction_dttm</th>\n",
              "      <th>transaction_type_desc</th>\n",
              "      <th>transaction_amt_rur</th>\n",
              "      <th>merchant_rk</th>\n",
              "      <th>merchant_type</th>\n",
              "      <th>merchant_group_rk</th>\n",
              "      <th>category</th>\n",
              "    </tr>\n",
              "  </thead>\n",
              "  <tbody>\n",
              "    <tr>\n",
              "      <th>11305825</th>\n",
              "      <td>8864</td>\n",
              "      <td>8064</td>\n",
              "      <td>2</td>\n",
              "      <td>2019-12-19</td>\n",
              "      <td>Платеж</td>\n",
              "      <td>20000100.00</td>\n",
              "      <td>362481.0</td>\n",
              "      <td>1.0</td>\n",
              "      <td>NaN</td>\n",
              "      <td>NaN</td>\n",
              "    </tr>\n",
              "    <tr>\n",
              "      <th>10337120</th>\n",
              "      <td>8864</td>\n",
              "      <td>29751</td>\n",
              "      <td>2</td>\n",
              "      <td>2019-11-28</td>\n",
              "      <td>Платеж</td>\n",
              "      <td>12794540.00</td>\n",
              "      <td>825320.0</td>\n",
              "      <td>1.0</td>\n",
              "      <td>NaN</td>\n",
              "      <td>NaN</td>\n",
              "    </tr>\n",
              "    <tr>\n",
              "      <th>10280765</th>\n",
              "      <td>8864</td>\n",
              "      <td>29751</td>\n",
              "      <td>2</td>\n",
              "      <td>2019-11-20</td>\n",
              "      <td>Платеж</td>\n",
              "      <td>12754700.00</td>\n",
              "      <td>825320.0</td>\n",
              "      <td>1.0</td>\n",
              "      <td>NaN</td>\n",
              "      <td>NaN</td>\n",
              "    </tr>\n",
              "    <tr>\n",
              "      <th>11573153</th>\n",
              "      <td>8864</td>\n",
              "      <td>8064</td>\n",
              "      <td>2</td>\n",
              "      <td>2019-12-20</td>\n",
              "      <td>Оплата услуг</td>\n",
              "      <td>11519300.00</td>\n",
              "      <td>1449700.0</td>\n",
              "      <td>2.0</td>\n",
              "      <td>NaN</td>\n",
              "      <td>NaN</td>\n",
              "    </tr>\n",
              "    <tr>\n",
              "      <th>8657969</th>\n",
              "      <td>8864</td>\n",
              "      <td>8064</td>\n",
              "      <td>2</td>\n",
              "      <td>2019-09-30</td>\n",
              "      <td>Платеж</td>\n",
              "      <td>11000100.00</td>\n",
              "      <td>362481.0</td>\n",
              "      <td>1.0</td>\n",
              "      <td>NaN</td>\n",
              "      <td>NaN</td>\n",
              "    </tr>\n",
              "    <tr>\n",
              "      <th>2134332</th>\n",
              "      <td>44285</td>\n",
              "      <td>45289</td>\n",
              "      <td>2</td>\n",
              "      <td>2019-02-15</td>\n",
              "      <td>Платеж</td>\n",
              "      <td>11000100.00</td>\n",
              "      <td>825899.0</td>\n",
              "      <td>1.0</td>\n",
              "      <td>NaN</td>\n",
              "      <td>NaN</td>\n",
              "    </tr>\n",
              "    <tr>\n",
              "      <th>4310703</th>\n",
              "      <td>8864</td>\n",
              "      <td>29751</td>\n",
              "      <td>2</td>\n",
              "      <td>2019-06-05</td>\n",
              "      <td>Платеж</td>\n",
              "      <td>10751731.00</td>\n",
              "      <td>825320.0</td>\n",
              "      <td>1.0</td>\n",
              "      <td>NaN</td>\n",
              "      <td>NaN</td>\n",
              "    </tr>\n",
              "    <tr>\n",
              "      <th>36261</th>\n",
              "      <td>2646</td>\n",
              "      <td>2085</td>\n",
              "      <td>2</td>\n",
              "      <td>2019-01-20</td>\n",
              "      <td>Платеж</td>\n",
              "      <td>9949735.00</td>\n",
              "      <td>1175590.0</td>\n",
              "      <td>1.0</td>\n",
              "      <td>NaN</td>\n",
              "      <td>NaN</td>\n",
              "    </tr>\n",
              "    <tr>\n",
              "      <th>6315631</th>\n",
              "      <td>14956</td>\n",
              "      <td>104902</td>\n",
              "      <td>2</td>\n",
              "      <td>2019-08-12</td>\n",
              "      <td>Платеж</td>\n",
              "      <td>9240100.00</td>\n",
              "      <td>826957.0</td>\n",
              "      <td>1.0</td>\n",
              "      <td>NaN</td>\n",
              "      <td>NaN</td>\n",
              "    </tr>\n",
              "    <tr>\n",
              "      <th>6296885</th>\n",
              "      <td>14956</td>\n",
              "      <td>109628</td>\n",
              "      <td>2</td>\n",
              "      <td>2019-08-13</td>\n",
              "      <td>Платеж</td>\n",
              "      <td>9200100.00</td>\n",
              "      <td>2301710.0</td>\n",
              "      <td>1.0</td>\n",
              "      <td>NaN</td>\n",
              "      <td>NaN</td>\n",
              "    </tr>\n",
              "    <tr>\n",
              "      <th>4790766</th>\n",
              "      <td>8864</td>\n",
              "      <td>8064</td>\n",
              "      <td>2</td>\n",
              "      <td>2019-06-28</td>\n",
              "      <td>Платеж</td>\n",
              "      <td>9000100.00</td>\n",
              "      <td>362481.0</td>\n",
              "      <td>1.0</td>\n",
              "      <td>NaN</td>\n",
              "      <td>NaN</td>\n",
              "    </tr>\n",
              "    <tr>\n",
              "      <th>10830457</th>\n",
              "      <td>8864</td>\n",
              "      <td>8064</td>\n",
              "      <td>2</td>\n",
              "      <td>2019-11-29</td>\n",
              "      <td>Платеж</td>\n",
              "      <td>9000100.00</td>\n",
              "      <td>362481.0</td>\n",
              "      <td>1.0</td>\n",
              "      <td>NaN</td>\n",
              "      <td>NaN</td>\n",
              "    </tr>\n",
              "    <tr>\n",
              "      <th>6237217</th>\n",
              "      <td>8864</td>\n",
              "      <td>8064</td>\n",
              "      <td>2</td>\n",
              "      <td>2019-07-24</td>\n",
              "      <td>Оплата услуг</td>\n",
              "      <td>9000100.00</td>\n",
              "      <td>1448347.0</td>\n",
              "      <td>2.0</td>\n",
              "      <td>NaN</td>\n",
              "      <td>NaN</td>\n",
              "    </tr>\n",
              "    <tr>\n",
              "      <th>7184651</th>\n",
              "      <td>8864</td>\n",
              "      <td>8064</td>\n",
              "      <td>2</td>\n",
              "      <td>2019-08-29</td>\n",
              "      <td>Оплата услуг</td>\n",
              "      <td>9000100.00</td>\n",
              "      <td>1449515.0</td>\n",
              "      <td>2.0</td>\n",
              "      <td>NaN</td>\n",
              "      <td>NaN</td>\n",
              "    </tr>\n",
              "    <tr>\n",
              "      <th>5769459</th>\n",
              "      <td>8864</td>\n",
              "      <td>8064</td>\n",
              "      <td>2</td>\n",
              "      <td>2019-07-24</td>\n",
              "      <td>Платеж</td>\n",
              "      <td>9000100.00</td>\n",
              "      <td>2200014.0</td>\n",
              "      <td>1.0</td>\n",
              "      <td>NaN</td>\n",
              "      <td>NaN</td>\n",
              "    </tr>\n",
              "    <tr>\n",
              "      <th>11149508</th>\n",
              "      <td>8864</td>\n",
              "      <td>8064</td>\n",
              "      <td>2</td>\n",
              "      <td>2019-12-12</td>\n",
              "      <td>Платеж</td>\n",
              "      <td>8500100.00</td>\n",
              "      <td>2948383.0</td>\n",
              "      <td>1.0</td>\n",
              "      <td>NaN</td>\n",
              "      <td>NaN</td>\n",
              "    </tr>\n",
              "    <tr>\n",
              "      <th>11506326</th>\n",
              "      <td>8864</td>\n",
              "      <td>8064</td>\n",
              "      <td>2</td>\n",
              "      <td>2019-12-12</td>\n",
              "      <td>Оплата услуг</td>\n",
              "      <td>8379100.00</td>\n",
              "      <td>1449700.0</td>\n",
              "      <td>2.0</td>\n",
              "      <td>NaN</td>\n",
              "      <td>NaN</td>\n",
              "    </tr>\n",
              "    <tr>\n",
              "      <th>1033541</th>\n",
              "      <td>44285</td>\n",
              "      <td>45289</td>\n",
              "      <td>2</td>\n",
              "      <td>2019-02-15</td>\n",
              "      <td>Оплата услуг</td>\n",
              "      <td>8300100.00</td>\n",
              "      <td>363007.0</td>\n",
              "      <td>2.0</td>\n",
              "      <td>NaN</td>\n",
              "      <td>NaN</td>\n",
              "    </tr>\n",
              "    <tr>\n",
              "      <th>11617123</th>\n",
              "      <td>89970</td>\n",
              "      <td>120093</td>\n",
              "      <td>2</td>\n",
              "      <td>2019-12-23</td>\n",
              "      <td>Платеж</td>\n",
              "      <td>8194152.23</td>\n",
              "      <td>3013083.0</td>\n",
              "      <td>1.0</td>\n",
              "      <td>NaN</td>\n",
              "      <td>NaN</td>\n",
              "    </tr>\n",
              "    <tr>\n",
              "      <th>6934961</th>\n",
              "      <td>8864</td>\n",
              "      <td>8064</td>\n",
              "      <td>2</td>\n",
              "      <td>2019-08-29</td>\n",
              "      <td>Платеж</td>\n",
              "      <td>8000100.00</td>\n",
              "      <td>362481.0</td>\n",
              "      <td>1.0</td>\n",
              "      <td>NaN</td>\n",
              "      <td>NaN</td>\n",
              "    </tr>\n",
              "  </tbody>\n",
              "</table>\n",
              "</div>"
            ],
            "text/plain": [
              "          party_rk  account_rk  ...  merchant_group_rk category\n",
              "11305825      8864        8064  ...                NaN      NaN\n",
              "10337120      8864       29751  ...                NaN      NaN\n",
              "10280765      8864       29751  ...                NaN      NaN\n",
              "11573153      8864        8064  ...                NaN      NaN\n",
              "8657969       8864        8064  ...                NaN      NaN\n",
              "2134332      44285       45289  ...                NaN      NaN\n",
              "4310703       8864       29751  ...                NaN      NaN\n",
              "36261         2646        2085  ...                NaN      NaN\n",
              "6315631      14956      104902  ...                NaN      NaN\n",
              "6296885      14956      109628  ...                NaN      NaN\n",
              "4790766       8864        8064  ...                NaN      NaN\n",
              "10830457      8864        8064  ...                NaN      NaN\n",
              "6237217       8864        8064  ...                NaN      NaN\n",
              "7184651       8864        8064  ...                NaN      NaN\n",
              "5769459       8864        8064  ...                NaN      NaN\n",
              "11149508      8864        8064  ...                NaN      NaN\n",
              "11506326      8864        8064  ...                NaN      NaN\n",
              "1033541      44285       45289  ...                NaN      NaN\n",
              "11617123     89970      120093  ...                NaN      NaN\n",
              "6934961       8864        8064  ...                NaN      NaN\n",
              "\n",
              "[20 rows x 10 columns]"
            ]
          },
          "metadata": {
            "tags": []
          },
          "execution_count": 120
        }
      ]
    },
    {
      "cell_type": "code",
      "metadata": {
        "id": "w_aMsqJt1FN1",
        "colab_type": "code",
        "colab": {
          "base_uri": "https://localhost:8080/",
          "height": 204
        },
        "outputId": "56b66f42-a8b5-4968-9be6-405417087f2d"
      },
      "source": [
        "transactions_df.isna().sum()"
      ],
      "execution_count": null,
      "outputs": [
        {
          "output_type": "execute_result",
          "data": {
            "text/plain": [
              "party_rk                           0\n",
              "account_rk                         0\n",
              "financial_account_type_cd          0\n",
              "transaction_dttm                   0\n",
              "transaction_type_desc              0\n",
              "transaction_amt_rur                6\n",
              "merchant_rk                      976\n",
              "merchant_type                   1665\n",
              "merchant_group_rk            6223963\n",
              "category                     1881017\n",
              "dtype: int64"
            ]
          },
          "metadata": {
            "tags": []
          },
          "execution_count": 14
        }
      ]
    },
    {
      "cell_type": "code",
      "metadata": {
        "id": "Iohqjwc_G3KS",
        "colab_type": "code",
        "colab": {
          "base_uri": "https://localhost:8080/",
          "height": 545
        },
        "outputId": "e03cc67d-27c6-4f03-af00-d24aefd2b1e3"
      },
      "source": [
        "tmp_df = transactions_df[['party_rk', 'account_rk']].groupby('party_rk').nunique()\n",
        "plt.plot(tmp_df.index, tmp_df)\n",
        "tmp_df.describe()"
      ],
      "execution_count": null,
      "outputs": [
        {
          "output_type": "execute_result",
          "data": {
            "text/html": [
              "<div>\n",
              "<style scoped>\n",
              "    .dataframe tbody tr th:only-of-type {\n",
              "        vertical-align: middle;\n",
              "    }\n",
              "\n",
              "    .dataframe tbody tr th {\n",
              "        vertical-align: top;\n",
              "    }\n",
              "\n",
              "    .dataframe thead th {\n",
              "        text-align: right;\n",
              "    }\n",
              "</style>\n",
              "<table border=\"1\" class=\"dataframe\">\n",
              "  <thead>\n",
              "    <tr style=\"text-align: right;\">\n",
              "      <th></th>\n",
              "      <th>account_rk</th>\n",
              "    </tr>\n",
              "  </thead>\n",
              "  <tbody>\n",
              "    <tr>\n",
              "      <th>count</th>\n",
              "      <td>50000.000000</td>\n",
              "    </tr>\n",
              "    <tr>\n",
              "      <th>mean</th>\n",
              "      <td>1.331660</td>\n",
              "    </tr>\n",
              "    <tr>\n",
              "      <th>std</th>\n",
              "      <td>0.662926</td>\n",
              "    </tr>\n",
              "    <tr>\n",
              "      <th>min</th>\n",
              "      <td>1.000000</td>\n",
              "    </tr>\n",
              "    <tr>\n",
              "      <th>25%</th>\n",
              "      <td>1.000000</td>\n",
              "    </tr>\n",
              "    <tr>\n",
              "      <th>50%</th>\n",
              "      <td>1.000000</td>\n",
              "    </tr>\n",
              "    <tr>\n",
              "      <th>75%</th>\n",
              "      <td>2.000000</td>\n",
              "    </tr>\n",
              "    <tr>\n",
              "      <th>max</th>\n",
              "      <td>11.000000</td>\n",
              "    </tr>\n",
              "  </tbody>\n",
              "</table>\n",
              "</div>"
            ],
            "text/plain": [
              "         account_rk\n",
              "count  50000.000000\n",
              "mean       1.331660\n",
              "std        0.662926\n",
              "min        1.000000\n",
              "25%        1.000000\n",
              "50%        1.000000\n",
              "75%        2.000000\n",
              "max       11.000000"
            ]
          },
          "metadata": {
            "tags": []
          },
          "execution_count": 15
        },
        {
          "output_type": "display_data",
          "data": {
            "image/png": "[encoded data removed]",
            "text/plain": [
              "<Figure size 432x288 with 1 Axes>"
            ]
          },
          "metadata": {
            "tags": [],
            "needs_background": "light"
          }
        }
      ]
    },
    {
      "cell_type": "code",
      "metadata": {
        "id": "o9VMtqf603B6",
        "colab_type": "code",
        "colab": {
          "base_uri": "https://localhost:8080/",
          "height": 307
        },
        "outputId": "13c0f349-7e45-40f0-dac6-de8b7e414485"
      },
      "source": [
        "tmp_df = transactions_df['financial_account_type_cd'].value_counts()\n",
        "print(tmp_df[2]/tmp_df[1])\n",
        "tmp_df.plot(kind='bar')"
      ],
      "execution_count": null,
      "outputs": [
        {
          "output_type": "stream",
          "text": [
            "2.0302016205069404\n"
          ],
          "name": "stdout"
        },
        {
          "output_type": "execute_result",
          "data": {
            "text/plain": [
              "<matplotlib.axes._subplots.AxesSubplot at 0x7fc67eee1f28>"
            ]
          },
          "metadata": {
            "tags": []
          },
          "execution_count": 16
        },
        {
          "output_type": "display_data",
          "data": {
            "image/png": "[encoded data removed]",
            "text/plain": [
              "<Figure size 432x288 with 1 Axes>"
            ]
          },
          "metadata": {
            "tags": [],
            "needs_background": "light"
          }
        }
      ]
    },
    {
      "cell_type": "code",
      "metadata": {
        "id": "JtOsOkFJ97Ca",
        "colab_type": "code",
        "colab": {
          "base_uri": "https://localhost:8080/",
          "height": 271
        },
        "outputId": "db5e5c0d-cfff-45b6-e52f-e6cc935ebe7c"
      },
      "source": [
        "tmp_df = transactions_df['transaction_dttm'].value_counts()\n",
        "tmp_df.index = tmp_df.index.map(lambda x: datetime.strptime(x, '%Y-%m-%d'))\n",
        "tmp_df.sort_index(inplace=True)\n",
        "tmp_df.plot(kind='bar')\n",
        "plt.gca().set_xticks([])\n",
        "print(tmp_df.index[0], tmp_df.index[1], '...', tmp_df.index[-1])"
      ],
      "execution_count": null,
      "outputs": [
        {
          "output_type": "stream",
          "text": [
            "2019-01-01 00:00:00 2019-01-02 00:00:00 ... 2019-12-31 00:00:00\n"
          ],
          "name": "stdout"
        },
        {
          "output_type": "display_data",
          "data": {
            "image/png": "[encoded data removed]",
            "text/plain": [
              "<Figure size 432x288 with 1 Axes>"
            ]
          },
          "metadata": {
            "tags": [],
            "needs_background": "light"
          }
        }
      ]
    },
    {
      "cell_type": "code",
      "metadata": {
        "id": "T43qexnt-67Y",
        "colab_type": "code",
        "colab": {
          "base_uri": "https://localhost:8080/",
          "height": 376
        },
        "outputId": "a73a6dee-468c-4390-ca2b-9d044001a622"
      },
      "source": [
        "transactions_df['transaction_type_desc'].value_counts().plot(kind='bar')"
      ],
      "execution_count": null,
      "outputs": [
        {
          "output_type": "execute_result",
          "data": {
            "text/plain": [
              "<matplotlib.axes._subplots.AxesSubplot at 0x7fc67d886be0>"
            ]
          },
          "metadata": {
            "tags": []
          },
          "execution_count": 43
        },
        {
          "output_type": "display_data",
          "data": {
            "image/png": "[encoded data removed]",
            "text/plain": [
              "<Figure size 432x288 with 1 Axes>"
            ]
          },
          "metadata": {
            "tags": [],
            "needs_background": "light"
          }
        }
      ]
    },
    {
      "cell_type": "code",
      "metadata": {
        "id": "BxePoxQJ-7IR",
        "colab_type": "code",
        "colab": {
          "base_uri": "https://localhost:8080/",
          "height": 303
        },
        "outputId": "52f7044b-731b-4e3d-bc12-2d6d07c91bb9"
      },
      "source": [
        "tmp_df = transactions_df['transaction_amt_rur'].dropna()\n",
        "\n",
        "print(tmp_df.median(), tmp_df.mean())\n",
        "plt.boxplot(tmp_df)\n",
        "plt.ylim([-10, 25000])"
      ],
      "execution_count": null,
      "outputs": [
        {
          "output_type": "stream",
          "text": [
            "391.0 3186.888401838067\n"
          ],
          "name": "stdout"
        },
        {
          "output_type": "execute_result",
          "data": {
            "text/plain": [
              "(-10.0, 25000.0)"
            ]
          },
          "metadata": {
            "tags": []
          },
          "execution_count": 44
        },
        {
          "output_type": "display_data",
          "data": {
            "image/png": "[encoded data removed]",
            "text/plain": [
              "<Figure size 432x288 with 1 Axes>"
            ]
          },
          "metadata": {
            "tags": [],
            "needs_background": "light"
          }
        }
      ]
    },
    {
      "cell_type": "code",
      "metadata": {
        "id": "aFr8_hmy-7UA",
        "colab_type": "code",
        "colab": {
          "base_uri": "https://localhost:8080/",
          "height": 435
        },
        "outputId": "9431ebe7-b735-419b-e2e1-9bd15c8b4866"
      },
      "source": [
        "tmp_df = transactions_df['merchant_type'].dropna()\n",
        "tmp_df.value_counts().plot(kind='hist', bins=50)\n",
        "plt.ylim([0, 20])\n",
        "tmp_df.describe()"
      ],
      "execution_count": null,
      "outputs": [
        {
          "output_type": "execute_result",
          "data": {
            "text/plain": [
              "count    1.198595e+07\n",
              "mean     2.666716e+02\n",
              "std      1.215151e+02\n",
              "min      1.000000e+00\n",
              "25%      2.750000e+02\n",
              "50%      2.860000e+02\n",
              "75%      3.300000e+02\n",
              "max      4.980000e+02\n",
              "Name: merchant_type, dtype: float64"
            ]
          },
          "metadata": {
            "tags": []
          },
          "execution_count": 47
        },
        {
          "output_type": "display_data",
          "data": {
            "image/png": "[encoded data removed]",
            "text/plain": [
              "<Figure size 432x288 with 1 Axes>"
            ]
          },
          "metadata": {
            "tags": [],
            "needs_background": "light"
          }
        }
      ]
    },
    {
      "cell_type": "code",
      "metadata": {
        "id": "O__O4xw3-8Z9",
        "colab_type": "code",
        "colab": {
          "base_uri": "https://localhost:8080/",
          "height": 295
        },
        "outputId": "ed93d7a4-cf53-428f-98a2-8d23545be36d"
      },
      "source": [
        "tmp_df = transactions_df[['merchant_rk', 'merchant_group_rk']].groupby('merchant_rk').count()\n",
        "plt.plot(tmp_df.index, tmp_df)"
      ],
      "execution_count": null,
      "outputs": [
        {
          "output_type": "execute_result",
          "data": {
            "text/plain": [
              "[<matplotlib.lines.Line2D at 0x7fc67c8882b0>]"
            ]
          },
          "metadata": {
            "tags": []
          },
          "execution_count": 49
        },
        {
          "output_type": "display_data",
          "data": {
            "image/png": "[encoded data removed]",
            "text/plain": [
              "<Figure size 432x288 with 1 Axes>"
            ]
          },
          "metadata": {
            "tags": [],
            "needs_background": "light"
          }
        }
      ]
    },
    {
      "cell_type": "code",
      "metadata": {
        "id": "Ek9Yh6jD-83p",
        "colab_type": "code",
        "colab": {
          "base_uri": "https://localhost:8080/",
          "height": 530
        },
        "outputId": "30bf3e59-0b68-47f4-ca79-ca6ab958402e"
      },
      "source": [
        "tmp_df = transactions_df['category'].value_counts()\n",
        "tmp_df.plot(kind='bar')\n",
        "tmp_df.describe()"
      ],
      "execution_count": null,
      "outputs": [
        {
          "output_type": "execute_result",
          "data": {
            "text/plain": [
              "count    3.600000e+01\n",
              "mean     2.807389e+05\n",
              "std      6.761545e+05\n",
              "min      1.872000e+03\n",
              "25%      3.004575e+04\n",
              "50%      5.550750e+04\n",
              "75%      2.692645e+05\n",
              "max      3.938925e+06\n",
              "Name: category, dtype: float64"
            ]
          },
          "metadata": {
            "tags": []
          },
          "execution_count": 50
        },
        {
          "output_type": "display_data",
          "data": {
            "image/png": "[encoded data removed]",
            "text/plain": [
              "<Figure size 432x288 with 1 Axes>"
            ]
          },
          "metadata": {
            "tags": [],
            "needs_background": "light"
          }
        }
      ]
    },
    {
      "cell_type": "code",
      "metadata": {
        "id": "dedPds07-9Ir",
        "colab_type": "code",
        "colab": {}
      },
      "source": [
        ""
      ],
      "execution_count": null,
      "outputs": []
    },
    {
      "cell_type": "code",
      "metadata": {
        "id": "sLs7-d0c-9YG",
        "colab_type": "code",
        "colab": {}
      },
      "source": [
        ""
      ],
      "execution_count": null,
      "outputs": []
    },
    {
      "cell_type": "code",
      "metadata": {
        "id": "JNovQFII-9k6",
        "colab_type": "code",
        "colab": {}
      },
      "source": [
        ""
      ],
      "execution_count": null,
      "outputs": []
    },
    {
      "cell_type": "code",
      "metadata": {
        "id": "MnwQCC4P-9yk",
        "colab_type": "code",
        "colab": {}
      },
      "source": [
        ""
      ],
      "execution_count": null,
      "outputs": []
    },
    {
      "cell_type": "code",
      "metadata": {
        "id": "q3vGYR0r-9_a",
        "colab_type": "code",
        "colab": {}
      },
      "source": [
        ""
      ],
      "execution_count": null,
      "outputs": []
    },
    {
      "cell_type": "code",
      "metadata": {
        "id": "TCAzRtye--Mk",
        "colab_type": "code",
        "colab": {}
      },
      "source": [
        ""
      ],
      "execution_count": null,
      "outputs": []
    },
    {
      "cell_type": "code",
      "metadata": {
        "id": "yfeJljtPJoUs",
        "colab_type": "code",
        "colab": {}
      },
      "source": [
        ""
      ],
      "execution_count": null,
      "outputs": []
    },
    {
      "cell_type": "code",
      "metadata": {
        "id": "xmYh-ADoJokb",
        "colab_type": "code",
        "colab": {}
      },
      "source": [
        ""
      ],
      "execution_count": null,
      "outputs": []
    },
    {
      "cell_type": "code",
      "metadata": {
        "id": "MC8SyMUBJozu",
        "colab_type": "code",
        "colab": {}
      },
      "source": [
        ""
      ],
      "execution_count": null,
      "outputs": []
    },
    {
      "cell_type": "code",
      "metadata": {
        "id": "xkKPjwgoJpEh",
        "colab_type": "code",
        "colab": {}
      },
      "source": [
        ""
      ],
      "execution_count": null,
      "outputs": []
    },
    {
      "cell_type": "code",
      "metadata": {
        "id": "9fOsgoeNJpS3",
        "colab_type": "code",
        "colab": {}
      },
      "source": [
        ""
      ],
      "execution_count": null,
      "outputs": []
    },
    {
      "cell_type": "code",
      "metadata": {
        "id": "R040G6HGJphT",
        "colab_type": "code",
        "colab": {}
      },
      "source": [
        ""
      ],
      "execution_count": null,
      "outputs": []
    },
    {
      "cell_type": "code",
      "metadata": {
        "id": "Q4yrxlMExyfh",
        "colab_type": "code",
        "colab": {
          "base_uri": "https://localhost:8080/",
          "height": 221
        },
        "outputId": "704e25fa-c26c-4028-f6b4-70af6c1513d9"
      },
      "source": [
        "story_texts_path = f\"{DATADIR}/avk_hackathon_data_story_texts.csv\"\n",
        "story_texts_df = pd.read_csv(story_texts_path)\n",
        "print(story_texts_df.shape)\n",
        "story_texts_df.head()"
      ],
      "execution_count": null,
      "outputs": [
        {
          "output_type": "stream",
          "text": [
            "(1631, 3)\n"
          ],
          "name": "stdout"
        },
        {
          "output_type": "execute_result",
          "data": {
            "text/html": [
              "<div>\n",
              "<style scoped>\n",
              "    .dataframe tbody tr th:only-of-type {\n",
              "        vertical-align: middle;\n",
              "    }\n",
              "\n",
              "    .dataframe tbody tr th {\n",
              "        vertical-align: top;\n",
              "    }\n",
              "\n",
              "    .dataframe thead th {\n",
              "        text-align: right;\n",
              "    }\n",
              "</style>\n",
              "<table border=\"1\" class=\"dataframe\">\n",
              "  <thead>\n",
              "    <tr style=\"text-align: right;\">\n",
              "      <th></th>\n",
              "      <th>story_id</th>\n",
              "      <th>name</th>\n",
              "      <th>story_text</th>\n",
              "    </tr>\n",
              "  </thead>\n",
              "  <tbody>\n",
              "    <tr>\n",
              "      <th>0</th>\n",
              "      <td>794</td>\n",
              "      <td>Профессия: свадебный организатор</td>\n",
              "      <td>[\"\",\"Как стать свадебным организатором\",\"Это Л...</td>\n",
              "    </tr>\n",
              "    <tr>\n",
              "      <th>1</th>\n",
              "      <td>821</td>\n",
              "      <td>Бизнес: магазин электроники</td>\n",
              "      <td>[\"\",\"Как открыть интернет-магазин электроники\"...</td>\n",
              "    </tr>\n",
              "    <tr>\n",
              "      <th>2</th>\n",
              "      <td>824</td>\n",
              "      <td>Как у них: Сингапур</td>\n",
              "      <td>[\"\",\"Жизнь в Сингапуре\",\"Это Славина. Вместе с...</td>\n",
              "    </tr>\n",
              "    <tr>\n",
              "      <th>3</th>\n",
              "      <td>839</td>\n",
              "      <td>Студии йоги</td>\n",
              "      <td>[\"\",\"Студии йоги\",\"7 московских студий, где мо...</td>\n",
              "    </tr>\n",
              "    <tr>\n",
              "      <th>4</th>\n",
              "      <td>848</td>\n",
              "      <td>Как получать больше кэшбэка</td>\n",
              "      <td>[\"\",\"Как получать больше кэшбэка\",\"Подключите ...</td>\n",
              "    </tr>\n",
              "  </tbody>\n",
              "</table>\n",
              "</div>"
            ],
            "text/plain": [
              "   story_id  ...                                         story_text\n",
              "0       794  ...  [\"\",\"Как стать свадебным организатором\",\"Это Л...\n",
              "1       821  ...  [\"\",\"Как открыть интернет-магазин электроники\"...\n",
              "2       824  ...  [\"\",\"Жизнь в Сингапуре\",\"Это Славина. Вместе с...\n",
              "3       839  ...  [\"\",\"Студии йоги\",\"7 московских студий, где мо...\n",
              "4       848  ...  [\"\",\"Как получать больше кэшбэка\",\"Подключите ...\n",
              "\n",
              "[5 rows x 3 columns]"
            ]
          },
          "metadata": {
            "tags": []
          },
          "execution_count": 4
        }
      ]
    },
    {
      "cell_type": "code",
      "metadata": {
        "id": "Oc84xKEbKj-2",
        "colab_type": "code",
        "colab": {
          "base_uri": "https://localhost:8080/",
          "height": 157
        },
        "outputId": "6e76a9c6-2711-49dc-ebb6-e284d2c52bc6"
      },
      "source": [
        "story_texts_df['story_text'].iloc[0]"
      ],
      "execution_count": null,
      "outputs": [
        {
          "output_type": "execute_result",
          "data": {
            "application/vnd.google.colaboratory.intrinsic+json": {
              "type": "string"
            },
            "text/plain": [
              "'[\"\",\"Как стать свадебным организатором\",\"Это Люба. Ей понравилось организовывать свою свадьбу, и\\xa0она бросила работу юристом, чтобы\\xa0стать свадебным организатором.\",\"Свадебный организатор — это такая «точка сборки» для\\xa0свадьбы. Он делает так, чтобы\\xa0всё нужное на\\xa0свадьбу приехало, все хорошо провели время, а\\xa0потом уехали по\\xa0домам, а\\xa0не\\xa0в\\xa0больницы.\",\"Одни организаторы работают сами по\\xa0себе и\\xa0получают клиентов через\\xa0знакомых. Другие открывают агентства, в\\xa0которых работают несколько организаторов.\",\"Чтобы набраться опыта, присмотреть себе помощников и\\xa0познакомиться с\\xa0подрядчиками, Люба потратила 48\\xa0000\\xa0₽ на\\xa0обучение в\\xa0свадебных агентствах. \",\"У свадебного организатора ненормированный график. В\\xa0день торжества Люба уходит с\\xa0площадки последней, когда\\xa0демонтировали всё оборудование и\\xa0уехала даже\\xa0уборщица.\",\"Больше чем за\\xa0год работы Люба провела 15\\xa0свадеб с\\xa0бюджетами от\\xa0200\\xa0000\\xa0₽ до\\xa01\\xa0млн\\xa0₽. Свадьбу на\\xa0миллион она готовила 6\\xa0месяцев и\\xa0получила за\\xa0нее\\xa0250\\xa0000\\xa0₽.\",\"Люба убеждена, что\\xa0в\\xa0первую очередь свадьба\\xa0— это логистика, документы, сметы и\\xa0решение проблем.\",\"Читать о профессии\"]'"
            ]
          },
          "metadata": {
            "tags": []
          },
          "execution_count": 49
        }
      ]
    },
    {
      "cell_type": "code",
      "metadata": {
        "id": "vpLbTQXLKkcl",
        "colab_type": "code",
        "colab": {}
      },
      "source": [
        ""
      ],
      "execution_count": null,
      "outputs": []
    },
    {
      "cell_type": "code",
      "metadata": {
        "id": "TKAB9Jo5KkuN",
        "colab_type": "code",
        "colab": {}
      },
      "source": [
        ""
      ],
      "execution_count": null,
      "outputs": []
    },
    {
      "cell_type": "code",
      "metadata": {
        "id": "-1wPla3fKk_-",
        "colab_type": "code",
        "colab": {}
      },
      "source": [
        ""
      ],
      "execution_count": null,
      "outputs": []
    },
    {
      "cell_type": "code",
      "metadata": {
        "id": "gRym-jktKlSM",
        "colab_type": "code",
        "colab": {}
      },
      "source": [
        ""
      ],
      "execution_count": null,
      "outputs": []
    },
    {
      "cell_type": "code",
      "metadata": {
        "id": "RNzxsY5NKlkq",
        "colab_type": "code",
        "colab": {}
      },
      "source": [
        ""
      ],
      "execution_count": null,
      "outputs": []
    },
    {
      "cell_type": "code",
      "metadata": {
        "id": "M6GnhY0oKlzX",
        "colab_type": "code",
        "colab": {}
      },
      "source": [
        ""
      ],
      "execution_count": null,
      "outputs": []
    },
    {
      "cell_type": "code",
      "metadata": {
        "id": "RBERsrcHKmEo",
        "colab_type": "code",
        "colab": {}
      },
      "source": [
        ""
      ],
      "execution_count": null,
      "outputs": []
    },
    {
      "cell_type": "code",
      "metadata": {
        "id": "gCneIHtYKmVB",
        "colab_type": "code",
        "colab": {}
      },
      "source": [
        ""
      ],
      "execution_count": null,
      "outputs": []
    },
    {
      "cell_type": "code",
      "metadata": {
        "id": "InLYIYvbKmlt",
        "colab_type": "code",
        "colab": {}
      },
      "source": [
        ""
      ],
      "execution_count": null,
      "outputs": []
    },
    {
      "cell_type": "code",
      "metadata": {
        "id": "SQOcXicVyBE8",
        "colab_type": "code",
        "colab": {
          "base_uri": "https://localhost:8080/",
          "height": 221
        },
        "outputId": "bbc57dfc-f482-44c3-c45d-09633fa6b274"
      },
      "source": [
        "story_logs_path = f\"{DATADIR}/avk_hackathon_data_story_logs.csv\"\n",
        "story_logs_df = pd.read_csv(story_logs_path)\n",
        "print(story_logs_df.shape)\n",
        "story_logs_df.head()"
      ],
      "execution_count": null,
      "outputs": [
        {
          "output_type": "stream",
          "text": [
            "(13820, 5)\n"
          ],
          "name": "stdout"
        },
        {
          "output_type": "execute_result",
          "data": {
            "text/html": [
              "<div>\n",
              "<style scoped>\n",
              "    .dataframe tbody tr th:only-of-type {\n",
              "        vertical-align: middle;\n",
              "    }\n",
              "\n",
              "    .dataframe tbody tr th {\n",
              "        vertical-align: top;\n",
              "    }\n",
              "\n",
              "    .dataframe thead th {\n",
              "        text-align: right;\n",
              "    }\n",
              "</style>\n",
              "<table border=\"1\" class=\"dataframe\">\n",
              "  <thead>\n",
              "    <tr style=\"text-align: right;\">\n",
              "      <th></th>\n",
              "      <th>party_rk</th>\n",
              "      <th>date_time</th>\n",
              "      <th>story_id</th>\n",
              "      <th>category</th>\n",
              "      <th>event</th>\n",
              "    </tr>\n",
              "  </thead>\n",
              "  <tbody>\n",
              "    <tr>\n",
              "      <th>0</th>\n",
              "      <td>64266</td>\n",
              "      <td>2019-12-01 13:05:31</td>\n",
              "      <td>3840</td>\n",
              "      <td>39</td>\n",
              "      <td>like</td>\n",
              "    </tr>\n",
              "    <tr>\n",
              "      <th>1</th>\n",
              "      <td>55721</td>\n",
              "      <td>2019-12-01 13:18:08</td>\n",
              "      <td>3857</td>\n",
              "      <td>39</td>\n",
              "      <td>like</td>\n",
              "    </tr>\n",
              "    <tr>\n",
              "      <th>2</th>\n",
              "      <td>27563</td>\n",
              "      <td>2019-12-01 13:25:40</td>\n",
              "      <td>3174</td>\n",
              "      <td>78</td>\n",
              "      <td>like</td>\n",
              "    </tr>\n",
              "    <tr>\n",
              "      <th>3</th>\n",
              "      <td>61223</td>\n",
              "      <td>2019-12-01 13:25:20</td>\n",
              "      <td>3857</td>\n",
              "      <td>39</td>\n",
              "      <td>like</td>\n",
              "    </tr>\n",
              "    <tr>\n",
              "      <th>4</th>\n",
              "      <td>61223</td>\n",
              "      <td>2019-12-01 13:29:05</td>\n",
              "      <td>3765</td>\n",
              "      <td>73</td>\n",
              "      <td>like</td>\n",
              "    </tr>\n",
              "  </tbody>\n",
              "</table>\n",
              "</div>"
            ],
            "text/plain": [
              "   party_rk            date_time  story_id  category event\n",
              "0     64266  2019-12-01 13:05:31      3840        39  like\n",
              "1     55721  2019-12-01 13:18:08      3857        39  like\n",
              "2     27563  2019-12-01 13:25:40      3174        78  like\n",
              "3     61223  2019-12-01 13:25:20      3857        39  like\n",
              "4     61223  2019-12-01 13:29:05      3765        73  like"
            ]
          },
          "metadata": {
            "tags": []
          },
          "execution_count": 5
        }
      ]
    },
    {
      "cell_type": "code",
      "metadata": {
        "id": "vwODAVw_Majs",
        "colab_type": "code",
        "colab": {
          "base_uri": "https://localhost:8080/",
          "height": 119
        },
        "outputId": "99144a8a-205e-4e22-b120-6a899e27afa0"
      },
      "source": [
        "story_logs_df.isna().sum()"
      ],
      "execution_count": null,
      "outputs": [
        {
          "output_type": "execute_result",
          "data": {
            "text/plain": [
              "party_rk     0\n",
              "date_time    0\n",
              "story_id     0\n",
              "category     0\n",
              "event        0\n",
              "dtype: int64"
            ]
          },
          "metadata": {
            "tags": []
          },
          "execution_count": 52
        }
      ]
    },
    {
      "cell_type": "code",
      "metadata": {
        "id": "oUufsQq9L4zW",
        "colab_type": "code",
        "colab": {
          "base_uri": "https://localhost:8080/",
          "height": 770
        },
        "outputId": "c1cb18a7-754c-4755-f223-f31fca7753fc"
      },
      "source": [
        "tmp_df = story_logs_df['event'].value_counts()\n",
        "print(tmp_df)\n",
        "tmp_df.plot(kind='bar')"
      ],
      "execution_count": null,
      "outputs": [
        {
          "output_type": "stream",
          "text": [
            "like        5920\n",
            "favorite    5028\n",
            "dislike      763\n",
            "14]          592\n",
            "77]          551\n",
            "153          208\n",
            "180          108\n",
            "177           99\n",
            "176           72\n",
            "54]           54\n",
            "19]           53\n",
            "174           49\n",
            "175           48\n",
            "164           48\n",
            "48            45\n",
            "160           38\n",
            "163           33\n",
            "161           31\n",
            "170           25\n",
            "159           18\n",
            "101]          14\n",
            "182            9\n",
            "76             6\n",
            "102]           5\n",
            "55]            2\n",
            "173            1\n",
            "Name: event, dtype: int64\n"
          ],
          "name": "stdout"
        },
        {
          "output_type": "execute_result",
          "data": {
            "text/plain": [
              "<matplotlib.axes._subplots.AxesSubplot at 0x7fc67d325080>"
            ]
          },
          "metadata": {
            "tags": []
          },
          "execution_count": 53
        },
        {
          "output_type": "display_data",
          "data": {
            "image/png": "[encoded data removed]",
            "text/plain": [
              "<Figure size 432x288 with 1 Axes>"
            ]
          },
          "metadata": {
            "tags": [],
            "needs_background": "light"
          }
        }
      ]
    },
    {
      "cell_type": "code",
      "metadata": {
        "id": "Pxe_HMEvL5IZ",
        "colab_type": "code",
        "colab": {
          "base_uri": "https://localhost:8080/",
          "height": 546
        },
        "outputId": "4d89cde6-1d98-448b-d93b-3f0ae12d3e9b"
      },
      "source": [
        "plt.figure(figsize=(15, 5))\n",
        "tmp_df = story_logs_df['category'].value_counts()\n",
        "print(tmp_df.sort_values(ascending=False))\n",
        "tmp_df.plot(kind='bar')"
      ],
      "execution_count": null,
      "outputs": [
        {
          "output_type": "stream",
          "text": [
            "81    2392\n",
            "71    1148\n",
            "39     826\n",
            "51     689\n",
            "44     674\n",
            "      ... \n",
            "77       1\n",
            "23       1\n",
            "56       1\n",
            "79       1\n",
            "75       1\n",
            "Name: category, Length: 81, dtype: int64\n"
          ],
          "name": "stdout"
        },
        {
          "output_type": "execute_result",
          "data": {
            "text/plain": [
              "<matplotlib.axes._subplots.AxesSubplot at 0x7fc67dbecfd0>"
            ]
          },
          "metadata": {
            "tags": []
          },
          "execution_count": 55
        },
        {
          "output_type": "display_data",
          "data": {
            "image/png": "[encoded data removed]",
            "text/plain": [
              "<Figure size 1080x360 with 1 Axes>"
            ]
          },
          "metadata": {
            "tags": [],
            "needs_background": "light"
          }
        }
      ]
    },
    {
      "cell_type": "code",
      "metadata": {
        "id": "XuzanABRL5ZW",
        "colab_type": "code",
        "colab": {}
      },
      "source": [
        ""
      ],
      "execution_count": null,
      "outputs": []
    },
    {
      "cell_type": "code",
      "metadata": {
        "id": "BKNaWRMrL5pU",
        "colab_type": "code",
        "colab": {}
      },
      "source": [
        ""
      ],
      "execution_count": null,
      "outputs": []
    },
    {
      "cell_type": "code",
      "metadata": {
        "id": "ccV1pGKQL57B",
        "colab_type": "code",
        "colab": {}
      },
      "source": [
        ""
      ],
      "execution_count": null,
      "outputs": []
    },
    {
      "cell_type": "code",
      "metadata": {
        "id": "PhS14VraL6Ly",
        "colab_type": "code",
        "colab": {}
      },
      "source": [
        ""
      ],
      "execution_count": null,
      "outputs": []
    },
    {
      "cell_type": "code",
      "metadata": {
        "id": "vSeuG50BL6c3",
        "colab_type": "code",
        "colab": {}
      },
      "source": [
        ""
      ],
      "execution_count": null,
      "outputs": []
    },
    {
      "cell_type": "code",
      "metadata": {
        "id": "i09CB0FKL6tV",
        "colab_type": "code",
        "colab": {}
      },
      "source": [
        ""
      ],
      "execution_count": null,
      "outputs": []
    },
    {
      "cell_type": "code",
      "metadata": {
        "id": "BpEatrEWL6_E",
        "colab_type": "code",
        "colab": {}
      },
      "source": [
        ""
      ],
      "execution_count": null,
      "outputs": []
    },
    {
      "cell_type": "code",
      "metadata": {
        "id": "IOs79P2XL7QC",
        "colab_type": "code",
        "colab": {}
      },
      "source": [
        ""
      ],
      "execution_count": null,
      "outputs": []
    },
    {
      "cell_type": "code",
      "metadata": {
        "id": "dcC8F4H9L7h6",
        "colab_type": "code",
        "colab": {}
      },
      "source": [
        ""
      ],
      "execution_count": null,
      "outputs": []
    },
    {
      "cell_type": "code",
      "metadata": {
        "id": "snDZYNVQyH2M",
        "colab_type": "code",
        "colab": {}
      },
      "source": [
        "party_x_socdem_path = f\"{DATADIR}/avk_hackathon_data_party_x_socdem_nan2random.csv\"\n",
        "socdem_df = pd.read_csv(party_x_socdem_path)"
      ],
      "execution_count": null,
      "outputs": []
    },
    {
      "cell_type": "code",
      "metadata": {
        "id": "mvffxI8RN2KQ",
        "colab_type": "code",
        "colab": {
          "base_uri": "https://localhost:8080/",
          "height": 204
        },
        "outputId": "cb8f7619-3e17-4d9e-8120-417b6c89f9cd"
      },
      "source": [
        "socdem_df.head()"
      ],
      "execution_count": null,
      "outputs": [
        {
          "output_type": "execute_result",
          "data": {
            "text/html": [
              "<div>\n",
              "<style scoped>\n",
              "    .dataframe tbody tr th:only-of-type {\n",
              "        vertical-align: middle;\n",
              "    }\n",
              "\n",
              "    .dataframe tbody tr th {\n",
              "        vertical-align: top;\n",
              "    }\n",
              "\n",
              "    .dataframe thead th {\n",
              "        text-align: right;\n",
              "    }\n",
              "</style>\n",
              "<table border=\"1\" class=\"dataframe\">\n",
              "  <thead>\n",
              "    <tr style=\"text-align: right;\">\n",
              "      <th></th>\n",
              "      <th>party_rk</th>\n",
              "      <th>gender_cd</th>\n",
              "      <th>age</th>\n",
              "      <th>marital_status_desc</th>\n",
              "      <th>children_cnt</th>\n",
              "      <th>region_flg</th>\n",
              "    </tr>\n",
              "  </thead>\n",
              "  <tbody>\n",
              "    <tr>\n",
              "      <th>0</th>\n",
              "      <td>61243</td>\n",
              "      <td>0</td>\n",
              "      <td>70.0</td>\n",
              "      <td>4</td>\n",
              "      <td>0</td>\n",
              "      <td>0</td>\n",
              "    </tr>\n",
              "    <tr>\n",
              "      <th>1</th>\n",
              "      <td>66535</td>\n",
              "      <td>0</td>\n",
              "      <td>25.0</td>\n",
              "      <td>3</td>\n",
              "      <td>0</td>\n",
              "      <td>0</td>\n",
              "    </tr>\n",
              "    <tr>\n",
              "      <th>2</th>\n",
              "      <td>83721</td>\n",
              "      <td>1</td>\n",
              "      <td>55.0</td>\n",
              "      <td>0</td>\n",
              "      <td>0</td>\n",
              "      <td>0</td>\n",
              "    </tr>\n",
              "    <tr>\n",
              "      <th>3</th>\n",
              "      <td>88238</td>\n",
              "      <td>0</td>\n",
              "      <td>35.0</td>\n",
              "      <td>1</td>\n",
              "      <td>0</td>\n",
              "      <td>0</td>\n",
              "    </tr>\n",
              "    <tr>\n",
              "      <th>4</th>\n",
              "      <td>57179</td>\n",
              "      <td>0</td>\n",
              "      <td>30.0</td>\n",
              "      <td>0</td>\n",
              "      <td>0</td>\n",
              "      <td>0</td>\n",
              "    </tr>\n",
              "  </tbody>\n",
              "</table>\n",
              "</div>"
            ],
            "text/plain": [
              "   party_rk  gender_cd   age  marital_status_desc  children_cnt  region_flg\n",
              "0     61243          0  70.0                    4             0           0\n",
              "1     66535          0  25.0                    3             0           0\n",
              "2     83721          1  55.0                    0             0           0\n",
              "3     88238          0  35.0                    1             0           0\n",
              "4     57179          0  30.0                    0             0           0"
            ]
          },
          "metadata": {
            "tags": []
          },
          "execution_count": 16
        }
      ]
    },
    {
      "cell_type": "code",
      "metadata": {
        "id": "hlO5FlfbOkF4",
        "colab_type": "code",
        "colab": {}
      },
      "source": [
        "def fill_marital(x):\n",
        "    if x == 'Женат/замужем':\n",
        "        return 0\n",
        "    elif x == 'Вдовец, вдова':\n",
        "        return 1\n",
        "    elif x == 'Холост/не замужем':\n",
        "        return 2\n",
        "    elif x == 'Гражданский брак':\n",
        "        return 3\n",
        "    elif x == 'Разведен (а)':\n",
        "        return 4\n",
        "    elif x == 'Не проживает с супругом (ой)':\n",
        "        return 5\n",
        "    else:\n",
        "        return np.random.randint(0, 6)\n",
        "\n",
        "socdem_df['marital_status_desc'] = socdem_df['marital_status_desc'].apply(fill_marital)"
      ],
      "execution_count": null,
      "outputs": []
    },
    {
      "cell_type": "code",
      "metadata": {
        "id": "n4FpqjmsOJgE",
        "colab_type": "code",
        "colab": {
          "base_uri": "https://localhost:8080/",
          "height": 136
        },
        "outputId": "3a46df7c-5257-48e8-8d04-1e18f150f6aa"
      },
      "source": [
        "socdem_df.isna().sum()"
      ],
      "execution_count": null,
      "outputs": [
        {
          "output_type": "execute_result",
          "data": {
            "text/plain": [
              "party_rk                0\n",
              "gender_cd              11\n",
              "age                     0\n",
              "marital_status_desc     0\n",
              "children_cnt            0\n",
              "region_flg              0\n",
              "dtype: int64"
            ]
          },
          "metadata": {
            "tags": []
          },
          "execution_count": 9
        }
      ]
    },
    {
      "cell_type": "code",
      "metadata": {
        "id": "RiyOdEGCN2gR",
        "colab_type": "code",
        "colab": {}
      },
      "source": [
        "def fill_sex(x):\n",
        "    if x == 'F':\n",
        "        return 0\n",
        "    elif x == 'M':\n",
        "        return 1\n",
        "    else:\n",
        "        return np.random.randint(0, 2)\n",
        "\n",
        "socdem_df['gender_cd'] = socdem_df['gender_cd'].apply(fill_sex)"
      ],
      "execution_count": null,
      "outputs": []
    },
    {
      "cell_type": "code",
      "metadata": {
        "id": "lzwMMkyYN3FG",
        "colab_type": "code",
        "colab": {}
      },
      "source": [
        "def encode_age(x):\n",
        "    map_ = {float(a):i for i, a in enumerate(range(15, 105, 5))}\n",
        "    return map_[x]\n",
        "\n",
        "socdem_df['age'] = socdem_df['age'].apply(encode_age)"
      ],
      "execution_count": null,
      "outputs": []
    },
    {
      "cell_type": "code",
      "metadata": {
        "id": "4VJ3oBXKILdb",
        "colab_type": "code",
        "colab": {
          "base_uri": "https://localhost:8080/",
          "height": 204
        },
        "outputId": "06f49de7-40b2-4c3e-db7f-2670e078549d"
      },
      "source": [
        "socdem_df.head()"
      ],
      "execution_count": null,
      "outputs": [
        {
          "output_type": "execute_result",
          "data": {
            "text/html": [
              "<div>\n",
              "<style scoped>\n",
              "    .dataframe tbody tr th:only-of-type {\n",
              "        vertical-align: middle;\n",
              "    }\n",
              "\n",
              "    .dataframe tbody tr th {\n",
              "        vertical-align: top;\n",
              "    }\n",
              "\n",
              "    .dataframe thead th {\n",
              "        text-align: right;\n",
              "    }\n",
              "</style>\n",
              "<table border=\"1\" class=\"dataframe\">\n",
              "  <thead>\n",
              "    <tr style=\"text-align: right;\">\n",
              "      <th></th>\n",
              "      <th>party_rk</th>\n",
              "      <th>gender_cd</th>\n",
              "      <th>age</th>\n",
              "      <th>marital_status_desc</th>\n",
              "      <th>children_cnt</th>\n",
              "      <th>region_flg</th>\n",
              "    </tr>\n",
              "  </thead>\n",
              "  <tbody>\n",
              "    <tr>\n",
              "      <th>0</th>\n",
              "      <td>61243</td>\n",
              "      <td>0</td>\n",
              "      <td>11</td>\n",
              "      <td>4</td>\n",
              "      <td>0</td>\n",
              "      <td>0</td>\n",
              "    </tr>\n",
              "    <tr>\n",
              "      <th>1</th>\n",
              "      <td>66535</td>\n",
              "      <td>0</td>\n",
              "      <td>2</td>\n",
              "      <td>3</td>\n",
              "      <td>0</td>\n",
              "      <td>0</td>\n",
              "    </tr>\n",
              "    <tr>\n",
              "      <th>2</th>\n",
              "      <td>83721</td>\n",
              "      <td>1</td>\n",
              "      <td>8</td>\n",
              "      <td>0</td>\n",
              "      <td>0</td>\n",
              "      <td>0</td>\n",
              "    </tr>\n",
              "    <tr>\n",
              "      <th>3</th>\n",
              "      <td>88238</td>\n",
              "      <td>0</td>\n",
              "      <td>4</td>\n",
              "      <td>1</td>\n",
              "      <td>0</td>\n",
              "      <td>0</td>\n",
              "    </tr>\n",
              "    <tr>\n",
              "      <th>4</th>\n",
              "      <td>57179</td>\n",
              "      <td>0</td>\n",
              "      <td>3</td>\n",
              "      <td>0</td>\n",
              "      <td>0</td>\n",
              "      <td>0</td>\n",
              "    </tr>\n",
              "  </tbody>\n",
              "</table>\n",
              "</div>"
            ],
            "text/plain": [
              "   party_rk  gender_cd  age  marital_status_desc  children_cnt  region_flg\n",
              "0     61243          0   11                    4             0           0\n",
              "1     66535          0    2                    3             0           0\n",
              "2     83721          1    8                    0             0           0\n",
              "3     88238          0    4                    1             0           0\n",
              "4     57179          0    3                    0             0           0"
            ]
          },
          "metadata": {
            "tags": []
          },
          "execution_count": 27
        }
      ]
    },
    {
      "cell_type": "code",
      "metadata": {
        "id": "uRiztaZSIL_H",
        "colab_type": "code",
        "colab": {}
      },
      "source": [
        "socdem_df.to_csv(f\"{DATADIR}/avk_hackathon_data_party_x_socdem_encoded.csv\", index=False)"
      ],
      "execution_count": null,
      "outputs": []
    },
    {
      "cell_type": "code",
      "metadata": {
        "id": "7i8RVTGiIMTc",
        "colab_type": "code",
        "colab": {}
      },
      "source": [
        "trans_socdem_df = transactions_df.merge(socdem_df, on='party_rk')"
      ],
      "execution_count": null,
      "outputs": []
    },
    {
      "cell_type": "code",
      "metadata": {
        "id": "NU3zYykcIMj9",
        "colab_type": "code",
        "colab": {
          "base_uri": "https://localhost:8080/",
          "height": 241
        },
        "outputId": "c7315d96-a08e-4e46-fd58-7394137121e0"
      },
      "source": [
        "trans_socdem_df.head()"
      ],
      "execution_count": null,
      "outputs": [
        {
          "output_type": "execute_result",
          "data": {
            "text/html": [
              "<div>\n",
              "<style scoped>\n",
              "    .dataframe tbody tr th:only-of-type {\n",
              "        vertical-align: middle;\n",
              "    }\n",
              "\n",
              "    .dataframe tbody tr th {\n",
              "        vertical-align: top;\n",
              "    }\n",
              "\n",
              "    .dataframe thead th {\n",
              "        text-align: right;\n",
              "    }\n",
              "</style>\n",
              "<table border=\"1\" class=\"dataframe\">\n",
              "  <thead>\n",
              "    <tr style=\"text-align: right;\">\n",
              "      <th></th>\n",
              "      <th>party_rk</th>\n",
              "      <th>account_rk</th>\n",
              "      <th>financial_account_type_cd</th>\n",
              "      <th>transaction_dttm</th>\n",
              "      <th>transaction_type_desc</th>\n",
              "      <th>transaction_amt_rur</th>\n",
              "      <th>merchant_rk</th>\n",
              "      <th>merchant_type</th>\n",
              "      <th>merchant_group_rk</th>\n",
              "      <th>category</th>\n",
              "      <th>gender_cd</th>\n",
              "      <th>age</th>\n",
              "      <th>marital_status_desc</th>\n",
              "      <th>children_cnt</th>\n",
              "      <th>region_flg</th>\n",
              "    </tr>\n",
              "  </thead>\n",
              "  <tbody>\n",
              "    <tr>\n",
              "      <th>0</th>\n",
              "      <td>20337</td>\n",
              "      <td>19666</td>\n",
              "      <td>1</td>\n",
              "      <td>2019-01-01</td>\n",
              "      <td>Покупка</td>\n",
              "      <td>84.0</td>\n",
              "      <td>88676.0</td>\n",
              "      <td>348.0</td>\n",
              "      <td>NaN</td>\n",
              "      <td>Сувениры</td>\n",
              "      <td>0</td>\n",
              "      <td>2</td>\n",
              "      <td>0</td>\n",
              "      <td>0</td>\n",
              "      <td>0</td>\n",
              "    </tr>\n",
              "    <tr>\n",
              "      <th>1</th>\n",
              "      <td>20337</td>\n",
              "      <td>19666</td>\n",
              "      <td>1</td>\n",
              "      <td>2019-01-08</td>\n",
              "      <td>Покупка</td>\n",
              "      <td>865.0</td>\n",
              "      <td>1073466.0</td>\n",
              "      <td>297.0</td>\n",
              "      <td>404.0</td>\n",
              "      <td>Топливо</td>\n",
              "      <td>0</td>\n",
              "      <td>2</td>\n",
              "      <td>0</td>\n",
              "      <td>0</td>\n",
              "      <td>0</td>\n",
              "    </tr>\n",
              "    <tr>\n",
              "      <th>2</th>\n",
              "      <td>20337</td>\n",
              "      <td>19666</td>\n",
              "      <td>1</td>\n",
              "      <td>2019-01-03</td>\n",
              "      <td>Покупка</td>\n",
              "      <td>976.0</td>\n",
              "      <td>218889.0</td>\n",
              "      <td>336.0</td>\n",
              "      <td>930.0</td>\n",
              "      <td>Супермаркеты</td>\n",
              "      <td>0</td>\n",
              "      <td>2</td>\n",
              "      <td>0</td>\n",
              "      <td>0</td>\n",
              "      <td>0</td>\n",
              "    </tr>\n",
              "    <tr>\n",
              "      <th>3</th>\n",
              "      <td>20337</td>\n",
              "      <td>19666</td>\n",
              "      <td>1</td>\n",
              "      <td>2019-01-01</td>\n",
              "      <td>Покупка</td>\n",
              "      <td>2525.0</td>\n",
              "      <td>803379.0</td>\n",
              "      <td>401.0</td>\n",
              "      <td>NaN</td>\n",
              "      <td>Красота</td>\n",
              "      <td>0</td>\n",
              "      <td>2</td>\n",
              "      <td>0</td>\n",
              "      <td>0</td>\n",
              "      <td>0</td>\n",
              "    </tr>\n",
              "    <tr>\n",
              "      <th>4</th>\n",
              "      <td>20337</td>\n",
              "      <td>19666</td>\n",
              "      <td>1</td>\n",
              "      <td>2019-01-07</td>\n",
              "      <td>Покупка</td>\n",
              "      <td>1480.0</td>\n",
              "      <td>939775.0</td>\n",
              "      <td>378.0</td>\n",
              "      <td>NaN</td>\n",
              "      <td>Разные товары</td>\n",
              "      <td>0</td>\n",
              "      <td>2</td>\n",
              "      <td>0</td>\n",
              "      <td>0</td>\n",
              "      <td>0</td>\n",
              "    </tr>\n",
              "  </tbody>\n",
              "</table>\n",
              "</div>"
            ],
            "text/plain": [
              "   party_rk  account_rk  ...  children_cnt region_flg\n",
              "0     20337       19666  ...             0          0\n",
              "1     20337       19666  ...             0          0\n",
              "2     20337       19666  ...             0          0\n",
              "3     20337       19666  ...             0          0\n",
              "4     20337       19666  ...             0          0\n",
              "\n",
              "[5 rows x 15 columns]"
            ]
          },
          "metadata": {
            "tags": []
          },
          "execution_count": 31
        }
      ]
    },
    {
      "cell_type": "code",
      "metadata": {
        "id": "2hcNFAcoIM3-",
        "colab_type": "code",
        "colab": {
          "base_uri": "https://localhost:8080/",
          "height": 34
        },
        "outputId": "4d6a58cb-5a2c-4c2f-c9d7-561a278cafdc"
      },
      "source": [
        "trans_socdem_df.shape, transactions_df.shape"
      ],
      "execution_count": null,
      "outputs": [
        {
          "output_type": "execute_result",
          "data": {
            "text/plain": [
              "((11987617, 15), (11987617, 10))"
            ]
          },
          "metadata": {
            "tags": []
          },
          "execution_count": 35
        }
      ]
    },
    {
      "cell_type": "code",
      "metadata": {
        "id": "hljlUwBEINHs",
        "colab_type": "code",
        "colab": {}
      },
      "source": [
        "trans_socdem_df.to_csv(f\"{DATADIR}/avk_hackathon_data_trans_socdem_encoded.csv\", index=False)"
      ],
      "execution_count": null,
      "outputs": []
    },
    {
      "cell_type": "code",
      "metadata": {
        "id": "ZV8JTgZpINbh",
        "colab_type": "code",
        "colab": {
          "base_uri": "https://localhost:8080/"
        },
        "outputId": "de874b07-ee5d-497b-b8e2-a391c0b62477"
      },
      "source": [
        "trans_socdem_df = pd.read_csv(f\"{DATADIR}/avk_hackathon_data_trans_socdem_encoded.csv\")"
      ],
      "execution_count": null,
      "outputs": [
        {
          "output_type": "error",
          "ename": "NameError",
          "evalue": "ignored",
          "traceback": [
            "\u001b[0;31m---------------------------------------------------------------------------\u001b[0m",
            "\u001b[0;31mNameError\u001b[0m                                 Traceback (most recent call last)",
            "\u001b[0;32m<ipython-input-2-77aa9e6f4280>\u001b[0m in \u001b[0;36m<module>\u001b[0;34m()\u001b[0m\n\u001b[0;32m----> 1\u001b[0;31m \u001b[0mtrans_socdem_df\u001b[0m \u001b[0;34m=\u001b[0m \u001b[0mpd\u001b[0m\u001b[0;34m.\u001b[0m\u001b[0mread_csv\u001b[0m\u001b[0;34m(\u001b[0m\u001b[0;34mf\"{DATADIR}/avk_hackathon_data_trans_socdem_encoded.csv\"\u001b[0m\u001b[0;34m)\u001b[0m\u001b[0;34m\u001b[0m\u001b[0;34m\u001b[0m\u001b[0m\n\u001b[0m",
            "\u001b[0;31mNameError\u001b[0m: name 'DATADIR' is not defined"
          ]
        }
      ]
    },
    {
      "cell_type": "code",
      "metadata": {
        "id": "tThrVW0QKvvO",
        "colab_type": "code",
        "colab": {}
      },
      "source": [
        ""
      ],
      "execution_count": null,
      "outputs": []
    },
    {
      "cell_type": "code",
      "metadata": {
        "id": "8ER2jKJOKwIG",
        "colab_type": "code",
        "colab": {}
      },
      "source": [
        ""
      ],
      "execution_count": null,
      "outputs": []
    },
    {
      "cell_type": "code",
      "metadata": {
        "id": "-yVvhFI2KweP",
        "colab_type": "code",
        "colab": {}
      },
      "source": [
        ""
      ],
      "execution_count": null,
      "outputs": []
    },
    {
      "cell_type": "code",
      "metadata": {
        "id": "SIEbBf0_Kwxn",
        "colab_type": "code",
        "colab": {}
      },
      "source": [
        ""
      ],
      "execution_count": null,
      "outputs": []
    },
    {
      "cell_type": "code",
      "metadata": {
        "id": "ygwKnvbPKxG7",
        "colab_type": "code",
        "colab": {}
      },
      "source": [
        ""
      ],
      "execution_count": null,
      "outputs": []
    },
    {
      "cell_type": "code",
      "metadata": {
        "id": "dO-pyl7cKxbn",
        "colab_type": "code",
        "colab": {}
      },
      "source": [
        ""
      ],
      "execution_count": null,
      "outputs": []
    },
    {
      "cell_type": "code",
      "metadata": {
        "id": "nQijZA1PKxvC",
        "colab_type": "code",
        "colab": {}
      },
      "source": [
        ""
      ],
      "execution_count": null,
      "outputs": []
    },
    {
      "cell_type": "code",
      "metadata": {
        "id": "0fcUXMFwKyEP",
        "colab_type": "code",
        "colab": {}
      },
      "source": [
        ""
      ],
      "execution_count": null,
      "outputs": []
    },
    {
      "cell_type": "code",
      "metadata": {
        "id": "Ofp9vZZCKyXi",
        "colab_type": "code",
        "colab": {}
      },
      "source": [
        ""
      ],
      "execution_count": null,
      "outputs": []
    },
    {
      "cell_type": "code",
      "metadata": {
        "id": "SWCV84CbN3Vf",
        "colab_type": "code",
        "colab": {}
      },
      "source": [
        ""
      ],
      "execution_count": null,
      "outputs": []
    },
    {
      "cell_type": "code",
      "metadata": {
        "id": "QGsBNyoKy1eH",
        "colab_type": "code",
        "colab": {
          "base_uri": "https://localhost:8080/",
          "height": 204
        },
        "outputId": "e7b3d79b-0478-4f8c-ab9d-cf657b0c6113"
      },
      "source": [
        "party_products_path = f\"{DATADIR}/avk_hackathon_data_party_products.csv\"\n",
        "products_df = pd.read_csv(party_products_path)\n",
        "products_df.head()"
      ],
      "execution_count": null,
      "outputs": [
        {
          "output_type": "execute_result",
          "data": {
            "text/html": [
              "<div>\n",
              "<style scoped>\n",
              "    .dataframe tbody tr th:only-of-type {\n",
              "        vertical-align: middle;\n",
              "    }\n",
              "\n",
              "    .dataframe tbody tr th {\n",
              "        vertical-align: top;\n",
              "    }\n",
              "\n",
              "    .dataframe thead th {\n",
              "        text-align: right;\n",
              "    }\n",
              "</style>\n",
              "<table border=\"1\" class=\"dataframe\">\n",
              "  <thead>\n",
              "    <tr style=\"text-align: right;\">\n",
              "      <th></th>\n",
              "      <th>party_rk</th>\n",
              "      <th>product1</th>\n",
              "      <th>product2</th>\n",
              "      <th>product3</th>\n",
              "      <th>product4</th>\n",
              "      <th>product5</th>\n",
              "      <th>product6</th>\n",
              "      <th>product7</th>\n",
              "    </tr>\n",
              "  </thead>\n",
              "  <tbody>\n",
              "    <tr>\n",
              "      <th>0</th>\n",
              "      <td>74874</td>\n",
              "      <td>1</td>\n",
              "      <td>1</td>\n",
              "      <td>0</td>\n",
              "      <td>0</td>\n",
              "      <td>0</td>\n",
              "      <td>0</td>\n",
              "      <td>0</td>\n",
              "    </tr>\n",
              "    <tr>\n",
              "      <th>1</th>\n",
              "      <td>83618</td>\n",
              "      <td>0</td>\n",
              "      <td>0</td>\n",
              "      <td>1</td>\n",
              "      <td>1</td>\n",
              "      <td>1</td>\n",
              "      <td>0</td>\n",
              "      <td>0</td>\n",
              "    </tr>\n",
              "    <tr>\n",
              "      <th>2</th>\n",
              "      <td>73766</td>\n",
              "      <td>0</td>\n",
              "      <td>0</td>\n",
              "      <td>0</td>\n",
              "      <td>1</td>\n",
              "      <td>1</td>\n",
              "      <td>0</td>\n",
              "      <td>0</td>\n",
              "    </tr>\n",
              "    <tr>\n",
              "      <th>3</th>\n",
              "      <td>60218</td>\n",
              "      <td>0</td>\n",
              "      <td>1</td>\n",
              "      <td>0</td>\n",
              "      <td>0</td>\n",
              "      <td>0</td>\n",
              "      <td>0</td>\n",
              "      <td>0</td>\n",
              "    </tr>\n",
              "    <tr>\n",
              "      <th>4</th>\n",
              "      <td>47253</td>\n",
              "      <td>0</td>\n",
              "      <td>0</td>\n",
              "      <td>0</td>\n",
              "      <td>1</td>\n",
              "      <td>1</td>\n",
              "      <td>0</td>\n",
              "      <td>0</td>\n",
              "    </tr>\n",
              "  </tbody>\n",
              "</table>\n",
              "</div>"
            ],
            "text/plain": [
              "   party_rk  product1  product2  ...  product5  product6  product7\n",
              "0     74874         1         1  ...         0         0         0\n",
              "1     83618         0         0  ...         1         0         0\n",
              "2     73766         0         0  ...         1         0         0\n",
              "3     60218         0         1  ...         0         0         0\n",
              "4     47253         0         0  ...         1         0         0\n",
              "\n",
              "[5 rows x 8 columns]"
            ]
          },
          "metadata": {
            "tags": []
          },
          "execution_count": 38
        }
      ]
    },
    {
      "cell_type": "code",
      "metadata": {
        "id": "Ye0fgta5MALi",
        "colab_type": "code",
        "colab": {}
      },
      "source": [
        "trans_socdem_products_df = trans_socdem_df.merge(products_df, on='party_rk')"
      ],
      "execution_count": null,
      "outputs": []
    },
    {
      "cell_type": "code",
      "metadata": {
        "id": "WMh1ufuIMAg3",
        "colab_type": "code",
        "colab": {
          "base_uri": "https://localhost:8080/",
          "height": 258
        },
        "outputId": "6a06d25c-78ae-4ada-cb0d-d314b5433eb8"
      },
      "source": [
        "print(trans_socdem_products_df.shape)\n",
        "trans_socdem_products_df.head()"
      ],
      "execution_count": null,
      "outputs": [
        {
          "output_type": "stream",
          "text": [
            "(11987617, 22)\n"
          ],
          "name": "stdout"
        },
        {
          "output_type": "execute_result",
          "data": {
            "text/html": [
              "<div>\n",
              "<style scoped>\n",
              "    .dataframe tbody tr th:only-of-type {\n",
              "        vertical-align: middle;\n",
              "    }\n",
              "\n",
              "    .dataframe tbody tr th {\n",
              "        vertical-align: top;\n",
              "    }\n",
              "\n",
              "    .dataframe thead th {\n",
              "        text-align: right;\n",
              "    }\n",
              "</style>\n",
              "<table border=\"1\" class=\"dataframe\">\n",
              "  <thead>\n",
              "    <tr style=\"text-align: right;\">\n",
              "      <th></th>\n",
              "      <th>party_rk</th>\n",
              "      <th>account_rk</th>\n",
              "      <th>financial_account_type_cd</th>\n",
              "      <th>transaction_dttm</th>\n",
              "      <th>transaction_type_desc</th>\n",
              "      <th>transaction_amt_rur</th>\n",
              "      <th>merchant_rk</th>\n",
              "      <th>merchant_type</th>\n",
              "      <th>merchant_group_rk</th>\n",
              "      <th>category</th>\n",
              "      <th>gender_cd</th>\n",
              "      <th>age</th>\n",
              "      <th>marital_status_desc</th>\n",
              "      <th>children_cnt</th>\n",
              "      <th>region_flg</th>\n",
              "      <th>product1</th>\n",
              "      <th>product2</th>\n",
              "      <th>product3</th>\n",
              "      <th>product4</th>\n",
              "      <th>product5</th>\n",
              "      <th>product6</th>\n",
              "      <th>product7</th>\n",
              "    </tr>\n",
              "  </thead>\n",
              "  <tbody>\n",
              "    <tr>\n",
              "      <th>0</th>\n",
              "      <td>20337</td>\n",
              "      <td>19666</td>\n",
              "      <td>1</td>\n",
              "      <td>2019-01-01</td>\n",
              "      <td>Покупка</td>\n",
              "      <td>84.0</td>\n",
              "      <td>88676.0</td>\n",
              "      <td>348.0</td>\n",
              "      <td>NaN</td>\n",
              "      <td>Сувениры</td>\n",
              "      <td>0</td>\n",
              "      <td>2</td>\n",
              "      <td>0</td>\n",
              "      <td>0</td>\n",
              "      <td>0</td>\n",
              "      <td>0</td>\n",
              "      <td>1</td>\n",
              "      <td>0</td>\n",
              "      <td>1</td>\n",
              "      <td>1</td>\n",
              "      <td>0</td>\n",
              "      <td>1</td>\n",
              "    </tr>\n",
              "    <tr>\n",
              "      <th>1</th>\n",
              "      <td>20337</td>\n",
              "      <td>19666</td>\n",
              "      <td>1</td>\n",
              "      <td>2019-01-08</td>\n",
              "      <td>Покупка</td>\n",
              "      <td>865.0</td>\n",
              "      <td>1073466.0</td>\n",
              "      <td>297.0</td>\n",
              "      <td>404.0</td>\n",
              "      <td>Топливо</td>\n",
              "      <td>0</td>\n",
              "      <td>2</td>\n",
              "      <td>0</td>\n",
              "      <td>0</td>\n",
              "      <td>0</td>\n",
              "      <td>0</td>\n",
              "      <td>1</td>\n",
              "      <td>0</td>\n",
              "      <td>1</td>\n",
              "      <td>1</td>\n",
              "      <td>0</td>\n",
              "      <td>1</td>\n",
              "    </tr>\n",
              "    <tr>\n",
              "      <th>2</th>\n",
              "      <td>20337</td>\n",
              "      <td>19666</td>\n",
              "      <td>1</td>\n",
              "      <td>2019-01-03</td>\n",
              "      <td>Покупка</td>\n",
              "      <td>976.0</td>\n",
              "      <td>218889.0</td>\n",
              "      <td>336.0</td>\n",
              "      <td>930.0</td>\n",
              "      <td>Супермаркеты</td>\n",
              "      <td>0</td>\n",
              "      <td>2</td>\n",
              "      <td>0</td>\n",
              "      <td>0</td>\n",
              "      <td>0</td>\n",
              "      <td>0</td>\n",
              "      <td>1</td>\n",
              "      <td>0</td>\n",
              "      <td>1</td>\n",
              "      <td>1</td>\n",
              "      <td>0</td>\n",
              "      <td>1</td>\n",
              "    </tr>\n",
              "    <tr>\n",
              "      <th>3</th>\n",
              "      <td>20337</td>\n",
              "      <td>19666</td>\n",
              "      <td>1</td>\n",
              "      <td>2019-01-01</td>\n",
              "      <td>Покупка</td>\n",
              "      <td>2525.0</td>\n",
              "      <td>803379.0</td>\n",
              "      <td>401.0</td>\n",
              "      <td>NaN</td>\n",
              "      <td>Красота</td>\n",
              "      <td>0</td>\n",
              "      <td>2</td>\n",
              "      <td>0</td>\n",
              "      <td>0</td>\n",
              "      <td>0</td>\n",
              "      <td>0</td>\n",
              "      <td>1</td>\n",
              "      <td>0</td>\n",
              "      <td>1</td>\n",
              "      <td>1</td>\n",
              "      <td>0</td>\n",
              "      <td>1</td>\n",
              "    </tr>\n",
              "    <tr>\n",
              "      <th>4</th>\n",
              "      <td>20337</td>\n",
              "      <td>19666</td>\n",
              "      <td>1</td>\n",
              "      <td>2019-01-07</td>\n",
              "      <td>Покупка</td>\n",
              "      <td>1480.0</td>\n",
              "      <td>939775.0</td>\n",
              "      <td>378.0</td>\n",
              "      <td>NaN</td>\n",
              "      <td>Разные товары</td>\n",
              "      <td>0</td>\n",
              "      <td>2</td>\n",
              "      <td>0</td>\n",
              "      <td>0</td>\n",
              "      <td>0</td>\n",
              "      <td>0</td>\n",
              "      <td>1</td>\n",
              "      <td>0</td>\n",
              "      <td>1</td>\n",
              "      <td>1</td>\n",
              "      <td>0</td>\n",
              "      <td>1</td>\n",
              "    </tr>\n",
              "  </tbody>\n",
              "</table>\n",
              "</div>"
            ],
            "text/plain": [
              "   party_rk  account_rk  ...  product6 product7\n",
              "0     20337       19666  ...         0        1\n",
              "1     20337       19666  ...         0        1\n",
              "2     20337       19666  ...         0        1\n",
              "3     20337       19666  ...         0        1\n",
              "4     20337       19666  ...         0        1\n",
              "\n",
              "[5 rows x 22 columns]"
            ]
          },
          "metadata": {
            "tags": []
          },
          "execution_count": 42
        }
      ]
    },
    {
      "cell_type": "code",
      "metadata": {
        "id": "gvQVSPUfMA0Y",
        "colab_type": "code",
        "colab": {}
      },
      "source": [
        "trans_socdem_products_df.to_csv(f\"{DATADIR}/avk_hackathon_data_trans_socdem_products_encoded.csv\", index=False)"
      ],
      "execution_count": null,
      "outputs": []
    },
    {
      "cell_type": "code",
      "metadata": {
        "id": "tY0ivbsPMBKB",
        "colab_type": "code",
        "colab": {}
      },
      "source": [
        "trans_socdem_products_df = pd.read_csv(f\"{DATADIR}/avk_hackathon_data_trans_socdem_products_encoded.csv\")"
      ],
      "execution_count": null,
      "outputs": []
    },
    {
      "cell_type": "code",
      "metadata": {
        "id": "KtdnxcWnMBrt",
        "colab_type": "code",
        "colab": {}
      },
      "source": [
        ""
      ],
      "execution_count": null,
      "outputs": []
    },
    {
      "cell_type": "code",
      "metadata": {
        "id": "oXcXn9bHMCLf",
        "colab_type": "code",
        "colab": {}
      },
      "source": [
        ""
      ],
      "execution_count": null,
      "outputs": []
    },
    {
      "cell_type": "code",
      "metadata": {
        "id": "GAJETFc3MCjR",
        "colab_type": "code",
        "colab": {}
      },
      "source": [
        ""
      ],
      "execution_count": null,
      "outputs": []
    },
    {
      "cell_type": "code",
      "metadata": {
        "id": "eW4-_CdfpOZI",
        "colab_type": "code",
        "colab": {}
      },
      "source": [
        ""
      ],
      "execution_count": null,
      "outputs": []
    },
    {
      "cell_type": "code",
      "metadata": {
        "id": "C2cJxej-pOy_",
        "colab_type": "code",
        "colab": {}
      },
      "source": [
        ""
      ],
      "execution_count": null,
      "outputs": []
    },
    {
      "cell_type": "code",
      "metadata": {
        "id": "AyIWtNvfpPID",
        "colab_type": "code",
        "colab": {}
      },
      "source": [
        ""
      ],
      "execution_count": null,
      "outputs": []
    },
    {
      "cell_type": "code",
      "metadata": {
        "id": "YQxpA0hSpPdo",
        "colab_type": "code",
        "colab": {}
      },
      "source": [
        ""
      ],
      "execution_count": null,
      "outputs": []
    },
    {
      "cell_type": "code",
      "metadata": {
        "id": "is7fmEcvy-DO",
        "colab_type": "code",
        "colab": {
          "base_uri": "https://localhost:8080/",
          "height": 204
        },
        "outputId": "fe81c2c4-8be3-44ea-828a-482d6fc4a52f"
      },
      "source": [
        "account_x_balance_path = f\"{DATADIR}/avk_hackathon_data_account_x_balance.csv\"\n",
        "balance_df = pd.read_csv(account_x_balance_path)\n",
        "balance_df = balance_df.drop_duplicates()\n",
        "balance_df.head()"
      ],
      "execution_count": null,
      "outputs": [
        {
          "output_type": "execute_result",
          "data": {
            "text/html": [
              "<div>\n",
              "<style scoped>\n",
              "    .dataframe tbody tr th:only-of-type {\n",
              "        vertical-align: middle;\n",
              "    }\n",
              "\n",
              "    .dataframe tbody tr th {\n",
              "        vertical-align: top;\n",
              "    }\n",
              "\n",
              "    .dataframe thead th {\n",
              "        text-align: right;\n",
              "    }\n",
              "</style>\n",
              "<table border=\"1\" class=\"dataframe\">\n",
              "  <thead>\n",
              "    <tr style=\"text-align: right;\">\n",
              "      <th></th>\n",
              "      <th>party_rk</th>\n",
              "      <th>account_rk</th>\n",
              "      <th>prev_month</th>\n",
              "      <th>cur_month</th>\n",
              "      <th>balance_chng</th>\n",
              "    </tr>\n",
              "  </thead>\n",
              "  <tbody>\n",
              "    <tr>\n",
              "      <th>0</th>\n",
              "      <td>51607</td>\n",
              "      <td>55309</td>\n",
              "      <td>2018-12-31</td>\n",
              "      <td>2019-01-31</td>\n",
              "      <td>15000.0</td>\n",
              "    </tr>\n",
              "    <tr>\n",
              "      <th>1</th>\n",
              "      <td>59074</td>\n",
              "      <td>70471</td>\n",
              "      <td>2018-12-31</td>\n",
              "      <td>2019-01-31</td>\n",
              "      <td>0.0</td>\n",
              "    </tr>\n",
              "    <tr>\n",
              "      <th>2</th>\n",
              "      <td>33941</td>\n",
              "      <td>33065</td>\n",
              "      <td>2018-12-31</td>\n",
              "      <td>2019-01-31</td>\n",
              "      <td>-15000.0</td>\n",
              "    </tr>\n",
              "    <tr>\n",
              "      <th>3</th>\n",
              "      <td>9336</td>\n",
              "      <td>8611</td>\n",
              "      <td>2018-12-31</td>\n",
              "      <td>2019-01-31</td>\n",
              "      <td>-50000.0</td>\n",
              "    </tr>\n",
              "    <tr>\n",
              "      <th>4</th>\n",
              "      <td>13958</td>\n",
              "      <td>8421</td>\n",
              "      <td>2018-12-31</td>\n",
              "      <td>2019-01-31</td>\n",
              "      <td>-20000.0</td>\n",
              "    </tr>\n",
              "  </tbody>\n",
              "</table>\n",
              "</div>"
            ],
            "text/plain": [
              "   party_rk  account_rk  prev_month   cur_month  balance_chng\n",
              "0     51607       55309  2018-12-31  2019-01-31       15000.0\n",
              "1     59074       70471  2018-12-31  2019-01-31           0.0\n",
              "2     33941       33065  2018-12-31  2019-01-31      -15000.0\n",
              "3      9336        8611  2018-12-31  2019-01-31      -50000.0\n",
              "4     13958        8421  2018-12-31  2019-01-31      -20000.0"
            ]
          },
          "metadata": {
            "tags": []
          },
          "execution_count": 4
        }
      ]
    },
    {
      "cell_type": "code",
      "metadata": {
        "id": "y7RX4HC-OdXn",
        "colab_type": "code",
        "colab": {}
      },
      "source": [
        "grouped_balance_df = balance_df.groupby(by=['party_rk', 'account_rk', 'cur_month']).sum()"
      ],
      "execution_count": null,
      "outputs": []
    },
    {
      "cell_type": "code",
      "metadata": {
        "id": "vQBjvE-RRV1v",
        "colab_type": "code",
        "colab": {}
      },
      "source": [
        "grouped_balance_df.to_csv(f\"{DATADIR}/avk_hackathon_data_account_x_balance_grouped.csv\", index=False)"
      ],
      "execution_count": null,
      "outputs": []
    },
    {
      "cell_type": "code",
      "metadata": {
        "id": "Rf7OlLbiTTGz",
        "colab_type": "code",
        "colab": {
          "base_uri": "https://localhost:8080/",
          "height": 235
        },
        "outputId": "1476a067-8f69-442c-e889-ba3e6a0957c2"
      },
      "source": [
        "grouped_balance_df_tmp = grouped_balance_df.copy()\n",
        "grouped_balance_df_tmp.index = grouped_balance_df_tmp.index.get_level_values('cur_month')\n",
        "grouped_balance_df_tmp.head()"
      ],
      "execution_count": null,
      "outputs": [
        {
          "output_type": "execute_result",
          "data": {
            "text/html": [
              "<div>\n",
              "<style scoped>\n",
              "    .dataframe tbody tr th:only-of-type {\n",
              "        vertical-align: middle;\n",
              "    }\n",
              "\n",
              "    .dataframe tbody tr th {\n",
              "        vertical-align: top;\n",
              "    }\n",
              "\n",
              "    .dataframe thead th {\n",
              "        text-align: right;\n",
              "    }\n",
              "</style>\n",
              "<table border=\"1\" class=\"dataframe\">\n",
              "  <thead>\n",
              "    <tr style=\"text-align: right;\">\n",
              "      <th></th>\n",
              "      <th>balance_chng</th>\n",
              "    </tr>\n",
              "    <tr>\n",
              "      <th>cur_month</th>\n",
              "      <th></th>\n",
              "    </tr>\n",
              "  </thead>\n",
              "  <tbody>\n",
              "    <tr>\n",
              "      <th>2019-01-31</th>\n",
              "      <td>5000.0</td>\n",
              "    </tr>\n",
              "    <tr>\n",
              "      <th>2019-02-28</th>\n",
              "      <td>5000.0</td>\n",
              "    </tr>\n",
              "    <tr>\n",
              "      <th>2019-03-31</th>\n",
              "      <td>-10000.0</td>\n",
              "    </tr>\n",
              "    <tr>\n",
              "      <th>2019-04-30</th>\n",
              "      <td>5000.0</td>\n",
              "    </tr>\n",
              "    <tr>\n",
              "      <th>2019-05-31</th>\n",
              "      <td>0.0</td>\n",
              "    </tr>\n",
              "  </tbody>\n",
              "</table>\n",
              "</div>"
            ],
            "text/plain": [
              "            balance_chng\n",
              "cur_month               \n",
              "2019-01-31        5000.0\n",
              "2019-02-28        5000.0\n",
              "2019-03-31      -10000.0\n",
              "2019-04-30        5000.0\n",
              "2019-05-31           0.0"
            ]
          },
          "metadata": {
            "tags": []
          },
          "execution_count": 7
        }
      ]
    },
    {
      "cell_type": "code",
      "metadata": {
        "id": "OORgFjhsOeDQ",
        "colab_type": "code",
        "colab": {
          "base_uri": "https://localhost:8080/",
          "height": 235
        },
        "outputId": "fb34de78-e0a4-4962-fb4d-8f28b330e70d"
      },
      "source": [
        "grouped_balance_df['cur_month'] = grouped_balance_df_tmp.index.map(\n",
        "    lambda x: '-'.join((x.split('-'))[:-1])\n",
        ")\n",
        "grouped_balance_df['party_rk'] = grouped_balance_df.index.get_level_values('party_rk')\n",
        "grouped_balance_df['account_rk'] = grouped_balance_df.index.get_level_values('account_rk')\n",
        "grouped_balance_df.head(5)"
      ],
      "execution_count": null,
      "outputs": [
        {
          "output_type": "execute_result",
          "data": {
            "text/html": [
              "<div>\n",
              "<style scoped>\n",
              "    .dataframe tbody tr th:only-of-type {\n",
              "        vertical-align: middle;\n",
              "    }\n",
              "\n",
              "    .dataframe tbody tr th {\n",
              "        vertical-align: top;\n",
              "    }\n",
              "\n",
              "    .dataframe thead th {\n",
              "        text-align: right;\n",
              "    }\n",
              "</style>\n",
              "<table border=\"1\" class=\"dataframe\">\n",
              "  <thead>\n",
              "    <tr style=\"text-align: right;\">\n",
              "      <th></th>\n",
              "      <th></th>\n",
              "      <th></th>\n",
              "      <th>balance_chng</th>\n",
              "      <th>cur_month</th>\n",
              "      <th>party_rk</th>\n",
              "      <th>account_rk</th>\n",
              "    </tr>\n",
              "    <tr>\n",
              "      <th>party_rk</th>\n",
              "      <th>account_rk</th>\n",
              "      <th>cur_month</th>\n",
              "      <th></th>\n",
              "      <th></th>\n",
              "      <th></th>\n",
              "      <th></th>\n",
              "    </tr>\n",
              "  </thead>\n",
              "  <tbody>\n",
              "    <tr>\n",
              "      <th rowspan=\"5\" valign=\"top\">1</th>\n",
              "      <th rowspan=\"5\" valign=\"top\">2</th>\n",
              "      <th>2019-01-31</th>\n",
              "      <td>5000.0</td>\n",
              "      <td>2019-01</td>\n",
              "      <td>1</td>\n",
              "      <td>2</td>\n",
              "    </tr>\n",
              "    <tr>\n",
              "      <th>2019-02-28</th>\n",
              "      <td>5000.0</td>\n",
              "      <td>2019-02</td>\n",
              "      <td>1</td>\n",
              "      <td>2</td>\n",
              "    </tr>\n",
              "    <tr>\n",
              "      <th>2019-03-31</th>\n",
              "      <td>-10000.0</td>\n",
              "      <td>2019-03</td>\n",
              "      <td>1</td>\n",
              "      <td>2</td>\n",
              "    </tr>\n",
              "    <tr>\n",
              "      <th>2019-04-30</th>\n",
              "      <td>5000.0</td>\n",
              "      <td>2019-04</td>\n",
              "      <td>1</td>\n",
              "      <td>2</td>\n",
              "    </tr>\n",
              "    <tr>\n",
              "      <th>2019-05-31</th>\n",
              "      <td>0.0</td>\n",
              "      <td>2019-05</td>\n",
              "      <td>1</td>\n",
              "      <td>2</td>\n",
              "    </tr>\n",
              "  </tbody>\n",
              "</table>\n",
              "</div>"
            ],
            "text/plain": [
              "                                balance_chng cur_month  party_rk  account_rk\n",
              "party_rk account_rk cur_month                                               \n",
              "1        2          2019-01-31        5000.0   2019-01         1           2\n",
              "                    2019-02-28        5000.0   2019-02         1           2\n",
              "                    2019-03-31      -10000.0   2019-03         1           2\n",
              "                    2019-04-30        5000.0   2019-04         1           2\n",
              "                    2019-05-31           0.0   2019-05         1           2"
            ]
          },
          "metadata": {
            "tags": []
          },
          "execution_count": 8
        }
      ]
    },
    {
      "cell_type": "code",
      "metadata": {
        "id": "sBLiJ-DzanM6",
        "colab_type": "code",
        "colab": {
          "base_uri": "https://localhost:8080/",
          "height": 204
        },
        "outputId": "2082eae9-36d2-4bac-e04e-2097c4af77be"
      },
      "source": [
        "grouped_balance_df.index = range(grouped_balance_df.shape[0])\n",
        "grouped_balance_df.head()\n",
        "grouped_balance_df['cur_month_dt'] = grouped_balance_df['cur_month'].apply(\n",
        "    lambda x: datetime.strptime(x, '%Y-%m')\n",
        ")\n",
        "grouped_balance_df.head()"
      ],
      "execution_count": null,
      "outputs": [
        {
          "output_type": "execute_result",
          "data": {
            "text/html": [
              "<div>\n",
              "<style scoped>\n",
              "    .dataframe tbody tr th:only-of-type {\n",
              "        vertical-align: middle;\n",
              "    }\n",
              "\n",
              "    .dataframe tbody tr th {\n",
              "        vertical-align: top;\n",
              "    }\n",
              "\n",
              "    .dataframe thead th {\n",
              "        text-align: right;\n",
              "    }\n",
              "</style>\n",
              "<table border=\"1\" class=\"dataframe\">\n",
              "  <thead>\n",
              "    <tr style=\"text-align: right;\">\n",
              "      <th></th>\n",
              "      <th>balance_chng</th>\n",
              "      <th>cur_month</th>\n",
              "      <th>party_rk</th>\n",
              "      <th>account_rk</th>\n",
              "      <th>cur_month_dt</th>\n",
              "    </tr>\n",
              "  </thead>\n",
              "  <tbody>\n",
              "    <tr>\n",
              "      <th>0</th>\n",
              "      <td>5000.0</td>\n",
              "      <td>2019-01</td>\n",
              "      <td>1</td>\n",
              "      <td>2</td>\n",
              "      <td>2019-01-01</td>\n",
              "    </tr>\n",
              "    <tr>\n",
              "      <th>1</th>\n",
              "      <td>5000.0</td>\n",
              "      <td>2019-02</td>\n",
              "      <td>1</td>\n",
              "      <td>2</td>\n",
              "      <td>2019-02-01</td>\n",
              "    </tr>\n",
              "    <tr>\n",
              "      <th>2</th>\n",
              "      <td>-10000.0</td>\n",
              "      <td>2019-03</td>\n",
              "      <td>1</td>\n",
              "      <td>2</td>\n",
              "      <td>2019-03-01</td>\n",
              "    </tr>\n",
              "    <tr>\n",
              "      <th>3</th>\n",
              "      <td>5000.0</td>\n",
              "      <td>2019-04</td>\n",
              "      <td>1</td>\n",
              "      <td>2</td>\n",
              "      <td>2019-04-01</td>\n",
              "    </tr>\n",
              "    <tr>\n",
              "      <th>4</th>\n",
              "      <td>0.0</td>\n",
              "      <td>2019-05</td>\n",
              "      <td>1</td>\n",
              "      <td>2</td>\n",
              "      <td>2019-05-01</td>\n",
              "    </tr>\n",
              "  </tbody>\n",
              "</table>\n",
              "</div>"
            ],
            "text/plain": [
              "   balance_chng cur_month  party_rk  account_rk cur_month_dt\n",
              "0        5000.0   2019-01         1           2   2019-01-01\n",
              "1        5000.0   2019-02         1           2   2019-02-01\n",
              "2      -10000.0   2019-03         1           2   2019-03-01\n",
              "3        5000.0   2019-04         1           2   2019-04-01\n",
              "4           0.0   2019-05         1           2   2019-05-01"
            ]
          },
          "metadata": {
            "tags": []
          },
          "execution_count": 9
        }
      ]
    },
    {
      "cell_type": "code",
      "metadata": {
        "id": "kP1hTEnnudwx",
        "colab_type": "code",
        "colab": {}
      },
      "source": [
        "rks = trans_socdem_products_balance_df['party_rk'].to_numpy()\n",
        "aks = trans_socdem_products_balance_df['account_rk'].to_numpy()\n",
        "cur_months = trans_socdem_products_balance_df['cur_month'].to_numpy()"
      ],
      "execution_count": null,
      "outputs": []
    },
    {
      "cell_type": "code",
      "metadata": {
        "id": "jISTD8wyfo5R",
        "colab_type": "code",
        "colab": {}
      },
      "source": [
        "def fill_mov_avg_balance_chng(rk, ak, cur_month, window_size=6):\n",
        "    cur_month_dt = datetime.strptime(cur_month, '%Y-%m')\n",
        "\n",
        "    sub_df = grouped_balance_df[ \\\n",
        "        (grouped_balance_df['party_rk'] == rk) \\\n",
        "        & (grouped_balance_df['account_rk'] == ak)\n",
        "    ]\n",
        "    # (grouped_balance_df['cur_month_dt'] <= cur_month_dt)\n",
        "    sub_df = sub_df.sort_values('cur_month_dt')\n",
        "    old_mean = sub_df['balance_chng'][:window_size].mean()\n",
        "    sub_df = sub_df[sub_df['cur_month_dt'] <= cur_month_dt]\n",
        "    sub_df = sub_df.sort_values('cur_month_dt')\n",
        "    mean = sub_df['balance_chng'][-window_size:].mean()\n",
        "    \n",
        "    upd_mean = (mean + old_mean) / 2\n",
        "\n",
        "    return upd_mean\n",
        "\n",
        "\n",
        "mov_6_avg_balance_chng = []\n",
        "for rk, ak, cur_month in tqdm(zip(rks, aks, cur_months), total=rks.shape[0]):\n",
        "    mov_6_avg = fill_mov_avg_balance_chng(rk, ak, cur_month, 6)\n",
        "    mov_6_avg_balance_chng.append(mov_6_avg)\n",
        "\n",
        "\n",
        "# trans_socdem_products_balance_df['mov_6_avg_balance_chng'] = mov_6_avg_balance_chng"
      ],
      "execution_count": null,
      "outputs": []
    },
    {
      "cell_type": "code",
      "metadata": {
        "id": "iQFJI-x0OgGX",
        "colab_type": "code",
        "colab": {}
      },
      "source": [
        "def fill_balance_chg_sum(dttm):\n",
        "    dttm = row['transaction_dttm']\n",
        "    yyyy_mm = '-'.join(dttm.split('-'))\n",
        "    return grouped_balance_df[grouped_balance_df['cur_month'] == yyyy_mm]['balance_chng']"
      ],
      "execution_count": null,
      "outputs": []
    },
    {
      "cell_type": "code",
      "metadata": {
        "id": "jWpBtWweYv44",
        "colab_type": "code",
        "colab": {
          "base_uri": "https://localhost:8080/",
          "height": 241
        },
        "outputId": "d0af5b77-c77c-4924-dbdc-3a17fbca56c1"
      },
      "source": [
        "trans_socdem_products_df.head()"
      ],
      "execution_count": null,
      "outputs": [
        {
          "output_type": "execute_result",
          "data": {
            "text/html": [
              "<div>\n",
              "<style scoped>\n",
              "    .dataframe tbody tr th:only-of-type {\n",
              "        vertical-align: middle;\n",
              "    }\n",
              "\n",
              "    .dataframe tbody tr th {\n",
              "        vertical-align: top;\n",
              "    }\n",
              "\n",
              "    .dataframe thead th {\n",
              "        text-align: right;\n",
              "    }\n",
              "</style>\n",
              "<table border=\"1\" class=\"dataframe\">\n",
              "  <thead>\n",
              "    <tr style=\"text-align: right;\">\n",
              "      <th></th>\n",
              "      <th>party_rk</th>\n",
              "      <th>account_rk</th>\n",
              "      <th>financial_account_type_cd</th>\n",
              "      <th>transaction_dttm</th>\n",
              "      <th>transaction_type_desc</th>\n",
              "      <th>transaction_amt_rur</th>\n",
              "      <th>merchant_rk</th>\n",
              "      <th>merchant_type</th>\n",
              "      <th>merchant_group_rk</th>\n",
              "      <th>category</th>\n",
              "      <th>gender_cd</th>\n",
              "      <th>age</th>\n",
              "      <th>marital_status_desc</th>\n",
              "      <th>children_cnt</th>\n",
              "      <th>region_flg</th>\n",
              "      <th>product1</th>\n",
              "      <th>product2</th>\n",
              "      <th>product3</th>\n",
              "      <th>product4</th>\n",
              "      <th>product5</th>\n",
              "      <th>product6</th>\n",
              "      <th>product7</th>\n",
              "    </tr>\n",
              "  </thead>\n",
              "  <tbody>\n",
              "    <tr>\n",
              "      <th>0</th>\n",
              "      <td>20337</td>\n",
              "      <td>19666</td>\n",
              "      <td>1</td>\n",
              "      <td>2019-01-01</td>\n",
              "      <td>Покупка</td>\n",
              "      <td>84.0</td>\n",
              "      <td>88676.0</td>\n",
              "      <td>348.0</td>\n",
              "      <td>NaN</td>\n",
              "      <td>Сувениры</td>\n",
              "      <td>0</td>\n",
              "      <td>2</td>\n",
              "      <td>0</td>\n",
              "      <td>0</td>\n",
              "      <td>0</td>\n",
              "      <td>0</td>\n",
              "      <td>1</td>\n",
              "      <td>0</td>\n",
              "      <td>1</td>\n",
              "      <td>1</td>\n",
              "      <td>0</td>\n",
              "      <td>1</td>\n",
              "    </tr>\n",
              "    <tr>\n",
              "      <th>1</th>\n",
              "      <td>20337</td>\n",
              "      <td>19666</td>\n",
              "      <td>1</td>\n",
              "      <td>2019-01-08</td>\n",
              "      <td>Покупка</td>\n",
              "      <td>865.0</td>\n",
              "      <td>1073466.0</td>\n",
              "      <td>297.0</td>\n",
              "      <td>404.0</td>\n",
              "      <td>Топливо</td>\n",
              "      <td>0</td>\n",
              "      <td>2</td>\n",
              "      <td>0</td>\n",
              "      <td>0</td>\n",
              "      <td>0</td>\n",
              "      <td>0</td>\n",
              "      <td>1</td>\n",
              "      <td>0</td>\n",
              "      <td>1</td>\n",
              "      <td>1</td>\n",
              "      <td>0</td>\n",
              "      <td>1</td>\n",
              "    </tr>\n",
              "    <tr>\n",
              "      <th>2</th>\n",
              "      <td>20337</td>\n",
              "      <td>19666</td>\n",
              "      <td>1</td>\n",
              "      <td>2019-01-03</td>\n",
              "      <td>Покупка</td>\n",
              "      <td>976.0</td>\n",
              "      <td>218889.0</td>\n",
              "      <td>336.0</td>\n",
              "      <td>930.0</td>\n",
              "      <td>Супермаркеты</td>\n",
              "      <td>0</td>\n",
              "      <td>2</td>\n",
              "      <td>0</td>\n",
              "      <td>0</td>\n",
              "      <td>0</td>\n",
              "      <td>0</td>\n",
              "      <td>1</td>\n",
              "      <td>0</td>\n",
              "      <td>1</td>\n",
              "      <td>1</td>\n",
              "      <td>0</td>\n",
              "      <td>1</td>\n",
              "    </tr>\n",
              "    <tr>\n",
              "      <th>3</th>\n",
              "      <td>20337</td>\n",
              "      <td>19666</td>\n",
              "      <td>1</td>\n",
              "      <td>2019-01-01</td>\n",
              "      <td>Покупка</td>\n",
              "      <td>2525.0</td>\n",
              "      <td>803379.0</td>\n",
              "      <td>401.0</td>\n",
              "      <td>NaN</td>\n",
              "      <td>Красота</td>\n",
              "      <td>0</td>\n",
              "      <td>2</td>\n",
              "      <td>0</td>\n",
              "      <td>0</td>\n",
              "      <td>0</td>\n",
              "      <td>0</td>\n",
              "      <td>1</td>\n",
              "      <td>0</td>\n",
              "      <td>1</td>\n",
              "      <td>1</td>\n",
              "      <td>0</td>\n",
              "      <td>1</td>\n",
              "    </tr>\n",
              "    <tr>\n",
              "      <th>4</th>\n",
              "      <td>20337</td>\n",
              "      <td>19666</td>\n",
              "      <td>1</td>\n",
              "      <td>2019-01-07</td>\n",
              "      <td>Покупка</td>\n",
              "      <td>1480.0</td>\n",
              "      <td>939775.0</td>\n",
              "      <td>378.0</td>\n",
              "      <td>NaN</td>\n",
              "      <td>Разные товары</td>\n",
              "      <td>0</td>\n",
              "      <td>2</td>\n",
              "      <td>0</td>\n",
              "      <td>0</td>\n",
              "      <td>0</td>\n",
              "      <td>0</td>\n",
              "      <td>1</td>\n",
              "      <td>0</td>\n",
              "      <td>1</td>\n",
              "      <td>1</td>\n",
              "      <td>0</td>\n",
              "      <td>1</td>\n",
              "    </tr>\n",
              "  </tbody>\n",
              "</table>\n",
              "</div>"
            ],
            "text/plain": [
              "   party_rk  account_rk  ...  product6 product7\n",
              "0     20337       19666  ...         0        1\n",
              "1     20337       19666  ...         0        1\n",
              "2     20337       19666  ...         0        1\n",
              "3     20337       19666  ...         0        1\n",
              "4     20337       19666  ...         0        1\n",
              "\n",
              "[5 rows x 22 columns]"
            ]
          },
          "metadata": {
            "tags": []
          },
          "execution_count": 37
        }
      ]
    },
    {
      "cell_type": "code",
      "metadata": {
        "id": "inQZP8Q2bE7D",
        "colab_type": "code",
        "colab": {
          "base_uri": "https://localhost:8080/",
          "height": 241
        },
        "outputId": "d4df28d5-cbd7-40f5-a13f-5b5517ac33af"
      },
      "source": [
        "trans_socdem_products_df['cur_month'] = trans_socdem_products_df['transaction_dttm'].apply(\n",
        "    lambda x: '-'.join((x.split('-'))[:-1])\n",
        ")\n",
        "trans_socdem_products_df.head()"
      ],
      "execution_count": null,
      "outputs": [
        {
          "output_type": "execute_result",
          "data": {
            "text/html": [
              "<div>\n",
              "<style scoped>\n",
              "    .dataframe tbody tr th:only-of-type {\n",
              "        vertical-align: middle;\n",
              "    }\n",
              "\n",
              "    .dataframe tbody tr th {\n",
              "        vertical-align: top;\n",
              "    }\n",
              "\n",
              "    .dataframe thead th {\n",
              "        text-align: right;\n",
              "    }\n",
              "</style>\n",
              "<table border=\"1\" class=\"dataframe\">\n",
              "  <thead>\n",
              "    <tr style=\"text-align: right;\">\n",
              "      <th></th>\n",
              "      <th>party_rk</th>\n",
              "      <th>account_rk</th>\n",
              "      <th>financial_account_type_cd</th>\n",
              "      <th>transaction_dttm</th>\n",
              "      <th>transaction_type_desc</th>\n",
              "      <th>transaction_amt_rur</th>\n",
              "      <th>merchant_rk</th>\n",
              "      <th>merchant_type</th>\n",
              "      <th>merchant_group_rk</th>\n",
              "      <th>category</th>\n",
              "      <th>gender_cd</th>\n",
              "      <th>age</th>\n",
              "      <th>marital_status_desc</th>\n",
              "      <th>children_cnt</th>\n",
              "      <th>region_flg</th>\n",
              "      <th>product1</th>\n",
              "      <th>product2</th>\n",
              "      <th>product3</th>\n",
              "      <th>product4</th>\n",
              "      <th>product5</th>\n",
              "      <th>product6</th>\n",
              "      <th>product7</th>\n",
              "      <th>cur_month</th>\n",
              "    </tr>\n",
              "  </thead>\n",
              "  <tbody>\n",
              "    <tr>\n",
              "      <th>0</th>\n",
              "      <td>20337</td>\n",
              "      <td>19666</td>\n",
              "      <td>1</td>\n",
              "      <td>2019-01-01</td>\n",
              "      <td>Покупка</td>\n",
              "      <td>84.0</td>\n",
              "      <td>88676.0</td>\n",
              "      <td>348.0</td>\n",
              "      <td>NaN</td>\n",
              "      <td>Сувениры</td>\n",
              "      <td>0</td>\n",
              "      <td>2</td>\n",
              "      <td>0</td>\n",
              "      <td>0</td>\n",
              "      <td>0</td>\n",
              "      <td>0</td>\n",
              "      <td>1</td>\n",
              "      <td>0</td>\n",
              "      <td>1</td>\n",
              "      <td>1</td>\n",
              "      <td>0</td>\n",
              "      <td>1</td>\n",
              "      <td>2019-01</td>\n",
              "    </tr>\n",
              "    <tr>\n",
              "      <th>1</th>\n",
              "      <td>20337</td>\n",
              "      <td>19666</td>\n",
              "      <td>1</td>\n",
              "      <td>2019-01-08</td>\n",
              "      <td>Покупка</td>\n",
              "      <td>865.0</td>\n",
              "      <td>1073466.0</td>\n",
              "      <td>297.0</td>\n",
              "      <td>404.0</td>\n",
              "      <td>Топливо</td>\n",
              "      <td>0</td>\n",
              "      <td>2</td>\n",
              "      <td>0</td>\n",
              "      <td>0</td>\n",
              "      <td>0</td>\n",
              "      <td>0</td>\n",
              "      <td>1</td>\n",
              "      <td>0</td>\n",
              "      <td>1</td>\n",
              "      <td>1</td>\n",
              "      <td>0</td>\n",
              "      <td>1</td>\n",
              "      <td>2019-01</td>\n",
              "    </tr>\n",
              "    <tr>\n",
              "      <th>2</th>\n",
              "      <td>20337</td>\n",
              "      <td>19666</td>\n",
              "      <td>1</td>\n",
              "      <td>2019-01-03</td>\n",
              "      <td>Покупка</td>\n",
              "      <td>976.0</td>\n",
              "      <td>218889.0</td>\n",
              "      <td>336.0</td>\n",
              "      <td>930.0</td>\n",
              "      <td>Супермаркеты</td>\n",
              "      <td>0</td>\n",
              "      <td>2</td>\n",
              "      <td>0</td>\n",
              "      <td>0</td>\n",
              "      <td>0</td>\n",
              "      <td>0</td>\n",
              "      <td>1</td>\n",
              "      <td>0</td>\n",
              "      <td>1</td>\n",
              "      <td>1</td>\n",
              "      <td>0</td>\n",
              "      <td>1</td>\n",
              "      <td>2019-01</td>\n",
              "    </tr>\n",
              "    <tr>\n",
              "      <th>3</th>\n",
              "      <td>20337</td>\n",
              "      <td>19666</td>\n",
              "      <td>1</td>\n",
              "      <td>2019-01-01</td>\n",
              "      <td>Покупка</td>\n",
              "      <td>2525.0</td>\n",
              "      <td>803379.0</td>\n",
              "      <td>401.0</td>\n",
              "      <td>NaN</td>\n",
              "      <td>Красота</td>\n",
              "      <td>0</td>\n",
              "      <td>2</td>\n",
              "      <td>0</td>\n",
              "      <td>0</td>\n",
              "      <td>0</td>\n",
              "      <td>0</td>\n",
              "      <td>1</td>\n",
              "      <td>0</td>\n",
              "      <td>1</td>\n",
              "      <td>1</td>\n",
              "      <td>0</td>\n",
              "      <td>1</td>\n",
              "      <td>2019-01</td>\n",
              "    </tr>\n",
              "    <tr>\n",
              "      <th>4</th>\n",
              "      <td>20337</td>\n",
              "      <td>19666</td>\n",
              "      <td>1</td>\n",
              "      <td>2019-01-07</td>\n",
              "      <td>Покупка</td>\n",
              "      <td>1480.0</td>\n",
              "      <td>939775.0</td>\n",
              "      <td>378.0</td>\n",
              "      <td>NaN</td>\n",
              "      <td>Разные товары</td>\n",
              "      <td>0</td>\n",
              "      <td>2</td>\n",
              "      <td>0</td>\n",
              "      <td>0</td>\n",
              "      <td>0</td>\n",
              "      <td>0</td>\n",
              "      <td>1</td>\n",
              "      <td>0</td>\n",
              "      <td>1</td>\n",
              "      <td>1</td>\n",
              "      <td>0</td>\n",
              "      <td>1</td>\n",
              "      <td>2019-01</td>\n",
              "    </tr>\n",
              "  </tbody>\n",
              "</table>\n",
              "</div>"
            ],
            "text/plain": [
              "   party_rk  account_rk  ...  product7 cur_month\n",
              "0     20337       19666  ...         1   2019-01\n",
              "1     20337       19666  ...         1   2019-01\n",
              "2     20337       19666  ...         1   2019-01\n",
              "3     20337       19666  ...         1   2019-01\n",
              "4     20337       19666  ...         1   2019-01\n",
              "\n",
              "[5 rows x 23 columns]"
            ]
          },
          "metadata": {
            "tags": []
          },
          "execution_count": 18
        }
      ]
    },
    {
      "cell_type": "code",
      "metadata": {
        "id": "6Wfht3hNbVIX",
        "colab_type": "code",
        "colab": {}
      },
      "source": [
        "trans_socdem_products_balance_df = trans_socdem_products_df.merge(grouped_balance_df, on=['party_rk', 'account_rk', 'cur_month'])"
      ],
      "execution_count": null,
      "outputs": []
    },
    {
      "cell_type": "code",
      "metadata": {
        "id": "KsdfCUI_OgpN",
        "colab_type": "code",
        "colab": {}
      },
      "source": [
        "trans_socdem_products_balance_df.to_csv(f\"{DATADIR}/avk_hackathon_data_trans_socdem_products_balance_encoded.csv\", index=False)"
      ],
      "execution_count": null,
      "outputs": []
    },
    {
      "cell_type": "code",
      "metadata": {
        "id": "3Z0_mbXgOhDF",
        "colab_type": "code",
        "colab": {}
      },
      "source": [
        "trans_socdem_products_balance_df = pd.read_csv(f\"{DATADIR}/avk_hackathon_data_trans_socdem_products_balance_encoded.csv\")"
      ],
      "execution_count": null,
      "outputs": []
    },
    {
      "cell_type": "code",
      "metadata": {
        "id": "tA8sU_ebOhbO",
        "colab_type": "code",
        "colab": {
          "base_uri": "https://localhost:8080/",
          "height": 258
        },
        "outputId": "57781932-9fa8-4a94-fe20-80a5204d1731"
      },
      "source": [
        "trans_socdem_products_balance_df.head()"
      ],
      "execution_count": null,
      "outputs": [
        {
          "output_type": "execute_result",
          "data": {
            "text/html": [
              "<div>\n",
              "<style scoped>\n",
              "    .dataframe tbody tr th:only-of-type {\n",
              "        vertical-align: middle;\n",
              "    }\n",
              "\n",
              "    .dataframe tbody tr th {\n",
              "        vertical-align: top;\n",
              "    }\n",
              "\n",
              "    .dataframe thead th {\n",
              "        text-align: right;\n",
              "    }\n",
              "</style>\n",
              "<table border=\"1\" class=\"dataframe\">\n",
              "  <thead>\n",
              "    <tr style=\"text-align: right;\">\n",
              "      <th></th>\n",
              "      <th>party_rk</th>\n",
              "      <th>account_rk</th>\n",
              "      <th>financial_account_type_cd</th>\n",
              "      <th>transaction_dttm</th>\n",
              "      <th>transaction_type_desc</th>\n",
              "      <th>transaction_amt_rur</th>\n",
              "      <th>merchant_rk</th>\n",
              "      <th>merchant_type</th>\n",
              "      <th>merchant_group_rk</th>\n",
              "      <th>category</th>\n",
              "      <th>gender_cd</th>\n",
              "      <th>age</th>\n",
              "      <th>marital_status_desc</th>\n",
              "      <th>children_cnt</th>\n",
              "      <th>region_flg</th>\n",
              "      <th>product1</th>\n",
              "      <th>product2</th>\n",
              "      <th>product3</th>\n",
              "      <th>product4</th>\n",
              "      <th>product5</th>\n",
              "      <th>product6</th>\n",
              "      <th>product7</th>\n",
              "      <th>cur_month</th>\n",
              "      <th>balance_chng</th>\n",
              "    </tr>\n",
              "  </thead>\n",
              "  <tbody>\n",
              "    <tr>\n",
              "      <th>0</th>\n",
              "      <td>20337</td>\n",
              "      <td>19666</td>\n",
              "      <td>1</td>\n",
              "      <td>2019-01-01</td>\n",
              "      <td>Покупка</td>\n",
              "      <td>84.00</td>\n",
              "      <td>88676.0</td>\n",
              "      <td>348.0</td>\n",
              "      <td>NaN</td>\n",
              "      <td>Сувениры</td>\n",
              "      <td>0</td>\n",
              "      <td>2</td>\n",
              "      <td>0</td>\n",
              "      <td>0</td>\n",
              "      <td>0</td>\n",
              "      <td>0</td>\n",
              "      <td>1</td>\n",
              "      <td>0</td>\n",
              "      <td>1</td>\n",
              "      <td>1</td>\n",
              "      <td>0</td>\n",
              "      <td>1</td>\n",
              "      <td>2019-01</td>\n",
              "      <td>15000.0</td>\n",
              "    </tr>\n",
              "    <tr>\n",
              "      <th>1</th>\n",
              "      <td>56492</td>\n",
              "      <td>64272</td>\n",
              "      <td>1</td>\n",
              "      <td>2019-01-01</td>\n",
              "      <td>Покупка</td>\n",
              "      <td>101.00</td>\n",
              "      <td>1030137.0</td>\n",
              "      <td>372.0</td>\n",
              "      <td>NaN</td>\n",
              "      <td>Разные товары</td>\n",
              "      <td>1</td>\n",
              "      <td>5</td>\n",
              "      <td>0</td>\n",
              "      <td>0</td>\n",
              "      <td>0</td>\n",
              "      <td>0</td>\n",
              "      <td>1</td>\n",
              "      <td>0</td>\n",
              "      <td>0</td>\n",
              "      <td>0</td>\n",
              "      <td>0</td>\n",
              "      <td>0</td>\n",
              "      <td>2019-01</td>\n",
              "      <td>-10000.0</td>\n",
              "    </tr>\n",
              "    <tr>\n",
              "      <th>2</th>\n",
              "      <td>56492</td>\n",
              "      <td>64272</td>\n",
              "      <td>1</td>\n",
              "      <td>2019-01-01</td>\n",
              "      <td>Покупка</td>\n",
              "      <td>102.00</td>\n",
              "      <td>1030137.0</td>\n",
              "      <td>372.0</td>\n",
              "      <td>NaN</td>\n",
              "      <td>Разные товары</td>\n",
              "      <td>1</td>\n",
              "      <td>5</td>\n",
              "      <td>0</td>\n",
              "      <td>0</td>\n",
              "      <td>0</td>\n",
              "      <td>0</td>\n",
              "      <td>1</td>\n",
              "      <td>0</td>\n",
              "      <td>0</td>\n",
              "      <td>0</td>\n",
              "      <td>0</td>\n",
              "      <td>0</td>\n",
              "      <td>2019-01</td>\n",
              "      <td>-10000.0</td>\n",
              "    </tr>\n",
              "    <tr>\n",
              "      <th>3</th>\n",
              "      <td>56492</td>\n",
              "      <td>64272</td>\n",
              "      <td>1</td>\n",
              "      <td>2019-01-01</td>\n",
              "      <td>Покупка</td>\n",
              "      <td>606.65</td>\n",
              "      <td>533596.0</td>\n",
              "      <td>286.0</td>\n",
              "      <td>341.0</td>\n",
              "      <td>Супермаркеты</td>\n",
              "      <td>1</td>\n",
              "      <td>5</td>\n",
              "      <td>0</td>\n",
              "      <td>0</td>\n",
              "      <td>0</td>\n",
              "      <td>0</td>\n",
              "      <td>1</td>\n",
              "      <td>0</td>\n",
              "      <td>0</td>\n",
              "      <td>0</td>\n",
              "      <td>0</td>\n",
              "      <td>0</td>\n",
              "      <td>2019-01</td>\n",
              "      <td>-10000.0</td>\n",
              "    </tr>\n",
              "    <tr>\n",
              "      <th>4</th>\n",
              "      <td>18958</td>\n",
              "      <td>17865</td>\n",
              "      <td>2</td>\n",
              "      <td>2019-01-01</td>\n",
              "      <td>Покупка</td>\n",
              "      <td>111.00</td>\n",
              "      <td>482766.0</td>\n",
              "      <td>229.0</td>\n",
              "      <td>901.0</td>\n",
              "      <td>Транспорт</td>\n",
              "      <td>1</td>\n",
              "      <td>3</td>\n",
              "      <td>2</td>\n",
              "      <td>0</td>\n",
              "      <td>0</td>\n",
              "      <td>0</td>\n",
              "      <td>0</td>\n",
              "      <td>1</td>\n",
              "      <td>1</td>\n",
              "      <td>1</td>\n",
              "      <td>0</td>\n",
              "      <td>0</td>\n",
              "      <td>2019-01</td>\n",
              "      <td>-5000.0</td>\n",
              "    </tr>\n",
              "  </tbody>\n",
              "</table>\n",
              "</div>"
            ],
            "text/plain": [
              "   party_rk  account_rk  ...  cur_month balance_chng\n",
              "0     20337       19666  ...    2019-01      15000.0\n",
              "1     56492       64272  ...    2019-01     -10000.0\n",
              "2     56492       64272  ...    2019-01     -10000.0\n",
              "3     56492       64272  ...    2019-01     -10000.0\n",
              "4     18958       17865  ...    2019-01      -5000.0\n",
              "\n",
              "[5 rows x 24 columns]"
            ]
          },
          "metadata": {
            "tags": []
          },
          "execution_count": 6
        }
      ]
    },
    {
      "cell_type": "code",
      "metadata": {
        "id": "unaz-CnTLhvd",
        "colab_type": "code",
        "colab": {}
      },
      "source": [
        ""
      ],
      "execution_count": null,
      "outputs": []
    },
    {
      "cell_type": "code",
      "metadata": {
        "id": "dFlngb6AdWit",
        "colab_type": "code",
        "colab": {}
      },
      "source": [
        "trans_socdem_products_balance_df = trans_socdem_products_balance_df.sort_values('transaction_dttm')"
      ],
      "execution_count": null,
      "outputs": []
    },
    {
      "cell_type": "code",
      "metadata": {
        "id": "Oz1vNmIidkqK",
        "colab_type": "code",
        "colab": {}
      },
      "source": [
        "trans_socdem_products_balance_df = trans_socdem_products_balance_df.reset_index(drop=True)"
      ],
      "execution_count": null,
      "outputs": []
    },
    {
      "cell_type": "code",
      "metadata": {
        "id": "HQRknIrcl7a4",
        "colab_type": "code",
        "colab": {
          "base_uri": "https://localhost:8080/",
          "height": 34
        },
        "outputId": "0713a3f7-8370-4d32-ad08-ff227d4b1b54"
      },
      "source": [
        "trans_socdem_products_balance_df['children_cnt'].min()"
      ],
      "execution_count": null,
      "outputs": [
        {
          "output_type": "execute_result",
          "data": {
            "text/plain": [
              "0"
            ]
          },
          "metadata": {
            "tags": []
          },
          "execution_count": 6
        }
      ]
    },
    {
      "cell_type": "code",
      "metadata": {
        "id": "oKJ8ChlfOh4s",
        "colab_type": "code",
        "colab": {
          "base_uri": "https://localhost:8080/",
          "height": 442
        },
        "outputId": "36063a93-9fb8-4fe5-a03b-16cdb2ed7ee6"
      },
      "source": [
        "trans_socdem_products_balance_df.isna().sum()"
      ],
      "execution_count": null,
      "outputs": [
        {
          "output_type": "execute_result",
          "data": {
            "text/plain": [
              "party_rk                           0\n",
              "account_rk                         0\n",
              "financial_account_type_cd          0\n",
              "transaction_dttm                   0\n",
              "transaction_type_desc              0\n",
              "transaction_amt_rur                5\n",
              "merchant_rk                      976\n",
              "merchant_type                   1437\n",
              "merchant_group_rk            5938567\n",
              "category                     1806940\n",
              "gender_cd                          0\n",
              "age                                0\n",
              "marital_status_desc                0\n",
              "children_cnt                       0\n",
              "region_flg                         0\n",
              "product1                           0\n",
              "product2                           0\n",
              "product3                           0\n",
              "product4                           0\n",
              "product5                           0\n",
              "product6                           0\n",
              "product7                           0\n",
              "cur_month                          0\n",
              "balance_chng                       0\n",
              "dtype: int64"
            ]
          },
          "metadata": {
            "tags": []
          },
          "execution_count": 7
        }
      ]
    },
    {
      "cell_type": "code",
      "metadata": {
        "id": "YddiX76GOiRw",
        "colab_type": "code",
        "colab": {}
      },
      "source": [
        "del trans_socdem_products_balance_df"
      ],
      "execution_count": null,
      "outputs": []
    },
    {
      "cell_type": "markdown",
      "metadata": {
        "colab_type": "text",
        "id": "VT0HZR2_CfNA"
      },
      "source": [
        "## Mappings\n",
        "~1 min"
      ]
    },
    {
      "cell_type": "code",
      "metadata": {
        "id": "35KBzQIFyHKc",
        "colab_type": "code",
        "colab": {}
      },
      "source": [
        ""
      ],
      "execution_count": null,
      "outputs": []
    },
    {
      "cell_type": "code",
      "metadata": {
        "colab_type": "code",
        "id": "AKHwvxB5CfNA",
        "colab": {
          "base_uri": "https://localhost:8080/",
          "height": 66,
          "referenced_widgets": [
            "5c00b9ec74054d36b90224ed48b29641",
            "180184a938c144e6988b1a4e003a2c3c",
            "5042f87baa254328a82c04678901f31c",
            "ae583a644add4c35a99b0c01847c622e",
            "df722aca77024b668824de2f7e2d0c91",
            "73679d41205f41e2b944ab6bc6fc2b95",
            "c892c2813635441587a9f4d646a95643",
            "1b93076ef9804c0dbdd0454829284535"
          ]
        },
        "outputId": "e1f3f396-f639-4dee-c6ea-e5bd438a09b8"
      },
      "source": [
        "# Prepare & save mappings\n",
        "mappings = defaultdict(dict)\n",
        "unk_token = \"<UNK>\"\n",
        "\n",
        "\n",
        "def create_mapping(values):\n",
        "    mapping = {unk_token: 0}\n",
        "    for v in values:\n",
        "        if not pd.isna(v):\n",
        "            mapping[str(v)] = len(mapping)\n",
        "\n",
        "    return mapping\n",
        "\n",
        "\n",
        "for col in tqdm(\n",
        "    [\n",
        "        \"transaction_type_desc\",\n",
        "        \"merchant_rk\",\n",
        "        \"merchant_type\",\n",
        "        \"merchant_group_rk\",\n",
        "        \"category\",\n",
        "        \"financial_account_type_cd\",\n",
        "        'balance_chng'\n",
        "    ]\n",
        "):\n",
        "\n",
        "    col_values = (\n",
        "        pd.read_csv(transactions_enhanced_path, usecols=[col])[col]\n",
        "        .fillna(unk_token)\n",
        "        .astype(str)\n",
        "    )\n",
        "    mappings[col] = create_mapping(col_values.unique())\n",
        "    del col_values\n",
        "\n",
        "\n",
        "with open(f\"{DATADIR}/mappings.json\", \"w\") as f:\n",
        "    json.dump(mappings, f)"
      ],
      "execution_count": 18,
      "outputs": [
        {
          "output_type": "display_data",
          "data": {
            "application/vnd.jupyter.widget-view+json": {
              "model_id": "5c00b9ec74054d36b90224ed48b29641",
              "version_minor": 0,
              "version_major": 2
            },
            "text/plain": [
              "HBox(children=(FloatProgress(value=0.0, max=7.0), HTML(value='')))"
            ]
          },
          "metadata": {
            "tags": []
          }
        },
        {
          "output_type": "stream",
          "text": [
            "\n"
          ],
          "name": "stdout"
        }
      ]
    },
    {
      "cell_type": "code",
      "metadata": {
        "colab_type": "code",
        "id": "N_2kzArrCfND",
        "colab": {}
      },
      "source": [
        "# load mappings\n",
        "with open(f\"{DATADIR}/mappings.json\", 'r') as f:\n",
        "    mappings = json.load(f)"
      ],
      "execution_count": null,
      "outputs": []
    },
    {
      "cell_type": "markdown",
      "metadata": {
        "colab_type": "text",
        "id": "Yc69QUTfCfNG"
      },
      "source": [
        "## Parse transactions by users\n",
        "~ 40 min"
      ]
    },
    {
      "cell_type": "code",
      "metadata": {
        "colab_type": "code",
        "id": "0ezUae-0CfNG",
        "colab": {
          "base_uri": "https://localhost:8080/",
          "height": 66,
          "referenced_widgets": [
            "f9294710efbf4161a0cdfa3ebf519cd5",
            "9176c2eb8b3247819687b1cf8eefea6d",
            "213e89000b914c4ba5fa0dd63e6958d4",
            "8d8074c0c0d34e3288d20b7ab7b641e3",
            "f9b7c6675abf4edfb65c01e4cfb29934",
            "e2d9aac5624042729915464244e0f0c8",
            "ae0934dc7ed744768a47eb5d50a55d9a",
            "de7cee4f1894430283f94bfd09f42594"
          ]
        },
        "outputId": "17498025-e15d-4482-ff41-94f66802750d"
      },
      "source": [
        "# Prepare & save client data\n",
        "# party2dates = defaultdict(list)  # for each party save a series of the transaction dates \n",
        "# party2sum = defaultdict(list)  # for each party save a series of the transaction costs \n",
        "# party2merchant_type = defaultdict(list)  # for each party save a series of the transaction_type \n",
        "# party2trans_type = defaultdict(list)  # for each party save a series of the transaction merchant_type\n",
        "party2gender_cd = defaultdict(list) \n",
        "party2age = defaultdict(list)  \n",
        "party2marital_status_desc = defaultdict(list)  \n",
        "party2children_cnt = defaultdict(list)  \n",
        "party2region_flg = defaultdict(list)  \n",
        "party2product1 = defaultdict(list)  \n",
        "party2product2 = defaultdict(list)  \n",
        "party2product3 = defaultdict(list)\n",
        "party2product4 = defaultdict(list)\n",
        "party2product5 = defaultdict(list)\n",
        "party2product6 = defaultdict(list)\n",
        "party2product7 = defaultdict(list)\n",
        "party2balance_chng = defaultdict(list)\n",
        "\n",
        "\n",
        "usecols = [\n",
        "    \"party_rk\",\n",
        "    # \"transaction_dttm\",\n",
        "    # \"transaction_amt_rur\",\n",
        "    # \"merchant_type\",\n",
        "    # \"transaction_type_desc\",\n",
        "    'gender_cd',\n",
        "    'age',\n",
        "    'marital_status_desc',\n",
        "    'children_cnt',\n",
        "    'region_flg',\n",
        "    'product1',\n",
        "    'product2',\n",
        "    'product3',\n",
        "    'product4',\n",
        "    'product5',\n",
        "    'product6',\n",
        "    'product7',\n",
        "    'balance_chng'\n",
        "]\n",
        "\n",
        "for chunk in tqdm(\n",
        "    pd.read_csv(transactions_enhanced_path, usecols=usecols, chunksize=100_000)\n",
        "):\n",
        "\n",
        "    # chunk[\"merchant_type\"] = (\n",
        "    #     chunk[\"merchant_type\"].fillna(unk_token).astype(str)\n",
        "    # )\n",
        "    # chunk[\"transaction_type_desc\"] = (\n",
        "    #     chunk[\"transaction_type_desc\"].fillna(unk_token).astype(str)\n",
        "    # )\n",
        "    # chunk[\"transaction_amt_rur\"] = chunk[\"transaction_amt_rur\"].fillna(0)\n",
        "\n",
        "\n",
        "    for i, row in chunk.iterrows():\n",
        "        party2gender_cd[row.party_rk].append(row.gender_cd)\n",
        "        party2age[row.party_rk].append(row.age)\n",
        "        party2marital_status_desc[row.party_rk].append(row.marital_status_desc)\n",
        "        party2children_cnt[row.party_rk].append(row.children_cnt)\n",
        "        party2region_flg[row.party_rk].append(row.region_flg)\n",
        "        party2product1[row.party_rk].append(row.product1)\n",
        "        party2product2[row.party_rk].append(row.product2)\n",
        "        party2product3[row.party_rk].append(row.product3)\n",
        "        party2product4[row.party_rk].append(row.product4)\n",
        "        party2product5[row.party_rk].append(row.product5)\n",
        "        party2product6[row.party_rk].append(row.product6)\n",
        "        party2product7[row.party_rk].append(row.product7)\n",
        "        party2balance_chng[row.party_rk].append(\n",
        "            mappings[\"balance_chng\"][str(row.balance_chng)]\n",
        "        )\n",
        "\n",
        "\n",
        "        # party2dates[row.party_rk].append(row.transaction_dttm)\n",
        "        # party2sum[row.party_rk].append(row.transaction_amt_rur)\n",
        "        # party2merchant_type[row.party_rk].append(\n",
        "        #     mappings[\"merchant_type\"][row.merchant_type]\n",
        "        # )\n",
        "        # party2trans_type[row.party_rk].append(\n",
        "        #     mappings[\"transaction_type_desc\"][row.transaction_type_desc]\n",
        "        # )\n",
        "\n",
        "    del chunk\n",
        "\n",
        "# pickle.dump(party2dates, open(f\"{DATADIR}/party2dates.pkl\", \"wb\"))\n",
        "# pickle.dump(party2sum, open(f\"{DATADIR}/party2sum.pkl\", \"wb\"))\n",
        "# pickle.dump(party2merchant_type, open(f\"{DATADIR}/party2merchant_type.pkl\", \"wb\"))\n",
        "# pickle.dump(party2trans_type, open(f\"{DATADIR}/party2trans_type.pkl\", \"wb\"))\n",
        "\n",
        "pickle.dump(party2gender_cd, open(f\"{DATADIR}/party2gender_cd.pkl\", \"wb\"))\n",
        "pickle.dump(party2age, open(f\"{DATADIR}/party2age.pkl\", \"wb\"))\n",
        "pickle.dump(party2marital_status_desc, open(f\"{DATADIR}/party2marital_status_desc.pkl\", \"wb\"))\n",
        "pickle.dump(party2children_cnt, open(f\"{DATADIR}/party2children_cnt.pkl\", \"wb\"))\n",
        "pickle.dump(party2region_flg, open(f\"{DATADIR}/party2region_flg.pkl\", \"wb\"))\n",
        "pickle.dump(party2product1, open(f\"{DATADIR}/party2product1.pkl\", \"wb\"))\n",
        "pickle.dump(party2product2, open(f\"{DATADIR}/party2product2.pkl\", \"wb\"))\n",
        "pickle.dump(party2product3, open(f\"{DATADIR}/party2product3.pkl\", \"wb\"))\n",
        "pickle.dump(party2product4, open(f\"{DATADIR}/party2product4.pkl\", \"wb\"))\n",
        "pickle.dump(party2product5, open(f\"{DATADIR}/party2product5.pkl\", \"wb\"))\n",
        "pickle.dump(party2product6, open(f\"{DATADIR}/party2product6.pkl\", \"wb\"))\n",
        "pickle.dump(party2product7, open(f\"{DATADIR}/party2product7.pkl\", \"wb\"))\n",
        "pickle.dump(party2balance_chng, open(f\"{DATADIR}/party2balance_chng.pkl\", \"wb\"))"
      ],
      "execution_count": null,
      "outputs": [
        {
          "output_type": "display_data",
          "data": {
            "application/vnd.jupyter.widget-view+json": {
              "model_id": "f9294710efbf4161a0cdfa3ebf519cd5",
              "version_minor": 0,
              "version_major": 2
            },
            "text/plain": [
              "HBox(children=(FloatProgress(value=1.0, bar_style='info', max=1.0), HTML(value='')))"
            ]
          },
          "metadata": {
            "tags": []
          }
        },
        {
          "output_type": "stream",
          "text": [
            "\n"
          ],
          "name": "stdout"
        }
      ]
    },
    {
      "cell_type": "code",
      "metadata": {
        "id": "j5PmL8ZFKmh7",
        "colab_type": "code",
        "colab": {}
      },
      "source": [
        "# load client data\n",
        "party2dates = pickle.load(open(f\"{DATADIR}/party2dates.pkl\", 'rb'))\n",
        "party2sum = pickle.load(open(f\"{DATADIR}/party2sum.pkl\", 'rb'))\n",
        "party2merchant_type = pickle.load(open(f\"{DATADIR}/party2merchant_type.pkl\", 'rb'))\n",
        "party2trans_type = pickle.load(open(f\"{DATADIR}/party2trans_type.pkl\", 'rb'))\n",
        "\n",
        "# party2gender_cd = pickle.load(open(f\"{DATADIR}/party2gender_cd.pkl\", 'rb'))\n",
        "# party2age = pickle.load(open(f\"{DATADIR}/party2age.pkl\", 'rb'))\n",
        "party2marital_status_desc = pickle.load(open(f\"{DATADIR}/party2marital_status_desc.pkl\", 'rb'))\n",
        "party2children_cnt = pickle.load(open(f\"{DATADIR}/party2children_cnt.pkl\", 'rb'))\n",
        "# party2region_flg = pickle.load(open(f\"{DATADIR}/party2region_flg.pkl\", 'rb'))\n",
        "# party2product1 = pickle.load(open(f\"{DATADIR}/party2product1.pkl\", 'rb'))\n",
        "# party2product2 = pickle.load(open(f\"{DATADIR}/party2product2.pkl\", 'rb'))\n",
        "# party2product3 = pickle.load(open(f\"{DATADIR}/party2product3.pkl\", 'rb'))\n",
        "# party2product4 = pickle.load(open(f\"{DATADIR}/party2product4.pkl\", 'rb'))\n",
        "# party2product5 = pickle.load(open(f\"{DATADIR}/party2product5.pkl\", 'rb'))\n",
        "# party2product6 = pickle.load(open(f\"{DATADIR}/party2product6.pkl\", 'rb'))\n",
        "# party2product7 = pickle.load(open(f\"{DATADIR}/party2product7.pkl\", 'rb'))\n",
        "# party2balance_chng = pickle.load(open(f\"{DATADIR}/party2balance_chng.pkl\", 'rb'))"
      ],
      "execution_count": 19,
      "outputs": []
    },
    {
      "cell_type": "markdown",
      "metadata": {
        "colab_type": "text",
        "id": "FtLQTSfDCfNL"
      },
      "source": [
        "## PyTorch dataset"
      ]
    },
    {
      "cell_type": "code",
      "metadata": {
        "colab_type": "code",
        "id": "uf2Pmq0FCfNM",
        "colab": {
          "base_uri": "https://localhost:8080/",
          "height": 34
        },
        "outputId": "f1a9d0c3-92e2-416e-f42e-fb75609f7525"
      },
      "source": [
        "from sklearn.model_selection import train_test_split\n",
        "\n",
        "train_party, valid_party = train_test_split(\n",
        "    pd.read_csv(transactions_enhanced_path, usecols=['party_rk']).party_rk.unique(), \n",
        "    train_size=0.8, random_state=42\n",
        ")\n",
        "\n",
        "print(f'Train: {len(train_party)} Val: {len(valid_party)}')"
      ],
      "execution_count": 20,
      "outputs": [
        {
          "output_type": "stream",
          "text": [
            "Train: 39556 Val: 9889\n"
          ],
          "name": "stdout"
        }
      ]
    },
    {
      "cell_type": "code",
      "metadata": {
        "colab_type": "code",
        "id": "CGZuEgEoCfNO",
        "scrolled": true,
        "colab": {}
      },
      "source": [
        "predict_period_len = 60  # -- days\n",
        "train_predict_dates = (\n",
        "    pd.date_range(\"2019-03-01\", \"2019-10-31\", freq=\"MS\")\n",
        "    .strftime(\"%Y-%m-%d\")\n",
        "    .tolist()\n",
        ")\n",
        "valid_predict_dates = (\n",
        "    pd.date_range(\"2019-11-01\", \"2019-12-31\", freq=\"MS\")\n",
        "    .strftime(\"%Y-%m-%d\")\n",
        "    .tolist()\n",
        ")\n",
        "submission_predict_dates = (\n",
        "    pd.date_range(\"2020-01-01\", \"2020-02-28\", freq=\"2MS\")\n",
        "    .strftime(\"%Y-%m-%d\")\n",
        "    .tolist()\n",
        ")"
      ],
      "execution_count": 21,
      "outputs": []
    },
    {
      "cell_type": "code",
      "metadata": {
        "id": "EHo3KKBjkFDd",
        "colab_type": "code",
        "colab": {
          "base_uri": "https://localhost:8080/",
          "height": 68
        },
        "outputId": "b8029c53-7c78-4734-9fac-6c57a76e558c"
      },
      "source": [
        "print(train_predict_dates)\n",
        "print(valid_predict_dates)\n",
        "print(submission_predict_dates)"
      ],
      "execution_count": 22,
      "outputs": [
        {
          "output_type": "stream",
          "text": [
            "['2019-03-01', '2019-04-01', '2019-05-01', '2019-06-01', '2019-07-01', '2019-08-01', '2019-09-01', '2019-10-01']\n",
            "['2019-11-01', '2019-12-01']\n",
            "['2020-01-01']\n"
          ],
          "name": "stdout"
        }
      ]
    },
    {
      "cell_type": "code",
      "metadata": {
        "colab_type": "code",
        "id": "Z6rAD6SdCfNR",
        "colab": {}
      },
      "source": [
        "def prepare_data(party_list, mode=\"train\"):\n",
        "    \"\"\"\n",
        "    This function define the pipeline of the creation of train and valid samples.\n",
        "    We consider each client from party_list. For each client take each \n",
        "    predict_period_start from predict_dates list. All client transaction before\n",
        "    this date is our features. Next, we look at the customer's transactions in \n",
        "    the next two months. This transactions should be predicted. It will form \n",
        "    our labels vector.\n",
        "    \"\"\"\n",
        "\n",
        "    data_sum = []\n",
        "    data_trans_type = []\n",
        "    data_merchant_type = []\n",
        "    # data_gender_cd = []\n",
        "    # data_age = []\n",
        "    data_marital_status_desc = []\n",
        "    data_children_cnt = []\n",
        "    # data_region_flg = []\n",
        "    # data_product1 = []\n",
        "    # data_product2 = []\n",
        "    # data_product3 = []\n",
        "    # data_product4 = []\n",
        "    # data_product5 = []\n",
        "    # data_product6 = []\n",
        "    # data_product7 = []\n",
        "    # data_balance_chng = []\n",
        "    data_labels = []\n",
        "\n",
        "    for party_rk in tqdm(party_list):\n",
        "        date_series = party2dates[party_rk]\n",
        "        sum_series = party2sum[party_rk]\n",
        "        merch_type_series = party2merchant_type[party_rk]\n",
        "        trans_type_series = party2trans_type[party_rk]\n",
        "        # gender_cd_series = party2gender_cd[party_rk]\n",
        "        # age_series = party2age[party_rk]\n",
        "        marital_status_desc_series = party2marital_status_desc[party_rk]\n",
        "        children_cnt_series = party2children_cnt[party_rk]\n",
        "        # region_flg_series = party2region_flg[party_rk]\n",
        "        # product1_series = party2product1[party_rk]\n",
        "        # product2_series = party2product2[party_rk]\n",
        "        # product3_series = party2product3[party_rk]\n",
        "        # product4_series = party2product4[party_rk]\n",
        "        # product5_series = party2product5[party_rk]\n",
        "        # product6_series = party2product6[party_rk]\n",
        "        # product7_series = party2product7[party_rk]\n",
        "        # balance_chng_series = party2balance_chng[party_rk]\n",
        "\n",
        "        if mode == \"train\":\n",
        "            predict_dates = train_predict_dates\n",
        "        elif mode == \"valid\":\n",
        "            predict_dates = valid_predict_dates\n",
        "        elif mode == \"submission\":\n",
        "            predict_dates = submission_predict_dates\n",
        "        else:\n",
        "            raise Exception(\"Unknown mode\")\n",
        "\n",
        "        for predict_period_start in predict_dates:\n",
        "\n",
        "            predict_period_end = datetime.strftime(\n",
        "                datetime.strptime(predict_period_start, \"%Y-%m-%d\")\n",
        "                + timedelta(days=predict_period_len),\n",
        "                \"%Y-%m-%d\",\n",
        "            )\n",
        "\n",
        "            l, r = (\n",
        "                bisect_left(date_series, predict_period_start),\n",
        "                bisect_right(date_series, predict_period_end),\n",
        "            )\n",
        "\n",
        "            history_merch_type = merch_type_series[:l]\n",
        "            history_sum = sum_series[:l]\n",
        "            history_trans_type = trans_type_series[:l]\n",
        "            # history_gender_cd = gender_cd_series[:l]\n",
        "            # history_age = age_series[:l]\n",
        "            history_marital_status_desc = marital_status_desc_series[:l]\n",
        "            history_children_cnt = children_cnt_series[:l]\n",
        "            # history_region_flg = region_flg_series[:l]\n",
        "            # history_product1 = product1_series[:l]\n",
        "            # history_product2 = product2_series[:l]\n",
        "            # history_product3 = product3_series[:l]\n",
        "            # history_product4 = product4_series[:l]\n",
        "            # history_product5 = product5_series[:l]\n",
        "            # history_product6 = product6_series[:l]\n",
        "            # history_product7 = product7_series[:l]\n",
        "            # history_balance_chng = balance_chng_series[:l]\n",
        "            predict_merch = merch_type_series[l:r]\n",
        "\n",
        "            if predict_merch and l or mode not in (\"train\", \"valid\"):\n",
        "                data_sum.append(history_sum)\n",
        "                data_trans_type.append(history_trans_type)\n",
        "                data_merchant_type.append(history_merch_type)\n",
        "                # data_gender_cd.append(history_gender_cd)\n",
        "                # data_age.append(history_age)\n",
        "                data_marital_status_desc.append(history_marital_status_desc)\n",
        "                data_children_cnt.append(history_children_cnt)\n",
        "                # data_region_flg.append(history_region_flg)\n",
        "                # data_product1.append(history_product1)\n",
        "                # data_product2.append(history_product2)\n",
        "                # data_product3.append(history_product3)\n",
        "                # data_product4.append(history_product4)\n",
        "                # data_product5.append(history_product5)\n",
        "                # data_product6.append(history_product6)\n",
        "                # data_product7.append(history_product7)\n",
        "                # data_balance_chng.append(history_balance_chng)\n",
        "                data_labels.append(predict_merch)\n",
        "\n",
        "    return data_sum, data_trans_type, data_merchant_type, \\\n",
        "           data_marital_status_desc, data_children_cnt, \\\n",
        "           data_labels"
      ],
      "execution_count": 23,
      "outputs": []
    },
    {
      "cell_type": "code",
      "metadata": {
        "colab_type": "code",
        "id": "zZzpIPNNCfNT",
        "colab": {
          "base_uri": "https://localhost:8080/",
          "height": 115,
          "referenced_widgets": [
            "c69c6928d0e243afabe70014c1f872b9",
            "f94f9c1ff5f4474680b5cfad429de380",
            "06ac887b15b7471899a02ebe7ffd6604",
            "d3adf0fe1dc14f1987db80502fa9d2f3",
            "9008bc834c91417485d5705e71203071",
            "c9d0a333bae243649ce141115a3f4a97",
            "65b9eb9ecc194fcd9da1502378f9f5b1",
            "28179703c1a64054b899acb2446dec77",
            "9d5c603c676b4ec1bbc9fc22fb719f9e",
            "77eef057886a4a5692e4d5505d9b93a7",
            "6e6560e9759b45229cb690affe7c2b6c",
            "08835917e1754eb990c75d08e086315e",
            "3369d28a654a44aea68af3d87893e91a",
            "ed61269983844d979abcf82c1f13cc4c",
            "484c003a35d743b9879bd431a7801b1c",
            "a45849d02eb54625bfd4b54f67f9e92c"
          ]
        },
        "outputId": "305dc10a-0d8c-4647-85b8-64dd0123ce76"
      },
      "source": [
        "train_sum, train_trans_type, train_merchant_type, \\\n",
        "train_marital_status_desc, train_children_cnt, \\\n",
        "train_labels = prepare_data(\n",
        "    train_party, mode=\"train\"\n",
        ")\n",
        "valid_sum, valid_trans_type, valid_merchant_type, \\\n",
        "valid_marital_status_desc, valid_children_cnt, \\\n",
        "valid_labels = prepare_data(\n",
        "    valid_party, mode=\"valid\"\n",
        ")"
      ],
      "execution_count": 24,
      "outputs": [
        {
          "output_type": "display_data",
          "data": {
            "application/vnd.jupyter.widget-view+json": {
              "model_id": "c69c6928d0e243afabe70014c1f872b9",
              "version_minor": 0,
              "version_major": 2
            },
            "text/plain": [
              "HBox(children=(FloatProgress(value=0.0, max=39556.0), HTML(value='')))"
            ]
          },
          "metadata": {
            "tags": []
          }
        },
        {
          "output_type": "stream",
          "text": [
            "\n"
          ],
          "name": "stdout"
        },
        {
          "output_type": "display_data",
          "data": {
            "application/vnd.jupyter.widget-view+json": {
              "model_id": "9d5c603c676b4ec1bbc9fc22fb719f9e",
              "version_minor": 0,
              "version_major": 2
            },
            "text/plain": [
              "HBox(children=(FloatProgress(value=0.0, max=9889.0), HTML(value='')))"
            ]
          },
          "metadata": {
            "tags": []
          }
        },
        {
          "output_type": "stream",
          "text": [
            "\n"
          ],
          "name": "stdout"
        }
      ]
    },
    {
      "cell_type": "markdown",
      "metadata": {
        "colab_type": "text",
        "id": "i-xdScilCfNW"
      },
      "source": [
        "## PyTorch loaders"
      ]
    },
    {
      "cell_type": "code",
      "metadata": {
        "colab_type": "code",
        "id": "0gUqipggCfNX",
        "colab": {}
      },
      "source": [
        "import torch\n",
        "from torch.utils.data import Dataset, DataLoader"
      ],
      "execution_count": 25,
      "outputs": []
    },
    {
      "cell_type": "code",
      "metadata": {
        "colab_type": "code",
        "id": "Ex8SKiPqCfNZ",
        "colab": {}
      },
      "source": [
        "MERCH_TYPE_NCLASSES = len(mappings['merchant_type'])\n",
        "TRANS_TYPE_NCLASSES = len(mappings['transaction_type_desc'])\n",
        "# BALANCE_CHNG_NCLASSES = len(mappings['balance_chng'])\n",
        "# GENDER_CD_NCLASSES = 2\n",
        "# AGE_NCLASSES = 17\n",
        "MARITAL_STATUS_DESC_NCLASSES = 6\n",
        "CHILDREN_CNT_NCLASSES = 5\n",
        "# REGION_FLG_NCLASSES = 2\n",
        "# PRODUCTN_NCLASSES = 2\n",
        "PADDING_LEN = 300"
      ],
      "execution_count": 26,
      "outputs": []
    },
    {
      "cell_type": "code",
      "metadata": {
        "colab_type": "code",
        "id": "wjllhPWGCfNb",
        "colab": {}
      },
      "source": [
        "class RSDataset(Dataset):\n",
        "    def __init__(self, data_sum, data_trans_type, data_merchant_type, \n",
        "                 data_marital_status_desc, \n",
        "                 data_children_cnt, labels):\n",
        "        \n",
        "        super(RSDataset, self).__init__()\n",
        "        self.data_sum = data_sum\n",
        "        self.data_trans_type = data_trans_type\n",
        "        self.data_merchant_type = data_merchant_type\n",
        "        self.data_marital_status_desc = data_marital_status_desc\n",
        "        self.data_children_cnt = data_children_cnt\n",
        "        self.labels = labels\n",
        "\n",
        "    def __len__(self):\n",
        "        return len(self.data_sum)\n",
        "\n",
        "    def __getitem__(self, idx):\n",
        "        # idx - индекс даты\n",
        "        targets = np.zeros((MERCH_TYPE_NCLASSES - 1,), dtype=np.float32)\n",
        "        for m in self.labels[idx]:\n",
        "            # Смотрим лейблы по дате\n",
        "            if m:  # skip UNK, UNK-token should not be predicted\n",
        "                targets[m - 1] = 1.0\n",
        "\n",
        "        item = {\n",
        "            \"features\": {},\n",
        "            \"targets\": targets,\n",
        "        }\n",
        "\n",
        "        sum_feature = np.array(self.data_sum[idx][-PADDING_LEN:])\n",
        "        sum_feature = np.vectorize(lambda s: np.log(1 + s))(sum_feature)\n",
        "        if sum_feature.shape[0] < PADDING_LEN:\n",
        "            pad = np.zeros(\n",
        "                (PADDING_LEN - sum_feature.shape[0],), dtype=np.float32\n",
        "            )\n",
        "            sum_feature = np.hstack((sum_feature, pad))\n",
        "        item[\"features\"][\"sum\"] = torch.from_numpy(sum_feature).float()\n",
        "\n",
        "        for feature_name, feature_values in zip(\n",
        "            [\n",
        "                \"trans_type\", \n",
        "                \"merchant_type\", \n",
        "                # 'gender_cd',\n",
        "                # 'age',\n",
        "                'marital_status_desc',\n",
        "                'children_cnt',\n",
        "                # 'region_flg',\n",
        "                # 'product1',\n",
        "                # 'product2',\n",
        "                # 'product3',\n",
        "                # 'product4',\n",
        "                # 'product5',\n",
        "                # 'product6',\n",
        "                # 'product7',\n",
        "                # 'balance_chng'\n",
        "            ],\n",
        "            [\n",
        "                self.data_trans_type[idx], \n",
        "                self.data_merchant_type[idx],\n",
        "                # self.data_gender_cd[idx],\n",
        "                # self.data_age[idx],\n",
        "                self.data_marital_status_desc[idx],\n",
        "                self.data_children_cnt[idx],\n",
        "                # self.data_region_flg[idx],\n",
        "                # self.data_product1[idx],\n",
        "                # self.data_product2[idx],\n",
        "                # self.data_product3[idx],\n",
        "                # self.data_product4[idx],\n",
        "                # self.data_product5[idx],\n",
        "                # self.data_product6[idx],\n",
        "                # self.data_product7[idx],\n",
        "                # self.data_balance_chng[idx]\n",
        "            ],\n",
        "        ):\n",
        "\n",
        "            feature_values = np.array(feature_values[-PADDING_LEN:])\n",
        "            mask = np.ones(feature_values.shape[0], dtype=np.float32)\n",
        "            if feature_values.shape[0] < PADDING_LEN:\n",
        "                feature_values = np.append(\n",
        "                    feature_values,\n",
        "                    np.zeros(\n",
        "                        PADDING_LEN - feature_values.shape[0], dtype=np.int64\n",
        "                    ),\n",
        "                )\n",
        "                mask = np.append(\n",
        "                    mask,\n",
        "                    np.zeros(PADDING_LEN - mask.shape[0], dtype=np.float32),\n",
        "                )\n",
        "            item[\"features\"][feature_name] = torch.from_numpy(feature_values).long()\n",
        "            item[\"features\"][f\"{feature_name}_mask\"] = torch.from_numpy(mask).float()\n",
        "\n",
        "        return item"
      ],
      "execution_count": 27,
      "outputs": []
    },
    {
      "cell_type": "code",
      "metadata": {
        "colab_type": "code",
        "id": "D3-aV7lJCfNd",
        "colab": {}
      },
      "source": [
        "train_dataset = RSDataset(\n",
        "    train_sum, train_trans_type, train_merchant_type,\n",
        "    train_marital_status_desc, train_children_cnt,\n",
        "    train_labels\n",
        ")\n",
        "valid_dataset = RSDataset(\n",
        "    valid_sum, valid_trans_type, valid_merchant_type,\n",
        "    valid_marital_status_desc, valid_children_cnt,\n",
        "    valid_labels\n",
        ")"
      ],
      "execution_count": 28,
      "outputs": []
    },
    {
      "cell_type": "code",
      "metadata": {
        "colab_type": "code",
        "id": "H8jnB23BCfNg",
        "colab": {}
      },
      "source": [
        "train_loader = DataLoader(\n",
        "    train_dataset, batch_size=64, shuffle=True, num_workers=2\n",
        ")\n",
        "valid_loader = DataLoader(\n",
        "    valid_dataset, batch_size=64, shuffle=False, num_workers=2\n",
        ")"
      ],
      "execution_count": 29,
      "outputs": []
    },
    {
      "cell_type": "code",
      "metadata": {
        "colab_type": "code",
        "id": "SGRUJWR3CfNi",
        "scrolled": true,
        "colab": {}
      },
      "source": [
        "# sanity check\n",
        "for i in tqdm(range(len(train_loader))):\n",
        "    batch = next(iter(train_loader))\n",
        "    break\n",
        "\n",
        "print('\\n', batch['features'].keys(), batch['features']['merchant_type'].shape)\n",
        "batch['features']['merchant_type']"
      ],
      "execution_count": null,
      "outputs": []
    },
    {
      "cell_type": "markdown",
      "metadata": {
        "colab_type": "text",
        "id": "J67Ms2_jCfNk"
      },
      "source": [
        "## Model"
      ]
    },
    {
      "cell_type": "markdown",
      "metadata": {
        "colab_type": "text",
        "id": "RwwVKAh3AUx8"
      },
      "source": [
        "This is the baseline model for predicting purchases in `merchant_type` in the next 2 months"
      ]
    },
    {
      "cell_type": "code",
      "metadata": {
        "colab_type": "code",
        "id": "2kWquDGFCfNl",
        "colab": {}
      },
      "source": [
        "import torch.nn as nn\n",
        "from collections import OrderedDict"
      ],
      "execution_count": 30,
      "outputs": []
    },
    {
      "cell_type": "code",
      "metadata": {
        "colab_type": "code",
        "id": "C-PAEoqoCfNo",
        "colab": {}
      },
      "source": [
        "params = {\n",
        "    'merchant_type_emb_dim': 64,\n",
        "    'trans_type_embedding': 4,\n",
        "    # 'gender_cd_embedding': 2,\n",
        "    # 'age_embedding': 12,\n",
        "    'marital_status_desc_embedding': 4,\n",
        "    'children_cnt_embedding': 3,\n",
        "    # 'region_flg_embedding': 2,\n",
        "    # 'productn_embedding': 2,\n",
        "    # 'balance_chng_embedding': 5,\n",
        "    'transformer_nhead': 2,\n",
        "    'transformer_dim_feedforward': 256,\n",
        "    'transformer_dropout': 0.1,\n",
        "    'dense_unit': 256,\n",
        "    'num_layers': 4,\n",
        "}"
      ],
      "execution_count": 31,
      "outputs": []
    },
    {
      "cell_type": "code",
      "metadata": {
        "colab_type": "code",
        "id": "NeAfj7h_CfNq",
        "colab": {
          "base_uri": "https://localhost:8080/",
          "height": 34
        },
        "outputId": "1339ddd1-e5d7-4d43-bf0b-5072bb9496b4"
      },
      "source": [
        "MERCH_TYPE_NCLASSES, TRANS_TYPE_NCLASSES"
      ],
      "execution_count": null,
      "outputs": [
        {
          "output_type": "execute_result",
          "data": {
            "text/plain": [
              "(454, 5)"
            ]
          },
          "metadata": {
            "tags": []
          },
          "execution_count": 25
        }
      ]
    },
    {
      "cell_type": "code",
      "metadata": {
        "colab_type": "code",
        "id": "oDhr4svJCfNs",
        "colab": {}
      },
      "source": [
        "class Model(nn.Module):\n",
        "    def __init__(self):\n",
        "        super().__init__()\n",
        "\n",
        "        self.merchant_type_embedding = nn.Embedding(\n",
        "            MERCH_TYPE_NCLASSES, params[\"merchant_type_emb_dim\"]\n",
        "        )\n",
        "        self.trans_type_embedding = nn.Embedding(\n",
        "            TRANS_TYPE_NCLASSES, params[\"trans_type_embedding\"]\n",
        "        )\n",
        "        self.marital_status_desc_embedding = nn.Embedding(\n",
        "            MARITAL_STATUS_DESC_NCLASSES, params[\"marital_status_desc_embedding\"]\n",
        "        )\n",
        "        self.children_cnt_embedding = nn.Embedding(\n",
        "            CHILDREN_CNT_NCLASSES, params[\"children_cnt_embedding\"]\n",
        "        )\n",
        "\n",
        "\n",
        "        embedding_size = (\n",
        "            params[\"merchant_type_emb_dim\"]\n",
        "            + params[\"trans_type_embedding\"]\n",
        "            + params[\"marital_status_desc_embedding\"]\n",
        "            + params[\"children_cnt_embedding\"]\n",
        "            + 1\n",
        "        )\n",
        "\n",
        "        # print(embedding_size)\n",
        "        transformer_encoder_layer = nn.TransformerEncoderLayer(\n",
        "            d_model=embedding_size,\n",
        "            nhead=params[\"transformer_nhead\"],\n",
        "            dim_feedforward=params[\"transformer_dim_feedforward\"],\n",
        "            # dropout=params[\"transformer_dropout\"],\n",
        "            activation='gelu'\n",
        "        )\n",
        "        self.transformer_encoder = nn.TransformerEncoder(\n",
        "            transformer_encoder_layer, \n",
        "            num_layers=params[\"num_layers\"],\n",
        "            norm=nn.LayerNorm(embedding_size)\n",
        "        )\n",
        "\n",
        "        self.linear = nn.Linear(\n",
        "            in_features=embedding_size, out_features=params[\"dense_unit\"]\n",
        "        )\n",
        "        self.scorer = nn.Linear(\n",
        "            in_features=params[\"dense_unit\"],\n",
        "            out_features=MERCH_TYPE_NCLASSES - 1,\n",
        "        )\n",
        "\n",
        "    def forward(self, features):\n",
        "\n",
        "        merchant_type_emb = self.merchant_type_embedding(features[\"merchant_type\"])\n",
        "        marital_status_desc_emb = self.marital_status_desc_embedding(features[\"marital_status_desc\"])\n",
        "        children_cnt_emb = self.children_cnt_embedding(features[\"children_cnt\"])\n",
        "\n",
        "        # print(features[\"merchant_type\"].shape, merchant_type_emb.shape)\n",
        "        trans_type_emb = self.trans_type_embedding(features[\"trans_type\"])\n",
        "        # print(features[\"trans_type\"].shape, trans_type_emb.shape)\n",
        "\n",
        "        merchant_type_emb = merchant_type_emb * features[\"merchant_type_mask\"].unsqueeze(-1)\n",
        "        trans_type_emb = trans_type_emb * features[\"trans_type_mask\"].unsqueeze(-1)\n",
        "        marital_status_desc_emb = marital_status_desc_emb * features[\"marital_status_desc_mask\"].unsqueeze(-1)\n",
        "        children_cnt_emb = children_cnt_emb * features[\"children_cnt_mask\"].unsqueeze(-1)\n",
        "\n",
        "        embeddings = torch.cat(\n",
        "            (\n",
        "                merchant_type_emb, \n",
        "                trans_type_emb, \n",
        "                marital_status_desc_emb,\n",
        "                children_cnt_emb,\n",
        "                features[\"sum\"].unsqueeze(-1)\n",
        "            ),\n",
        "            dim=-1,\n",
        "        )\n",
        "        # print(features[\"sum\"].shape, features[\"sum\"].unsqueeze(-1).shape)\n",
        "        # print(embeddings.shape)\n",
        "\n",
        "        # print('TRANSFORMER PART:')\n",
        "        transformer_output = self.transformer_encoder(embeddings)\n",
        "        # print(transformer_output.shape)\n",
        "        pooling = torch.mean(transformer_output, dim=1)\n",
        "        # print(pooling.shape)\n",
        "        linear = torch.tanh(self.linear(pooling))\n",
        "        # print(linear.shape)\n",
        "        merch_logits = self.scorer(linear)\n",
        "        # print(merch_logits.shape)\n",
        "\n",
        "        return merch_logits"
      ],
      "execution_count": 33,
      "outputs": []
    },
    {
      "cell_type": "markdown",
      "metadata": {
        "colab_type": "text",
        "id": "NszoLAhbCfNu"
      },
      "source": [
        "### One-batch-check"
      ]
    },
    {
      "cell_type": "code",
      "metadata": {
        "colab_type": "code",
        "id": "PVdmq86KCfNu",
        "colab": {
          "base_uri": "https://localhost:8080/",
          "height": 34
        },
        "outputId": "f39889b0-ac6a-40a7-de6c-2c8203c0bac3"
      },
      "source": [
        "model = Model()\n",
        "criterion = nn.BCEWithLogitsLoss()\n",
        "batch = next(iter(train_loader))\n",
        "output = model(batch['features'])\n",
        "loss = criterion(output, batch['targets'])\n",
        "print(loss)"
      ],
      "execution_count": null,
      "outputs": [
        {
          "output_type": "stream",
          "text": [
            "tensor(0.6957, grad_fn=<BinaryCrossEntropyWithLogitsBackward>)\n"
          ],
          "name": "stdout"
        }
      ]
    },
    {
      "cell_type": "code",
      "metadata": {
        "id": "IGgh_KP89htx",
        "colab_type": "code",
        "colab": {
          "base_uri": "https://localhost:8080/",
          "height": 34
        },
        "outputId": "6006e9f6-8d73-4cdb-aee5-1cc954a718d1"
      },
      "source": [
        "batch['targets'].shape"
      ],
      "execution_count": null,
      "outputs": [
        {
          "output_type": "execute_result",
          "data": {
            "text/plain": [
              "torch.Size([64, 453])"
            ]
          },
          "metadata": {
            "tags": []
          },
          "execution_count": 27
        }
      ]
    },
    {
      "cell_type": "code",
      "metadata": {
        "id": "PY_fHwSA3oBk",
        "colab_type": "code",
        "colab": {
          "base_uri": "https://localhost:8080/",
          "height": 986
        },
        "outputId": "67945896-47cb-4b67-d13b-55c1a8becbe5"
      },
      "source": [
        "output[0]"
      ],
      "execution_count": null,
      "outputs": [
        {
          "output_type": "execute_result",
          "data": {
            "text/plain": [
              "tensor([-0.0067, -0.2120,  0.0116, -0.0854,  0.0082, -0.0168, -0.1258, -0.2237,\n",
              "        -0.0111,  0.2479, -0.1773, -0.0124, -0.1828, -0.1453,  0.0160, -0.1982,\n",
              "         0.1217, -0.3218,  0.1652, -0.2556,  0.3611,  0.1035,  0.0924,  0.1148,\n",
              "        -0.2773,  0.2576,  0.2021, -0.3026, -0.0543, -0.3176, -0.2774, -0.0638,\n",
              "        -0.1489,  0.0276, -0.2033,  0.2133,  0.3448,  0.0882,  0.0615,  0.3455,\n",
              "        -0.1049, -0.1638, -0.0055,  0.2230,  0.1095, -0.1169,  0.0754, -0.0344,\n",
              "         0.1450,  0.0787,  0.3001,  0.2015,  0.1889,  0.0075, -0.2656, -0.0890,\n",
              "         0.1860,  0.0846, -0.0265, -0.1618, -0.0609,  0.1563,  0.2716, -0.1471,\n",
              "        -0.1091, -0.1648, -0.1773,  0.1331, -0.1688,  0.0248, -0.3458,  0.0214,\n",
              "         0.0470, -0.1893, -0.0244, -0.2109,  0.1232,  0.0730, -0.0513,  0.1378,\n",
              "        -0.0018,  0.0640,  0.1742,  0.1349, -0.0971,  0.1747,  0.1185, -0.0045,\n",
              "         0.0080,  0.3051,  0.1144, -0.0620, -0.0574, -0.1189, -0.1174,  0.0867,\n",
              "        -0.1058, -0.1590, -0.2259, -0.2340, -0.1172, -0.1107, -0.1622, -0.1244,\n",
              "        -0.0178,  0.2216,  0.1296, -0.0982,  0.0062, -0.0682, -0.0542, -0.2591,\n",
              "        -0.0929,  0.3100, -0.0858,  0.2048,  0.2250,  0.0115,  0.1853, -0.1292,\n",
              "         0.0381,  0.0096,  0.2005,  0.0496,  0.0943, -0.0116,  0.2618, -0.0900,\n",
              "        -0.4051,  0.1446,  0.0875,  0.1048, -0.1598, -0.0952, -0.4133,  0.2122,\n",
              "         0.3839, -0.2976, -0.2447,  0.4303, -0.0968, -0.1530,  0.2083, -0.0850,\n",
              "         0.1075, -0.0016, -0.1683, -0.1566,  0.0224, -0.0740,  0.1648,  0.2717,\n",
              "         0.1499, -0.2039,  0.1209,  0.3801,  0.1421, -0.1196,  0.1157,  0.0314,\n",
              "         0.1206,  0.0995, -0.1055, -0.2066,  0.1036, -0.2339, -0.0839, -0.0173,\n",
              "         0.0033,  0.0490,  0.2961,  0.0636,  0.0895, -0.0597,  0.0849, -0.0815,\n",
              "         0.0128,  0.2986, -0.1193, -0.0646,  0.0420,  0.0357,  0.0324,  0.1207,\n",
              "         0.2787, -0.1149, -0.0805,  0.1236,  0.0356, -0.0828, -0.0257,  0.1584,\n",
              "         0.1695, -0.1754,  0.0454, -0.0153, -0.2425, -0.3010,  0.0787,  0.2092,\n",
              "         0.0819,  0.0325,  0.5271, -0.1855, -0.0062,  0.0363,  0.1481, -0.2510,\n",
              "         0.1583,  0.0170,  0.1619,  0.0984, -0.1350, -0.0530, -0.0184, -0.0116,\n",
              "        -0.1649,  0.0190,  0.4081,  0.2150, -0.1660,  0.0457,  0.1551,  0.1902,\n",
              "         0.3201, -0.3265,  0.0344,  0.0790, -0.2722, -0.2297, -0.1002, -0.2695,\n",
              "        -0.0471,  0.0470,  0.2153,  0.4714, -0.0181,  0.2701, -0.0224,  0.1249,\n",
              "         0.1186, -0.1217,  0.0085, -0.1247,  0.0561,  0.0063, -0.2033,  0.2793,\n",
              "         0.0584, -0.0358, -0.1370,  0.1663,  0.1050,  0.0957, -0.0884, -0.0503,\n",
              "         0.2024, -0.3549, -0.3568, -0.0897, -0.0938,  0.0444, -0.0887, -0.1680,\n",
              "         0.2615, -0.0661,  0.0959,  0.1782, -0.1005,  0.0489,  0.2027, -0.0279,\n",
              "         0.0120, -0.0427,  0.0176,  0.1245,  0.2969,  0.0762, -0.1121,  0.3941,\n",
              "        -0.3262, -0.3285, -0.0215,  0.0591, -0.4779,  0.0391, -0.2807,  0.2227,\n",
              "        -0.2184, -0.0256,  0.2002,  0.3947,  0.0012,  0.1145,  0.2554, -0.2266,\n",
              "         0.3137, -0.1376, -0.2086, -0.0028,  0.0965,  0.2320, -0.0832, -0.0549,\n",
              "         0.0712, -0.2000, -0.1412, -0.0539, -0.0840, -0.3610, -0.1041,  0.3009,\n",
              "         0.1363,  0.0805,  0.2741,  0.1298, -0.0688,  0.1831,  0.1026,  0.0737,\n",
              "         0.2224, -0.3158,  0.0287, -0.3086,  0.1253, -0.1038,  0.1105,  0.0650,\n",
              "        -0.0025,  0.1743,  0.1466,  0.1164,  0.0451, -0.1713, -0.0131,  0.2206,\n",
              "        -0.1136, -0.1938,  0.0087,  0.0382, -0.2000, -0.0764, -0.2107,  0.2280,\n",
              "         0.1757, -0.1642,  0.0615, -0.1938,  0.2326,  0.0509,  0.0696, -0.2002,\n",
              "         0.2027, -0.1446, -0.1249, -0.0094,  0.2583, -0.2437, -0.0300, -0.1361,\n",
              "         0.0994,  0.0422, -0.1289, -0.0917,  0.2239, -0.0490, -0.0812,  0.0110,\n",
              "        -0.0325,  0.1043, -0.0146,  0.0546, -0.0042, -0.1057, -0.2030,  0.0746,\n",
              "         0.3401,  0.1485, -0.3413, -0.0617, -0.0732,  0.0819, -0.1990,  0.1621,\n",
              "         0.0963,  0.1716, -0.2454, -0.0969,  0.0481, -0.1148,  0.1040, -0.4685,\n",
              "        -0.2073, -0.1262,  0.0033,  0.5121, -0.0506, -0.1294, -0.0193, -0.2069,\n",
              "        -0.2570,  0.0549, -0.1599,  0.1563, -0.2702,  0.0578,  0.3366, -0.3084,\n",
              "        -0.0928,  0.0019,  0.2624,  0.1931, -0.0335, -0.1308,  0.1495,  0.0945,\n",
              "         0.0684, -0.1927, -0.1032, -0.0801, -0.0062,  0.0240,  0.2348,  0.1339,\n",
              "         0.1627, -0.1572, -0.0816,  0.1593,  0.0803, -0.0187,  0.1000, -0.2907,\n",
              "        -0.0872,  0.1805, -0.0356, -0.1986, -0.1325, -0.0518, -0.3123, -0.2192,\n",
              "         0.2603, -0.0578,  0.0075, -0.0156, -0.1573,  0.0485, -0.1729, -0.0042,\n",
              "        -0.3694, -0.2204, -0.4472,  0.0344,  0.0821], grad_fn=<SelectBackward>)"
            ]
          },
          "metadata": {
            "tags": []
          },
          "execution_count": 28
        }
      ]
    },
    {
      "cell_type": "markdown",
      "metadata": {
        "colab_type": "text",
        "id": "DZz71tEDCfNw"
      },
      "source": [
        "## Train loop with [Catalyst](https://github.com/catalyst-team/catalyst)\n",
        "\n",
        "[A comprehensive step-by-step guide to basic and advanced features](https://github.com/catalyst-team/catalyst#step-by-step-guide).\n",
        "\n",
        "---\n",
        "\n"
      ]
    },
    {
      "cell_type": "code",
      "metadata": {
        "colab_type": "code",
        "id": "DcF4frWZCfNx",
        "colab": {}
      },
      "source": [
        "from catalyst import dl, utils\n",
        "from catalyst.utils import metrics"
      ],
      "execution_count": 34,
      "outputs": []
    },
    {
      "cell_type": "markdown",
      "metadata": {
        "colab_type": "text",
        "id": "Q6EBSFvEwpQl"
      },
      "source": [
        "## Custom metrics for this hackathon"
      ]
    },
    {
      "cell_type": "code",
      "metadata": {
        "colab_type": "code",
        "id": "1OhGkjT0CfNz",
        "colab": {}
      },
      "source": [
        "from typing import List, Optional, Sequence, Tuple, Union\n",
        "\n",
        "import numpy as np\n",
        "import torch\n",
        "from catalyst.utils.metrics.functional import preprocess_multi_label_metrics\n",
        "from catalyst.utils.torch import get_activation_fn\n",
        "\n",
        "\n",
        "def multi_label_metrics(\n",
        "    outputs: torch.Tensor,\n",
        "    targets: torch.Tensor,\n",
        "    threshold: Union[float, torch.Tensor],\n",
        "    activation: Optional[str] = None,\n",
        "    eps: float = 1e-7,\n",
        ") -> Tuple[torch.Tensor, torch.Tensor, torch.Tensor, torch.Tensor]:\n",
        "    \"\"\"\n",
        "    Computes multi-label precision for the specified activation and threshold.\n",
        "\n",
        "    Args:\n",
        "        outputs (torch.Tensor): NxK tensor that for each of the N examples\n",
        "            indicates the probability of the example belonging to each of\n",
        "            the K classes, according to the model.\n",
        "        targets (torch.Tensor): binary NxK tensort that encodes which of the K\n",
        "            classes are associated with the N-th input\n",
        "            (eg: a row [0, 1, 0, 1] indicates that the example is\n",
        "            associated with classes 2 and 4)\n",
        "        threshold (float): threshold for for model output\n",
        "        activation (str): activation to use for model output\n",
        "        eps (float): epsilon to avoid zero division\n",
        "    \n",
        "    Extended version of \n",
        "        https://github.com/catalyst-team/catalyst/blob/master/catalyst/utils/metrics/accuracy.py#L58\n",
        "\n",
        "    Returns:\n",
        "        computed multi-label metrics\n",
        "    \"\"\"\n",
        "    outputs, targets, _ = preprocess_multi_label_metrics(\n",
        "        outputs=outputs, targets=targets\n",
        "    )\n",
        "    activation_fn = get_activation_fn(activation)\n",
        "    outputs = activation_fn(outputs)\n",
        "\n",
        "    outputs = (outputs > threshold).long()\n",
        "\n",
        "    accuracy = (targets.long() == outputs.long()).sum().float() / np.prod(\n",
        "        targets.shape\n",
        "    )\n",
        "\n",
        "    intersection = (outputs.long() * targets.long()).sum(axis=1).float()\n",
        "    num_predicted = outputs.long().sum(axis=1).float()\n",
        "    num_relevant = targets.long().sum(axis=1).float()\n",
        "    union = num_predicted + num_relevant\n",
        "\n",
        "    # Precision = ({predicted items} && {relevant items}) / {predicted items}\n",
        "    precision = intersection / (num_predicted + eps * (num_predicted == 0))\n",
        "    # Recall = ({predicted items} && {relevant items}) / {relevant items}\n",
        "    recall = intersection / (num_relevant + eps * (num_relevant == 0))\n",
        "    # IoU = ({predicted items} && {relevant items}) / ({predicted items} || {relevant items})\n",
        "    iou = (intersection + eps * (union == 0)) / (union - intersection + eps)\n",
        "\n",
        "    return accuracy, precision.mean(), recall.mean(), iou.mean()\n",
        "\n",
        "\n",
        "def precision_at_k(\n",
        "    actual: torch.Tensor, \n",
        "    predicted: torch.Tensor, \n",
        "    k: int,\n",
        "):\n",
        "    \"\"\"\n",
        "    Computes precision at cutoff k for one sample\n",
        "\n",
        "    Args:\n",
        "       actual: (torch.Tensor): tensor of length K with predicted item_ids sorted by relevance\n",
        "       predicted (torch.Tensor): binary tensor that encodes which of the K\n",
        "           classes are associated with the N-th input\n",
        "           (eg: a row [0, 1, 0, 1] indicates that the example is\n",
        "           associated with classes 2 and 4)\n",
        "       k (int): parameter k of precison@k\n",
        "\n",
        "    Returns:\n",
        "       Computed value of precision@k for given sample\n",
        "    \"\"\"\n",
        "    p_at_k = 0.0\n",
        "    for item in predicted[:k]:\n",
        "        if actual[item]:\n",
        "            p_at_k += 1\n",
        "    p_at_k /= k\n",
        "\n",
        "    return p_at_k\n",
        "\n",
        "\n",
        "def average_precision_at_k(\n",
        "    actual: torch.Tensor, \n",
        "    predicted: torch.Tensor, \n",
        "    k: int,\n",
        ") -> float:\n",
        "    \"\"\"\n",
        "    Computes average precision at cutoff k for one sample\n",
        "\n",
        "    Args:\n",
        "      actual: (torch.Tensor): tensor of length K with predicted item_ids sorted by relevance\n",
        "      predicted (torch.Tensor): binary tensor that encodes which of the K\n",
        "          classes are associated with the N-th input\n",
        "          (eg: a row [0, 1, 0, 1] indicates that the example is\n",
        "          associated with classes 2 and 4)\n",
        "      k (int): parameter k of AP@k\n",
        "\n",
        "    Returns:\n",
        "        Computed value of AP@k for given sample\n",
        "    \"\"\"\n",
        "    ap_at_k = 0.0\n",
        "    for idx, item in enumerate(predicted[:k]):\n",
        "        if actual[item]:\n",
        "            ap_at_k += precision_at_k(actual, predicted, k=idx + 1)\n",
        "    ap_at_k /= min(k, actual.sum().cpu().numpy())\n",
        "    \n",
        "\n",
        "    return ap_at_k\n",
        "\n",
        "\n",
        "def mean_average_precision_at_k(\n",
        "    output: torch.Tensor, target: torch.Tensor, top_k: Tuple[int, ...] = (1,)\n",
        ") -> List[float]:\n",
        "    \"\"\"\n",
        "    Computes mean_average_precision_at_k at set of cutoff parameters K\n",
        "\n",
        "    Args:\n",
        "       outputs (torch.Tensor): NxK tensor that for each of the N examples\n",
        "           indicates the probability of the example belonging to each of\n",
        "           the K classes, according to the model.\n",
        "       targets (torch.Tensor): binary NxK tensort that encodes which of the K\n",
        "           classes are associated with the N-th input\n",
        "           (eg: a row [0, 1, 0, 1] indicates that the example is\n",
        "           associated with classes 2 and 4)\n",
        "       top_k (tuple): list of parameters k at which map@k will be computed\n",
        "\n",
        "\n",
        "    Returns:\n",
        "       List of computed values of map@k at each cutoff k from topk\n",
        "    \"\"\"\n",
        "    max_k = max(top_k)\n",
        "    batch_size = target.size(0)\n",
        "\n",
        "    _, top_indices = output.topk(k=max_k, dim=1, largest=True, sorted=True)\n",
        "\n",
        "    result = []\n",
        "    for k in top_k:  # loop over k\n",
        "        map_at_k = 0.0\n",
        "        for actual_target, predicted_items in zip(\n",
        "            target, top_indices\n",
        "        ):  # loop over samples\n",
        "            map_at_k += average_precision_at_k(\n",
        "                actual_target, predicted_items, k\n",
        "            )\n",
        "        map_at_k = map_at_k / batch_size\n",
        "        result.append(map_at_k)\n",
        "\n",
        "    return result"
      ],
      "execution_count": 35,
      "outputs": []
    },
    {
      "cell_type": "code",
      "metadata": {
        "colab_type": "code",
        "id": "GygG0d1WCfN2",
        "colab": {}
      },
      "source": [
        "# What is Runner?\n",
        "# https://catalyst-team.github.io/catalyst/api/core.html#runner\n",
        "class CustomRunner(dl.Runner):\n",
        "\n",
        "    def _handle_batch(self, batch):\n",
        "        # model train/valid step\n",
        "        features, targets = batch[\"features\"], batch[\"targets\"]\n",
        "        logits = self.model(features)\n",
        "        scores = torch.sigmoid(logits)\n",
        "\n",
        "        loss = self.criterion(logits, targets)\n",
        "        accuracy, precision, recall, iou = multi_label_metrics(\n",
        "            logits, targets, threshold=0.5, activation=\"Sigmoid\"\n",
        "        )\n",
        "        map05, map10, map20 = mean_average_precision_at_k(\n",
        "            scores, targets, top_k=(5, 10, 20)\n",
        "        )\n",
        "        batch_metrics = {\n",
        "            \"loss\": loss,\n",
        "            \"accuracy\": accuracy,\n",
        "            \"precision\": precision,\n",
        "            \"recall\": recall,\n",
        "            \"iou\": iou,\n",
        "            \"map05\": map05,\n",
        "            \"map10\": map10,\n",
        "            \"map20\": map20\n",
        "        }\n",
        "        \n",
        "        self.input = {\"features\": features, \"targets\": targets}\n",
        "        self.output = {\"logits\": logits, \"scores\": scores}\n",
        "        self.batch_metrics.update(batch_metrics)\n",
        "\n",
        "        if self.is_train_loader:\n",
        "            loss.backward()\n",
        "            self.optimizer.step()\n",
        "            self.optimizer.zero_grad()\n",
        "    \n",
        "    def predict_batch(self, batch):\n",
        "        # model inference step\n",
        "        batch = utils.maybe_recursive_call(batch, \"to\", device=self.device)\n",
        "        logits = self.model(batch[\"features\"])\n",
        "        scores = torch.sigmoid(logits)\n",
        "        return scores"
      ],
      "execution_count": 36,
      "outputs": []
    },
    {
      "cell_type": "code",
      "metadata": {
        "colab_type": "code",
        "id": "noTAPVPSCfN5",
        "colab": {}
      },
      "source": [
        "model = Model()\n",
        "criterion = nn.BCEWithLogitsLoss()\n",
        "optimizer = torch.optim.Adam(model.parameters(), lr=1e-4, weight_decay=1e-5)\n",
        "\n",
        "loaders = {\"train\": train_loader, \"valid\": valid_loader}"
      ],
      "execution_count": 37,
      "outputs": []
    },
    {
      "cell_type": "code",
      "metadata": {
        "colab_type": "code",
        "id": "CH-bnRkkSRYA",
        "colab": {
          "base_uri": "https://localhost:8080/",
          "height": 838
        },
        "outputId": "49db65e1-00b8-4dd8-818c-489eb24256aa"
      },
      "source": [
        "%load_ext tensorboard\n",
        "%tensorboard --logdir ./logs"
      ],
      "execution_count": 38,
      "outputs": [
        {
          "output_type": "display_data",
          "data": {
            "text/plain": [
              "Reusing TensorBoard on port 6006 (pid 742), started 1:17:04 ago. (Use '!kill 742' to kill it.)"
            ]
          },
          "metadata": {
            "tags": []
          }
        },
        {
          "output_type": "display_data",
          "data": {
            "application/javascript": [
              "\n",
              "        (async () => {\n",
              "            const url = await google.colab.kernel.proxyPort(6006, {\"cache\": true});\n",
              "            const iframe = document.createElement('iframe');\n",
              "            iframe.src = url;\n",
              "            iframe.setAttribute('width', '100%');\n",
              "            iframe.setAttribute('height', '800');\n",
              "            iframe.setAttribute('frameborder', 0);\n",
              "            document.body.appendChild(iframe);\n",
              "        })();\n",
              "    "
            ],
            "text/plain": [
              "<IPython.core.display.Javascript object>"
            ]
          },
          "metadata": {
            "tags": []
          }
        }
      ]
    },
    {
      "cell_type": "code",
      "metadata": {
        "colab_type": "code",
        "id": "mhxJPaHTCfN6",
        "colab": {
          "base_uri": "https://localhost:8080/",
          "height": 548
        },
        "outputId": "7e567d7d-99c8-49ea-ba8e-72839b0ef739"
      },
      "source": [
        "# For other minimal examples, please follow the link below\n",
        "# https://github.com/catalyst-team/catalyst#minimal-examples\n",
        "runner = CustomRunner()\n",
        "# model training\n",
        "runner.train(\n",
        "    model=model,\n",
        "    criterion=criterion,\n",
        "    optimizer=optimizer,\n",
        "    scheduler=None,\n",
        "    loaders=loaders,\n",
        "    logdir=\"./logs\",\n",
        "    num_epochs=10,\n",
        "    verbose=True,\n",
        "    load_best_on_end=True,\n",
        "    overfit=False,  #  <<<--- DO NOT FORGET TO MAKE IT ``False`` \n",
        "                    #  (``True`` uses only one batch to check pipeline correctness)\n",
        "    callbacks=[\n",
        "        # https://scikit-learn.org/stable/modules/generated/sklearn.metrics.average_precision_score.html\n",
        "        # dl.AveragePrecisionCallback(input_key=\"targets\", output_key=\"scores\", prefix=\"ap\"),\n",
        "        # https://scikit-learn.org/stable/modules/generated/sklearn.metrics.roc_auc_score.html\n",
        "        # dl.AUCCallback(input_key=\"targets\", output_key=\"scores\", prefix=\"auc\"),\n",
        "    ],\n",
        "    main_metric=\"iou\", # \"ap/mean\", \n",
        "    minimize_metric=False,\n",
        ")"
      ],
      "execution_count": 39,
      "outputs": [
        {
          "output_type": "stream",
          "text": [
            "1/10 * Epoch (train): 100% 3807/3807 [21:17<00:00,  2.98it/s, accuracy=0.982, iou=0.274, loss=0.055, map05=0.691, map10=0.617, map20=0.596, precision=0.740, recall=0.358]\n",
            "1/10 * Epoch (valid):  25% 68/269 [00:18<00:55,  3.62it/s, accuracy=0.980, iou=0.261, loss=0.059, map05=0.585, map10=0.533, map20=0.503, precision=0.623, recall=0.364]"
          ],
          "name": "stdout"
        },
        {
          "output_type": "error",
          "ename": "IndexError",
          "evalue": "ignored",
          "traceback": [
            "\u001b[0;31m---------------------------------------------------------------------------\u001b[0m",
            "\u001b[0;31mIndexError\u001b[0m                                Traceback (most recent call last)",
            "\u001b[0;32m<ipython-input-39-c939f3c95fbd>\u001b[0m in \u001b[0;36m<module>\u001b[0;34m()\u001b[0m\n\u001b[1;32m     22\u001b[0m     ],\n\u001b[1;32m     23\u001b[0m     \u001b[0mmain_metric\u001b[0m\u001b[0;34m=\u001b[0m\u001b[0;34m\"iou\"\u001b[0m\u001b[0;34m,\u001b[0m \u001b[0;31m# \"ap/mean\",\u001b[0m\u001b[0;34m\u001b[0m\u001b[0;34m\u001b[0m\u001b[0m\n\u001b[0;32m---> 24\u001b[0;31m     \u001b[0mminimize_metric\u001b[0m\u001b[0;34m=\u001b[0m\u001b[0;32mFalse\u001b[0m\u001b[0;34m,\u001b[0m\u001b[0;34m\u001b[0m\u001b[0;34m\u001b[0m\u001b[0m\n\u001b[0m\u001b[1;32m     25\u001b[0m )\n",
            "\u001b[0;32m/usr/local/lib/python3.6/dist-packages/catalyst/dl/runner/runner.py\u001b[0m in \u001b[0;36mtrain\u001b[0;34m(self, model, criterion, optimizer, scheduler, datasets, loaders, callbacks, logdir, resume, num_epochs, valid_loader, main_metric, minimize_metric, verbose, stage_kwargs, checkpoint_data, fp16, distributed, check, overfit, timeit, load_best_on_end, initial_seed, state_kwargs)\u001b[0m\n\u001b[1;32m    161\u001b[0m         )\n\u001b[1;32m    162\u001b[0m         \u001b[0mself\u001b[0m\u001b[0;34m.\u001b[0m\u001b[0mexperiment\u001b[0m \u001b[0;34m=\u001b[0m \u001b[0mexperiment\u001b[0m\u001b[0;34m\u001b[0m\u001b[0;34m\u001b[0m\u001b[0m\n\u001b[0;32m--> 163\u001b[0;31m         \u001b[0mutils\u001b[0m\u001b[0;34m.\u001b[0m\u001b[0mdistributed_cmd_run\u001b[0m\u001b[0;34m(\u001b[0m\u001b[0mself\u001b[0m\u001b[0;34m.\u001b[0m\u001b[0mrun_experiment\u001b[0m\u001b[0;34m,\u001b[0m \u001b[0mdistributed\u001b[0m\u001b[0;34m)\u001b[0m\u001b[0;34m\u001b[0m\u001b[0;34m\u001b[0m\u001b[0m\n\u001b[0m\u001b[1;32m    164\u001b[0m \u001b[0;34m\u001b[0m\u001b[0m\n\u001b[1;32m    165\u001b[0m     def infer(\n",
            "\u001b[0;32m/usr/local/lib/python3.6/dist-packages/catalyst/utils/scripts.py\u001b[0m in \u001b[0;36mdistributed_cmd_run\u001b[0;34m(worker_fn, distributed, *args, **kwargs)\u001b[0m\n\u001b[1;32m    130\u001b[0m         \u001b[0;32mor\u001b[0m \u001b[0mworld_size\u001b[0m \u001b[0;34m<=\u001b[0m \u001b[0;36m1\u001b[0m\u001b[0;34m\u001b[0m\u001b[0;34m\u001b[0m\u001b[0m\n\u001b[1;32m    131\u001b[0m     ):\n\u001b[0;32m--> 132\u001b[0;31m         \u001b[0mworker_fn\u001b[0m\u001b[0;34m(\u001b[0m\u001b[0;34m*\u001b[0m\u001b[0margs\u001b[0m\u001b[0;34m,\u001b[0m \u001b[0;34m**\u001b[0m\u001b[0mkwargs\u001b[0m\u001b[0;34m)\u001b[0m\u001b[0;34m\u001b[0m\u001b[0;34m\u001b[0m\u001b[0m\n\u001b[0m\u001b[1;32m    133\u001b[0m     \u001b[0;32melif\u001b[0m \u001b[0mlocal_rank\u001b[0m \u001b[0;32mis\u001b[0m \u001b[0;32mnot\u001b[0m \u001b[0;32mNone\u001b[0m\u001b[0;34m:\u001b[0m\u001b[0;34m\u001b[0m\u001b[0;34m\u001b[0m\u001b[0m\n\u001b[1;32m    134\u001b[0m         \u001b[0mtorch\u001b[0m\u001b[0;34m.\u001b[0m\u001b[0mcuda\u001b[0m\u001b[0;34m.\u001b[0m\u001b[0mset_device\u001b[0m\u001b[0;34m(\u001b[0m\u001b[0mint\u001b[0m\u001b[0;34m(\u001b[0m\u001b[0mlocal_rank\u001b[0m\u001b[0;34m)\u001b[0m\u001b[0;34m)\u001b[0m\u001b[0;34m\u001b[0m\u001b[0;34m\u001b[0m\u001b[0m\n",
            "\u001b[0;32m/usr/local/lib/python3.6/dist-packages/catalyst/core/runner.py\u001b[0m in \u001b[0;36mrun_experiment\u001b[0;34m(self, experiment)\u001b[0m\n\u001b[1;32m    985\u001b[0m             \u001b[0;32mif\u001b[0m \u001b[0m_exception_handler_check\u001b[0m\u001b[0;34m(\u001b[0m\u001b[0mgetattr\u001b[0m\u001b[0;34m(\u001b[0m\u001b[0mself\u001b[0m\u001b[0;34m,\u001b[0m \u001b[0;34m\"callbacks\"\u001b[0m\u001b[0;34m,\u001b[0m \u001b[0;32mNone\u001b[0m\u001b[0;34m)\u001b[0m\u001b[0;34m)\u001b[0m\u001b[0;34m:\u001b[0m\u001b[0;34m\u001b[0m\u001b[0;34m\u001b[0m\u001b[0m\n\u001b[1;32m    986\u001b[0m                 \u001b[0mself\u001b[0m\u001b[0;34m.\u001b[0m\u001b[0mexception\u001b[0m \u001b[0;34m=\u001b[0m \u001b[0mex\u001b[0m\u001b[0;34m\u001b[0m\u001b[0;34m\u001b[0m\u001b[0m\n\u001b[0;32m--> 987\u001b[0;31m                 \u001b[0mself\u001b[0m\u001b[0;34m.\u001b[0m\u001b[0m_run_event\u001b[0m\u001b[0;34m(\u001b[0m\u001b[0;34m\"on_exception\"\u001b[0m\u001b[0;34m)\u001b[0m\u001b[0;34m\u001b[0m\u001b[0;34m\u001b[0m\u001b[0m\n\u001b[0m\u001b[1;32m    988\u001b[0m             \u001b[0;32melse\u001b[0m\u001b[0;34m:\u001b[0m\u001b[0;34m\u001b[0m\u001b[0;34m\u001b[0m\u001b[0m\n\u001b[1;32m    989\u001b[0m                 \u001b[0;32mraise\u001b[0m \u001b[0mex\u001b[0m\u001b[0;34m\u001b[0m\u001b[0;34m\u001b[0m\u001b[0m\n",
            "\u001b[0;32m/usr/local/lib/python3.6/dist-packages/catalyst/core/runner.py\u001b[0m in \u001b[0;36m_run_event\u001b[0;34m(self, event)\u001b[0m\n\u001b[1;32m    778\u001b[0m         \"\"\"\n\u001b[1;32m    779\u001b[0m         \u001b[0;32mfor\u001b[0m \u001b[0mcallback\u001b[0m \u001b[0;32min\u001b[0m \u001b[0mself\u001b[0m\u001b[0;34m.\u001b[0m\u001b[0mcallbacks\u001b[0m\u001b[0;34m.\u001b[0m\u001b[0mvalues\u001b[0m\u001b[0;34m(\u001b[0m\u001b[0;34m)\u001b[0m\u001b[0;34m:\u001b[0m\u001b[0;34m\u001b[0m\u001b[0;34m\u001b[0m\u001b[0m\n\u001b[0;32m--> 780\u001b[0;31m             \u001b[0mgetattr\u001b[0m\u001b[0;34m(\u001b[0m\u001b[0mcallback\u001b[0m\u001b[0;34m,\u001b[0m \u001b[0mevent\u001b[0m\u001b[0;34m)\u001b[0m\u001b[0;34m(\u001b[0m\u001b[0mself\u001b[0m\u001b[0;34m)\u001b[0m\u001b[0;34m\u001b[0m\u001b[0;34m\u001b[0m\u001b[0m\n\u001b[0m\u001b[1;32m    781\u001b[0m \u001b[0;34m\u001b[0m\u001b[0m\n\u001b[1;32m    782\u001b[0m     def _batch2device(\n",
            "\u001b[0;32m/usr/local/lib/python3.6/dist-packages/catalyst/core/callbacks/exception.py\u001b[0m in \u001b[0;36mon_exception\u001b[0;34m(self, runner)\u001b[0m\n\u001b[1;32m     22\u001b[0m \u001b[0;34m\u001b[0m\u001b[0m\n\u001b[1;32m     23\u001b[0m         \u001b[0;32mif\u001b[0m \u001b[0mrunner\u001b[0m\u001b[0;34m.\u001b[0m\u001b[0mneed_exception_reraise\u001b[0m\u001b[0;34m:\u001b[0m\u001b[0;34m\u001b[0m\u001b[0;34m\u001b[0m\u001b[0m\n\u001b[0;32m---> 24\u001b[0;31m             \u001b[0;32mraise\u001b[0m \u001b[0mexception\u001b[0m\u001b[0;34m\u001b[0m\u001b[0;34m\u001b[0m\u001b[0m\n\u001b[0m\u001b[1;32m     25\u001b[0m \u001b[0;34m\u001b[0m\u001b[0m\n\u001b[1;32m     26\u001b[0m \u001b[0;34m\u001b[0m\u001b[0m\n",
            "\u001b[0;32m/usr/local/lib/python3.6/dist-packages/catalyst/core/runner.py\u001b[0m in \u001b[0;36mrun_experiment\u001b[0;34m(self, experiment)\u001b[0m\n\u001b[1;32m    973\u001b[0m         \u001b[0;32mtry\u001b[0m\u001b[0;34m:\u001b[0m\u001b[0;34m\u001b[0m\u001b[0;34m\u001b[0m\u001b[0m\n\u001b[1;32m    974\u001b[0m             \u001b[0;32mfor\u001b[0m \u001b[0mstage\u001b[0m \u001b[0;32min\u001b[0m \u001b[0mself\u001b[0m\u001b[0;34m.\u001b[0m\u001b[0mexperiment\u001b[0m\u001b[0;34m.\u001b[0m\u001b[0mstages\u001b[0m\u001b[0;34m:\u001b[0m\u001b[0;34m\u001b[0m\u001b[0;34m\u001b[0m\u001b[0m\n\u001b[0;32m--> 975\u001b[0;31m                 \u001b[0mself\u001b[0m\u001b[0;34m.\u001b[0m\u001b[0m_run_stage\u001b[0m\u001b[0;34m(\u001b[0m\u001b[0mstage\u001b[0m\u001b[0;34m)\u001b[0m\u001b[0;34m\u001b[0m\u001b[0;34m\u001b[0m\u001b[0m\n\u001b[0m\u001b[1;32m    976\u001b[0m         \u001b[0;32mexcept\u001b[0m \u001b[0;34m(\u001b[0m\u001b[0mException\u001b[0m\u001b[0;34m,\u001b[0m \u001b[0mKeyboardInterrupt\u001b[0m\u001b[0;34m)\u001b[0m \u001b[0;32mas\u001b[0m \u001b[0mex\u001b[0m\u001b[0;34m:\u001b[0m\u001b[0;34m\u001b[0m\u001b[0;34m\u001b[0m\u001b[0m\n\u001b[1;32m    977\u001b[0m             \u001b[0;32mfrom\u001b[0m \u001b[0mcatalyst\u001b[0m\u001b[0;34m.\u001b[0m\u001b[0mcore\u001b[0m\u001b[0;34m.\u001b[0m\u001b[0mcallbacks\u001b[0m\u001b[0;34m.\u001b[0m\u001b[0mexception\u001b[0m \u001b[0;32mimport\u001b[0m \u001b[0mExceptionCallback\u001b[0m\u001b[0;34m\u001b[0m\u001b[0;34m\u001b[0m\u001b[0m\n",
            "\u001b[0;32m/usr/local/lib/python3.6/dist-packages/catalyst/core/runner.py\u001b[0m in \u001b[0;36m_run_stage\u001b[0;34m(self, stage)\u001b[0m\n\u001b[1;32m    941\u001b[0m             )\n\u001b[1;32m    942\u001b[0m             \u001b[0mself\u001b[0m\u001b[0;34m.\u001b[0m\u001b[0m_run_event\u001b[0m\u001b[0;34m(\u001b[0m\u001b[0;34m\"on_epoch_start\"\u001b[0m\u001b[0;34m)\u001b[0m\u001b[0;34m\u001b[0m\u001b[0;34m\u001b[0m\u001b[0m\n\u001b[0;32m--> 943\u001b[0;31m             \u001b[0mself\u001b[0m\u001b[0;34m.\u001b[0m\u001b[0m_run_epoch\u001b[0m\u001b[0;34m(\u001b[0m\u001b[0mstage\u001b[0m\u001b[0;34m=\u001b[0m\u001b[0mstage\u001b[0m\u001b[0;34m,\u001b[0m \u001b[0mepoch\u001b[0m\u001b[0;34m=\u001b[0m\u001b[0mself\u001b[0m\u001b[0;34m.\u001b[0m\u001b[0mepoch\u001b[0m\u001b[0;34m)\u001b[0m\u001b[0;34m\u001b[0m\u001b[0;34m\u001b[0m\u001b[0m\n\u001b[0m\u001b[1;32m    944\u001b[0m             \u001b[0mself\u001b[0m\u001b[0;34m.\u001b[0m\u001b[0m_run_event\u001b[0m\u001b[0;34m(\u001b[0m\u001b[0;34m\"on_epoch_end\"\u001b[0m\u001b[0;34m)\u001b[0m\u001b[0;34m\u001b[0m\u001b[0;34m\u001b[0m\u001b[0m\n\u001b[1;32m    945\u001b[0m \u001b[0;34m\u001b[0m\u001b[0m\n",
            "\u001b[0;32m/usr/local/lib/python3.6/dist-packages/catalyst/core/runner.py\u001b[0m in \u001b[0;36m_run_epoch\u001b[0;34m(self, stage, epoch)\u001b[0m\n\u001b[1;32m    920\u001b[0m             \u001b[0mself\u001b[0m\u001b[0;34m.\u001b[0m\u001b[0m_run_event\u001b[0m\u001b[0;34m(\u001b[0m\u001b[0;34m\"on_loader_start\"\u001b[0m\u001b[0;34m)\u001b[0m\u001b[0;34m\u001b[0m\u001b[0;34m\u001b[0m\u001b[0m\n\u001b[1;32m    921\u001b[0m             \u001b[0;32mwith\u001b[0m \u001b[0mtorch\u001b[0m\u001b[0;34m.\u001b[0m\u001b[0mset_grad_enabled\u001b[0m\u001b[0;34m(\u001b[0m\u001b[0mself\u001b[0m\u001b[0;34m.\u001b[0m\u001b[0mis_train_loader\u001b[0m\u001b[0;34m)\u001b[0m\u001b[0;34m:\u001b[0m\u001b[0;34m\u001b[0m\u001b[0;34m\u001b[0m\u001b[0m\n\u001b[0;32m--> 922\u001b[0;31m                 \u001b[0mself\u001b[0m\u001b[0;34m.\u001b[0m\u001b[0m_run_loader\u001b[0m\u001b[0;34m(\u001b[0m\u001b[0mloader\u001b[0m\u001b[0;34m)\u001b[0m\u001b[0;34m\u001b[0m\u001b[0;34m\u001b[0m\u001b[0m\n\u001b[0m\u001b[1;32m    923\u001b[0m             \u001b[0mself\u001b[0m\u001b[0;34m.\u001b[0m\u001b[0m_run_event\u001b[0m\u001b[0;34m(\u001b[0m\u001b[0;34m\"on_loader_end\"\u001b[0m\u001b[0;34m)\u001b[0m\u001b[0;34m\u001b[0m\u001b[0;34m\u001b[0m\u001b[0m\n\u001b[1;32m    924\u001b[0m \u001b[0;34m\u001b[0m\u001b[0m\n",
            "\u001b[0;32m/usr/local/lib/python3.6/dist-packages/catalyst/core/runner.py\u001b[0m in \u001b[0;36m_run_loader\u001b[0;34m(self, loader)\u001b[0m\n\u001b[1;32m    852\u001b[0m \u001b[0;34m\u001b[0m\u001b[0m\n\u001b[1;32m    853\u001b[0m         \u001b[0mself\u001b[0m\u001b[0;34m.\u001b[0m\u001b[0mloader_sample_step\u001b[0m \u001b[0;34m=\u001b[0m \u001b[0;36m0\u001b[0m\u001b[0;34m\u001b[0m\u001b[0;34m\u001b[0m\u001b[0m\n\u001b[0;32m--> 854\u001b[0;31m         \u001b[0;32mfor\u001b[0m \u001b[0mi\u001b[0m\u001b[0;34m,\u001b[0m \u001b[0mbatch\u001b[0m \u001b[0;32min\u001b[0m \u001b[0menumerate\u001b[0m\u001b[0;34m(\u001b[0m\u001b[0mloader\u001b[0m\u001b[0;34m)\u001b[0m\u001b[0;34m:\u001b[0m\u001b[0;34m\u001b[0m\u001b[0;34m\u001b[0m\u001b[0m\n\u001b[0m\u001b[1;32m    855\u001b[0m             \u001b[0mself\u001b[0m\u001b[0;34m.\u001b[0m\u001b[0mglobal_batch_step\u001b[0m \u001b[0;34m+=\u001b[0m \u001b[0;36m1\u001b[0m\u001b[0;34m\u001b[0m\u001b[0;34m\u001b[0m\u001b[0m\n\u001b[1;32m    856\u001b[0m             \u001b[0mself\u001b[0m\u001b[0;34m.\u001b[0m\u001b[0mloader_batch_step\u001b[0m \u001b[0;34m=\u001b[0m \u001b[0mi\u001b[0m \u001b[0;34m+\u001b[0m \u001b[0;36m1\u001b[0m\u001b[0;34m\u001b[0m\u001b[0;34m\u001b[0m\u001b[0m\n",
            "\u001b[0;32m/usr/local/lib/python3.6/dist-packages/torch/utils/data/dataloader.py\u001b[0m in \u001b[0;36m__next__\u001b[0;34m(self)\u001b[0m\n\u001b[1;32m    361\u001b[0m \u001b[0;34m\u001b[0m\u001b[0m\n\u001b[1;32m    362\u001b[0m     \u001b[0;32mdef\u001b[0m \u001b[0m__next__\u001b[0m\u001b[0;34m(\u001b[0m\u001b[0mself\u001b[0m\u001b[0;34m)\u001b[0m\u001b[0;34m:\u001b[0m\u001b[0;34m\u001b[0m\u001b[0;34m\u001b[0m\u001b[0m\n\u001b[0;32m--> 363\u001b[0;31m         \u001b[0mdata\u001b[0m \u001b[0;34m=\u001b[0m \u001b[0mself\u001b[0m\u001b[0;34m.\u001b[0m\u001b[0m_next_data\u001b[0m\u001b[0;34m(\u001b[0m\u001b[0;34m)\u001b[0m\u001b[0;34m\u001b[0m\u001b[0;34m\u001b[0m\u001b[0m\n\u001b[0m\u001b[1;32m    364\u001b[0m         \u001b[0mself\u001b[0m\u001b[0;34m.\u001b[0m\u001b[0m_num_yielded\u001b[0m \u001b[0;34m+=\u001b[0m \u001b[0;36m1\u001b[0m\u001b[0;34m\u001b[0m\u001b[0;34m\u001b[0m\u001b[0m\n\u001b[1;32m    365\u001b[0m         \u001b[0;32mif\u001b[0m \u001b[0mself\u001b[0m\u001b[0;34m.\u001b[0m\u001b[0m_dataset_kind\u001b[0m \u001b[0;34m==\u001b[0m \u001b[0m_DatasetKind\u001b[0m\u001b[0;34m.\u001b[0m\u001b[0mIterable\u001b[0m \u001b[0;32mand\u001b[0m\u001b[0;31m \u001b[0m\u001b[0;31m\\\u001b[0m\u001b[0;34m\u001b[0m\u001b[0;34m\u001b[0m\u001b[0m\n",
            "\u001b[0;32m/usr/local/lib/python3.6/dist-packages/torch/utils/data/dataloader.py\u001b[0m in \u001b[0;36m_next_data\u001b[0;34m(self)\u001b[0m\n\u001b[1;32m    987\u001b[0m             \u001b[0;32melse\u001b[0m\u001b[0;34m:\u001b[0m\u001b[0;34m\u001b[0m\u001b[0;34m\u001b[0m\u001b[0m\n\u001b[1;32m    988\u001b[0m                 \u001b[0;32mdel\u001b[0m \u001b[0mself\u001b[0m\u001b[0;34m.\u001b[0m\u001b[0m_task_info\u001b[0m\u001b[0;34m[\u001b[0m\u001b[0midx\u001b[0m\u001b[0;34m]\u001b[0m\u001b[0;34m\u001b[0m\u001b[0;34m\u001b[0m\u001b[0m\n\u001b[0;32m--> 989\u001b[0;31m                 \u001b[0;32mreturn\u001b[0m \u001b[0mself\u001b[0m\u001b[0;34m.\u001b[0m\u001b[0m_process_data\u001b[0m\u001b[0;34m(\u001b[0m\u001b[0mdata\u001b[0m\u001b[0;34m)\u001b[0m\u001b[0;34m\u001b[0m\u001b[0;34m\u001b[0m\u001b[0m\n\u001b[0m\u001b[1;32m    990\u001b[0m \u001b[0;34m\u001b[0m\u001b[0m\n\u001b[1;32m    991\u001b[0m     \u001b[0;32mdef\u001b[0m \u001b[0m_try_put_index\u001b[0m\u001b[0;34m(\u001b[0m\u001b[0mself\u001b[0m\u001b[0;34m)\u001b[0m\u001b[0;34m:\u001b[0m\u001b[0;34m\u001b[0m\u001b[0;34m\u001b[0m\u001b[0m\n",
            "\u001b[0;32m/usr/local/lib/python3.6/dist-packages/torch/utils/data/dataloader.py\u001b[0m in \u001b[0;36m_process_data\u001b[0;34m(self, data)\u001b[0m\n\u001b[1;32m   1012\u001b[0m         \u001b[0mself\u001b[0m\u001b[0;34m.\u001b[0m\u001b[0m_try_put_index\u001b[0m\u001b[0;34m(\u001b[0m\u001b[0;34m)\u001b[0m\u001b[0;34m\u001b[0m\u001b[0;34m\u001b[0m\u001b[0m\n\u001b[1;32m   1013\u001b[0m         \u001b[0;32mif\u001b[0m \u001b[0misinstance\u001b[0m\u001b[0;34m(\u001b[0m\u001b[0mdata\u001b[0m\u001b[0;34m,\u001b[0m \u001b[0mExceptionWrapper\u001b[0m\u001b[0;34m)\u001b[0m\u001b[0;34m:\u001b[0m\u001b[0;34m\u001b[0m\u001b[0;34m\u001b[0m\u001b[0m\n\u001b[0;32m-> 1014\u001b[0;31m             \u001b[0mdata\u001b[0m\u001b[0;34m.\u001b[0m\u001b[0mreraise\u001b[0m\u001b[0;34m(\u001b[0m\u001b[0;34m)\u001b[0m\u001b[0;34m\u001b[0m\u001b[0;34m\u001b[0m\u001b[0m\n\u001b[0m\u001b[1;32m   1015\u001b[0m         \u001b[0;32mreturn\u001b[0m \u001b[0mdata\u001b[0m\u001b[0;34m\u001b[0m\u001b[0;34m\u001b[0m\u001b[0m\n\u001b[1;32m   1016\u001b[0m \u001b[0;34m\u001b[0m\u001b[0m\n",
            "\u001b[0;32m/usr/local/lib/python3.6/dist-packages/torch/_utils.py\u001b[0m in \u001b[0;36mreraise\u001b[0;34m(self)\u001b[0m\n\u001b[1;32m    393\u001b[0m             \u001b[0;31m# (https://bugs.python.org/issue2651), so we work around it.\u001b[0m\u001b[0;34m\u001b[0m\u001b[0;34m\u001b[0m\u001b[0;34m\u001b[0m\u001b[0m\n\u001b[1;32m    394\u001b[0m             \u001b[0mmsg\u001b[0m \u001b[0;34m=\u001b[0m \u001b[0mKeyErrorMessage\u001b[0m\u001b[0;34m(\u001b[0m\u001b[0mmsg\u001b[0m\u001b[0;34m)\u001b[0m\u001b[0;34m\u001b[0m\u001b[0;34m\u001b[0m\u001b[0m\n\u001b[0;32m--> 395\u001b[0;31m         \u001b[0;32mraise\u001b[0m \u001b[0mself\u001b[0m\u001b[0;34m.\u001b[0m\u001b[0mexc_type\u001b[0m\u001b[0;34m(\u001b[0m\u001b[0mmsg\u001b[0m\u001b[0;34m)\u001b[0m\u001b[0;34m\u001b[0m\u001b[0;34m\u001b[0m\u001b[0m\n\u001b[0m",
            "\u001b[0;31mIndexError\u001b[0m: Caught IndexError in DataLoader worker process 0.\nOriginal Traceback (most recent call last):\n  File \"/usr/local/lib/python3.6/dist-packages/torch/utils/data/_utils/worker.py\", line 185, in _worker_loop\n    data = fetcher.fetch(index)\n  File \"/usr/local/lib/python3.6/dist-packages/torch/utils/data/_utils/fetch.py\", line 44, in fetch\n    data = [self.dataset[idx] for idx in possibly_batched_index]\n  File \"/usr/local/lib/python3.6/dist-packages/torch/utils/data/_utils/fetch.py\", line 44, in <listcomp>\n    data = [self.dataset[idx] for idx in possibly_batched_index]\n  File \"<ipython-input-27-c8923602426c>\", line 23, in __getitem__\n    targets[m - 1] = 1.0\nIndexError: index 455 is out of bounds for axis 0 with size 453\n"
          ]
        }
      ]
    },
    {
      "cell_type": "code",
      "metadata": {
        "colab_type": "code",
        "id": "GQxuxPukCfN9",
        "colab": {}
      },
      "source": [
        "# model inference example\n",
        "# for prediction in runner.predict_loader(loader=loaders[\"valid\"]):\n",
        "#     assert prediction.detach().cpu().numpy().shape[-1] == MERCH_TYPE_NCLASSES-1"
      ],
      "execution_count": null,
      "outputs": []
    },
    {
      "cell_type": "code",
      "metadata": {
        "colab_type": "code",
        "id": "IFV8lYM9CfN_",
        "scrolled": true,
        "colab": {}
      },
      "source": [
        "# import plotly  # required for contrib\n",
        "# from catalyst.contrib.utils import plot_tensorboard_log\n",
        "\n",
        "# plot_tensorboard_log(logdir=\"./logs\", step=\"batch\")"
      ],
      "execution_count": null,
      "outputs": []
    },
    {
      "cell_type": "code",
      "metadata": {
        "colab_type": "code",
        "id": "Bte9iiW0CfOB",
        "scrolled": false,
        "colab": {}
      },
      "source": [
        "import plotly  # required for contrib\n",
        "from catalyst.contrib.utils import plot_tensorboard_log\n",
        "\n",
        "plot_tensorboard_log(\n",
        "    logdir=\"./logs\", \n",
        "    step=\"epoch\", \n",
        "    metrics=[\n",
        "        \"loss\", \"accuracy\", \"precision\", \"recall\", \"iou\", \n",
        "        \"map05\", \"map10\", \"map20\",\n",
        "        \"ap/mean\", \"auc/mean\"\n",
        "    ]\n",
        ")"
      ],
      "execution_count": null,
      "outputs": []
    },
    {
      "cell_type": "markdown",
      "metadata": {
        "colab_type": "text",
        "id": "eOBi1DqJPt_F"
      },
      "source": [
        "## Your task\n",
        "\n",
        "We suggest you to improve this baseline. Feel free to use any kind of model architectures, loss functions, inputs, etc. in your experiments.\n",
        "\n",
        "\n",
        "YOUR TASK is to predict purchases in `merchant_type` in **January-February 2020** for all the clients (50k) from the given dataset.\n",
        "\n",
        "SUBMISSION FORMAT: You should submit a `.csv` file in the following format. \n",
        "\n",
        "The submission file should contain two columns:\n",
        "* `party_rk` -- client unique identifier\n",
        "* `recommendations` -- list of the **top 30** predicted `merchant_type`, sorted by predicted proba (pay attention!) **separated by commas**. \n",
        "\n",
        "The `.csv` file separator should be **semicolon (\";\")**. The submission file example can be generated by the pipeline shown below.\n",
        "\n",
        "EVALUATION: Your submission will be evaluated by metric **MAP@30**. Scores for this part of the hackathon will be given according to the value of this metric.\n",
        "\n",
        "Good luck!"
      ]
    },
    {
      "cell_type": "markdown",
      "metadata": {
        "colab_type": "text",
        "id": "-30pWSiQL7vY"
      },
      "source": [
        "## Submission file example"
      ]
    },
    {
      "cell_type": "code",
      "metadata": {
        "colab_type": "code",
        "id": "ylgn_EIXMQrr",
        "colab": {}
      },
      "source": [
        "# create data loader for submission\n",
        "full_party = pd.read_csv(transactions_enhanced_path, usecols=['party_rk']).party_rk.unique()\n",
        "\n",
        "full_sum, full_trans_type, full_merchant_type, \\\n",
        "full_marital_status_desc, full_children_cnt, \\\n",
        "full_labels = prepare_data(\n",
        "    full_party, mode=\"submission\"\n",
        ")\n",
        "full_dataset = RSDataset(\n",
        "   full_sum, full_trans_type, full_merchant_type, full_marital_status_desc, full_children_cnt, full_labels\n",
        ")\n",
        "full_loader = DataLoader(\n",
        "    full_dataset, batch_size=64, shuffle=False, num_workers=8, drop_last=False)"
      ],
      "execution_count": null,
      "outputs": []
    },
    {
      "cell_type": "code",
      "metadata": {
        "colab_type": "code",
        "id": "8tdEPJ0gMahr",
        "colab": {}
      },
      "source": [
        "# get predictions from the model\n",
        "predictions = []\n",
        "for scores in tqdm(runner.predict_loader(loader=full_loader), total = len(full_loader)):\n",
        "    _, top_indices = scores.topk(k=30, dim=1, largest=True, sorted=True)\n",
        "    top_indices += 1\n",
        "    predictions += top_indices.detach().cpu().tolist()"
      ],
      "execution_count": null,
      "outputs": []
    },
    {
      "cell_type": "code",
      "metadata": {
        "colab_type": "code",
        "id": "xZhfVRYmMpdr",
        "colab": {}
      },
      "source": [
        "# inverse mapping for merchant_type in predictions\n",
        "merchant_type_inverse_mapping = {k: v for v, k in mappings['merchant_type'].items()}\n",
        "def inverse_mapping(x):\n",
        "    return list(map(merchant_type_inverse_mapping.get, x))\n",
        "\n",
        "predictions = list(map(inverse_mapping, predictions))"
      ],
      "execution_count": null,
      "outputs": []
    },
    {
      "cell_type": "code",
      "metadata": {
        "colab_type": "code",
        "id": "6_CjmgByL9Vy",
        "colab": {}
      },
      "source": [
        "# create submission table\n",
        "submission = pd.DataFrame({\n",
        "    \"party_rk\" : full_party, \n",
        "    \"recommendations\" : predictions\n",
        "})\n",
        "submission['recommendations'] = submission['recommendations'].apply(lambda x: \",\".join(map(str, x)))\n",
        "\n",
        "submission.to_csv(r'submission_T^2.csv', index=False, sep=\";\")"
      ],
      "execution_count": null,
      "outputs": []
    },
    {
      "cell_type": "code",
      "metadata": {
        "id": "0gdhunIhZVOx",
        "colab_type": "code",
        "colab": {}
      },
      "source": [
        ""
      ],
      "execution_count": null,
      "outputs": []
    }
  ]
}