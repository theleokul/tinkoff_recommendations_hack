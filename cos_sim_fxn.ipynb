{
 "cells": [
  {
   "cell_type": "raw",
   "metadata": {},
   "source": [
    "import numpy as np\n",
    "import pandas as pd\n",
    "import sklearn as sk\n",
    "from sklearn.metrics.pairwise import cosine_similarity\n",
    "\n",
    "def get_prod_cos_sim(prty_rk, min_cos) :\n",
    "    #open ds\n",
    "    orig_prod_csv = pd.read_csv('avk_hackathon_data_party_products.csv',header=0, delim_whitespace=False)\n",
    "    prod_csv_srtd = orig_prod_csv.sort_values('party_rk')\n",
    "    #print(prod_csv_srtd.head())\n",
    "    prod_csv_srtd.party_rk.unique()\n",
    "    prod_csv_srtd = prod_csv_srtd.set_index(\"party_rk\")\n",
    "    \n",
    "    #get cosine sim for given party rk\n",
    "    prod_cos_sim = cosine_similarity( prod_csv_srtd.values, prod_csv_srtd.loc[[prty_rk]])\n",
    "    \n",
    "    #add to table, sort by cosine\n",
    "    prod_csv_srtd['cosine_prdct'] = prod_cos_sim\n",
    "    prod_csv_srtd_cos = prod_csv_srtd.sort_values('cosine_prdct', ascending=False)\n",
    "    \n",
    "    prod_csv_srtd_cos_min_cos= prod_csv_srtd_cos.loc[(prod_csv_srtd_cos['cosine_prdct'] < 0.99999) & (prod_csv_srtd_cos['cosine_prdct'] > min_cos)]\n",
    "    prod_csv_srtd_cos_min_cos=prod_csv_srtd_cos_min_cos.drop_duplicates(subset = [\"product1\",\"product2\",\"product3\",\"product4\",\"product5\",\"product6\",\"product7\"], keep = 'first')\n",
    "    \n",
    "    prod_csv_srtd_cos_min_cos\n",
    "    return prod_csv_srtd_cos_min_cos\n",
    "\n",
    "get_prod_cos_sim(20, 0.80)"
   ]
  },
  {
   "cell_type": "code",
   "execution_count": null,
   "metadata": {},
   "outputs": [],
   "source": []
  }
 ],
 "metadata": {
  "kernelspec": {
   "display_name": "Python 3",
   "language": "python",
   "name": "python3"
  },
  "language_info": {
   "codemirror_mode": {
    "name": "ipython",
    "version": 3
   },
   "file_extension": ".py",
   "mimetype": "text/x-python",
   "name": "python",
   "nbconvert_exporter": "python",
   "pygments_lexer": "ipython3",
   "version": "3.6.9"
  }
 },
 "nbformat": 4,
 "nbformat_minor": 2
}
